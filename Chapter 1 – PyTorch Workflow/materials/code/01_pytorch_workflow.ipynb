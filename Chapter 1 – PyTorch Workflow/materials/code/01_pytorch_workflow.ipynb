{
 "cells": [
  {
   "cell_type": "markdown",
   "id": "36b388ce",
   "metadata": {},
   "source": [
    "**PyTorch WorkFlow Fundamentals:**"
   ]
  },
  {
   "cell_type": "markdown",
   "id": "aa1fce7f",
   "metadata": {},
   "source": [
    "If you ever stuck, don't forget to check the tutorail:\n",
    "https://www.learnpytorch.io/01_pytorch_workflow/"
   ]
  },
  {
   "cell_type": "markdown",
   "id": "27012304",
   "metadata": {},
   "source": [
    "- Importing libraries"
   ]
  },
  {
   "cell_type": "code",
   "execution_count": null,
   "id": "b666d56b",
   "metadata": {},
   "outputs": [
    {
     "name": "stdout",
     "output_type": "stream",
     "text": [
      "PyTorch version: 2.6.0+cpu\n"
     ]
    }
   ],
   "source": [
    "import torch\n",
    "from torch import nn\n",
    "# nn contains all of PyTorch's building blocks for neural networks\n",
    "import matplotlib.pyplot as plt\n",
    "\n",
    "# Check PyTorch version\n",
    "print(f\"PyTorch version: {torch.__version__}\")"
   ]
  },
  {
   "cell_type": "markdown",
   "id": "6f649657",
   "metadata": {},
   "source": [
    "- Squeeze and Unsqueeze"
   ]
  },
  {
   "cell_type": "code",
   "execution_count": 53,
   "id": "af63a332",
   "metadata": {},
   "outputs": [
    {
     "name": "stdout",
     "output_type": "stream",
     "text": [
      "Before: torch.Size([2, 1, 3])\n",
      "After: torch.Size([2, 3])\n"
     ]
    }
   ],
   "source": [
    "# remove only when size is 1\n",
    "x = torch.randn(2, 1, 3)\n",
    "print(f\"Before: {x.shape}\")\n",
    "y = x.squeeze(dim=1)\n",
    "print(f\"After: {y.shape}\")"
   ]
  },
  {
   "cell_type": "code",
   "execution_count": null,
   "id": "3fd07502",
   "metadata": {},
   "outputs": [
    {
     "name": "stdout",
     "output_type": "stream",
     "text": [
      "Before: torch.Size([3, 5, 4])\n",
      "After: torch.Size([3, 5, 4])\n"
     ]
    }
   ],
   "source": [
    "# if there is no dimension of 1 squeeze do nothing\n",
    "x = torch.randn(3, 5, 4)\n",
    "print(f\"Before: {x.shape}\")\n",
    "y = x.squeeze(dim = 1) # dim=1 has size 5 → nothing happens\n",
    "print(f\"After: {y.shape}\")"
   ]
  },
  {
   "cell_type": "code",
   "execution_count": 55,
   "id": "fe566e46",
   "metadata": {},
   "outputs": [
    {
     "name": "stdout",
     "output_type": "stream",
     "text": [
      "Before : torch.Size([1, 4, 5, 1, 6, 1])\n",
      "After : torch.Size([4, 5, 6])\n"
     ]
    }
   ],
   "source": [
    "# if no dim is passed then all the dimension with 1 will be removed\n",
    "x = torch.randn(1, 4, 5, 1, 6, 1)\n",
    "print(f\"Before : {x.shape}\")\n",
    "\n",
    "y = x.squeeze()\n",
    "print(f\"After : {y.shape}\")"
   ]
  },
  {
   "cell_type": "code",
   "execution_count": null,
   "id": "292bd7be",
   "metadata": {},
   "outputs": [
    {
     "name": "stdout",
     "output_type": "stream",
     "text": [
      "Dimension before unsqueezing: torch.Size([2, 2])\n",
      "Dimension after unsqueezing : torch.Size([1, 2, 2])\n",
      "Dimension after squeezing   : torch.Size([2, 2])\n",
      "x before unsqueezing: \n",
      "tensor([[1, 2],\n",
      "        [3, 4]])\n",
      "x after unsqueezing : \n",
      "tensor([[[1, 2],\n",
      "         [3, 4]]])\n",
      "x after squeezing   : \n",
      "tensor([[1, 2],\n",
      "        [3, 4]])\n"
     ]
    }
   ],
   "source": [
    "x = torch.tensor([[1, 2], [3, 4]]) # 2D tensor\n",
    "# Unsqueezing x\n",
    "x_unsqueezed = x.unsqueeze(dim = 0)\n",
    "# Squeezing x_unsqueezed\n",
    "x_squeezed = x_unsqueezed.squeeze(dim = 0)\n",
    "print(f\"Dimension before unsqueezing: {x.shape}\")\n",
    "print(f\"Dimension after unsqueezing : {x_unsqueezed.shape}\")\n",
    "print(f\"Dimension after squeezing   : {x_squeezed.shape}\")\n",
    "\n",
    "print(f\"x before unsqueezing: \\n{x}\")\n",
    "print(f\"x after unsqueezing : \\n{x_unsqueezed}\")\n",
    "print(f\"x after squeezing   : \\n{x_squeezed}\")"
   ]
  },
  {
   "cell_type": "code",
   "execution_count": null,
   "id": "778a2262",
   "metadata": {},
   "outputs": [
    {
     "name": "stdout",
     "output_type": "stream",
     "text": [
      "Dimension before unsqueezing: torch.Size([2, 2])\n",
      "Dimension after unsqueezing : torch.Size([2, 1, 2])\n",
      "Dimension after squeezing   : torch.Size([2, 2])\n",
      "x before unsqueezing: \n",
      "tensor([[1, 2],\n",
      "        [3, 4]])\n",
      "x after unsqueezing : \n",
      "tensor([[[1, 2]],\n",
      "\n",
      "        [[3, 4]]])\n",
      "x after squeezing   : \n",
      "tensor([[1, 2],\n",
      "        [3, 4]])\n"
     ]
    }
   ],
   "source": [
    "x = torch.tensor([[1, 2], [3, 4]]) # 2D tensor\n",
    "# Unsqueezing x\n",
    "x_unsqueezed = x.unsqueeze(dim = 1)\n",
    "# Squeezing x_unsqueezed\n",
    "x_squeezed = x_unsqueezed.squeeze()\n",
    "print(f\"Dimension before unsqueezing: {x.shape}\")\n",
    "print(f\"Dimension after unsqueezing : {x_unsqueezed.shape}\")\n",
    "print(f\"Dimension after squeezing   : {x_squeezed.shape}\")\n",
    "\n",
    "print(f\"x before unsqueezing: \\n{x}\")\n",
    "print(f\"x after unsqueezing : \\n{x_unsqueezed}\")\n",
    "print(f\"x after squeezing   : \\n{x_squeezed}\")"
   ]
  },
  {
   "cell_type": "code",
   "execution_count": null,
   "id": "48bc54d9",
   "metadata": {},
   "outputs": [
    {
     "name": "stdout",
     "output_type": "stream",
     "text": [
      "Dimension before unsqueezing: torch.Size([2, 2])\n",
      "Dimension after unsqueezing : torch.Size([2, 2, 1])\n",
      "Dimension after squeezing   : torch.Size([2, 2])\n",
      "x before unsqueezing: \n",
      "tensor([[1, 2],\n",
      "        [3, 4]])\n",
      "x after unsqueezing : \n",
      "tensor([[[1],\n",
      "         [2]],\n",
      "\n",
      "        [[3],\n",
      "         [4]]])\n",
      "x after squeezing   : \n",
      "tensor([[1, 2],\n",
      "        [3, 4]])\n"
     ]
    }
   ],
   "source": [
    "x = torch.tensor([[1, 2], [3, 4]]) # 2D tensor\n",
    "# Unsqueezing x\n",
    "x_unsqueezed = x.unsqueeze(dim = 2)\n",
    "# Squeezing x_unsqueezed\n",
    "x_squeezed = x_unsqueezed.squeeze()\n",
    "print(f\"Dimension before unsqueezing: {x.shape}\")\n",
    "print(f\"Dimension after unsqueezing : {x_unsqueezed.shape}\")\n",
    "print(f\"Dimension after squeezing   : {x_squeezed.shape}\")\n",
    "\n",
    "print(f\"x before unsqueezing: \\n{x}\")\n",
    "print(f\"x after unsqueezing : \\n{x_unsqueezed}\")\n",
    "print(f\"x after squeezing   : \\n{x_squeezed}\")"
   ]
  },
  {
   "cell_type": "markdown",
   "id": "b8afaa44",
   "metadata": {},
   "source": [
    "**1. Data (prepare and loading)**"
   ]
  },
  {
   "cell_type": "code",
   "execution_count": null,
   "id": "d012b80a",
   "metadata": {},
   "outputs": [
    {
     "name": "stdout",
     "output_type": "stream",
     "text": [
      "Size of X:  torch.Size([50, 1])\n"
     ]
    }
   ],
   "source": [
    "# Create known parameters\n",
    "weight = 0.7\n",
    "bias = 0.3\n",
    "\n",
    "# Create data\n",
    "start = 0.0\n",
    "end = 1.0\n",
    "step = 0.02\n",
    "\n",
    "X = torch.arange(start, end, step).unsqueeze(dim=1)\n",
    "y = weight * X + bias # Actual value\n",
    "print(\"Size of X: \", X.shape)"
   ]
  },
  {
   "cell_type": "code",
   "execution_count": 60,
   "id": "4c254a89",
   "metadata": {},
   "outputs": [
    {
     "data": {
      "text/plain": [
       "tensor([[0.0026, 0.8346, 0.8788],\n",
       "        [0.6822, 0.1514, 0.0065],\n",
       "        [0.0939, 0.8729, 0.7401]])"
      ]
     },
     "execution_count": 60,
     "metadata": {},
     "output_type": "execute_result"
    }
   ],
   "source": [
    "v = torch.rand(5, 3)\n",
    "v[:3]"
   ]
  },
  {
   "cell_type": "markdown",
   "id": "9f4f7911",
   "metadata": {},
   "source": [
    "- Split data into training and testing set "
   ]
  },
  {
   "cell_type": "code",
   "execution_count": 61,
   "id": "4dec3ea2",
   "metadata": {},
   "outputs": [
    {
     "data": {
      "text/plain": [
       "(40, 40, 10, 10)"
      ]
     },
     "execution_count": 61,
     "metadata": {},
     "output_type": "execute_result"
    }
   ],
   "source": [
    "train_split = int(0.8 * len(X))\n",
    "X_train, y_train  = X[:train_split], y[:train_split]\n",
    "X_test, y_test = X[train_split:], y[train_split:]\n",
    "len(X_train), len(y_train),  len(X_test), len(y_test)"
   ]
  },
  {
   "cell_type": "code",
   "execution_count": null,
   "id": "5c566617",
   "metadata": {},
   "outputs": [],
   "source": [
    "def plot_predictions(X_train, y_train,X_test,\n",
    "                     y_test, predictions=None):\n",
    "    plt.figure(figsize=(10, 7))\n",
    "    plt.scatter(X_train, y_train, c='b',s=10, label=\"Training Data\")\n",
    "    plt.scatter(X_test, y_test, c= 'g', s = 10, label = \"Testing data\")\n",
    "    if predictions is not None:\n",
    "        plt.scatter(X_test, predictions, c = 'r', s=10, label = \"Predictions\")\n",
    "    # Change size + weight\n",
    "    plt.legend(prop={\"size\": 14, \"weight\": \"bold\"})\n",
    "    plt.show()"
   ]
  },
  {
   "cell_type": "code",
   "execution_count": 63,
   "id": "4bef5c9f",
   "metadata": {},
   "outputs": [
    {
     "data": {
      "image/png": "[encoded data removed]",
      "text/plain": [
       "<Figure size 1000x700 with 1 Axes>"
      ]
     },
     "metadata": {},
     "output_type": "display_data"
    }
   ],
   "source": [
    "plot_predictions(X_train, y_train, X_test, y_test)"
   ]
  },
  {
   "cell_type": "markdown",
   "id": "97947ec7",
   "metadata": {},
   "source": [
    "**2. Building Model** "
   ]
  },
  {
   "cell_type": "code",
   "execution_count": null,
   "id": "419f6de2",
   "metadata": {},
   "outputs": [],
   "source": [
    "# Create a liner regression model\n",
    "class LinearRegressionModel(nn.Module):\n",
    "    def __init__(self):\n",
    "        super().__init__() # this calls the constructor of nn.Module\n",
    "        self.weights = nn.Parameter(torch.randn(1, dtype=torch.float), requires_grad = True)\n",
    "        self.bias = nn.Parameter(torch.rand(1, dtype=torch.float), requires_grad=True)\n",
    "\n",
    "    def forward(self, x: torch.Tensor) -> torch.Tensor:\n",
    "        return self.weights*x + self.bias"
   ]
  },
  {
   "cell_type": "code",
   "execution_count": 65,
   "id": "55100159",
   "metadata": {},
   "outputs": [
    {
     "data": {
      "text/plain": [
       "[Parameter containing:\n",
       " tensor([0.3367], requires_grad=True),\n",
       " Parameter containing:\n",
       " tensor([0.3904], requires_grad=True)]"
      ]
     },
     "execution_count": 65,
     "metadata": {},
     "output_type": "execute_result"
    }
   ],
   "source": [
    "torch.manual_seed(42)\n",
    "model_0 = LinearRegressionModel()\n",
    "list(model_0.parameters())"
   ]
  },
  {
   "cell_type": "code",
   "execution_count": 66,
   "id": "df90422d",
   "metadata": {},
   "outputs": [
    {
     "data": {
      "text/plain": [
       "<generator object Module.parameters at 0x000002B03C82D8C0>"
      ]
     },
     "execution_count": 66,
     "metadata": {},
     "output_type": "execute_result"
    }
   ],
   "source": [
    "model_0.parameters()"
   ]
  },
  {
   "cell_type": "code",
   "execution_count": 67,
   "id": "12e8fa74",
   "metadata": {},
   "outputs": [
    {
     "data": {
      "text/plain": [
       "OrderedDict([('weights', tensor([0.3367])), ('bias', tensor([0.3904]))])"
      ]
     },
     "execution_count": 67,
     "metadata": {},
     "output_type": "execute_result"
    }
   ],
   "source": [
    "model_0.state_dict()"
   ]
  },
  {
   "cell_type": "code",
   "execution_count": 68,
   "id": "4b568bbc",
   "metadata": {},
   "outputs": [],
   "source": [
    "# lets predict using inference_mode()\n",
    "with torch.inference_mode():\n",
    "    y_preds = model_0(X_test)"
   ]
  },
  {
   "cell_type": "code",
   "execution_count": null,
   "id": "f1ea7749",
   "metadata": {},
   "outputs": [
    {
     "name": "stdout",
     "output_type": "stream",
     "text": [
      "Number of testing samples: 10\n",
      "Number of predictions made: 10\n",
      "Predicted values:\n",
      " tensor([[0.6598],\n",
      "        [0.6665],\n",
      "        [0.6733],\n",
      "        [0.6800],\n",
      "        [0.6867],\n",
      "        [0.6935],\n",
      "        [0.7002],\n",
      "        [0.7069],\n",
      "        [0.7137],\n",
      "        [0.7204]])\n"
     ]
    }
   ],
   "source": [
    "# Check the predictions\n",
    "print(f\"Number of testing samples: {len(X_test)}\")\n",
    "print(f\"Number of predictions made: {len(y_preds)}\")\n",
    "print(f\"Predicted values:\\n {y_preds}\")"
   ]
  },
  {
   "cell_type": "code",
   "execution_count": 70,
   "id": "c92ea9cb",
   "metadata": {},
   "outputs": [
    {
     "data": {
      "image/png": "[encoded data removed]",
      "text/plain": [
       "<Figure size 1000x700 with 1 Axes>"
      ]
     },
     "metadata": {},
     "output_type": "display_data"
    }
   ],
   "source": [
    "plot_predictions(X_train, y_train, X_test, y_test, predictions=y_preds)"
   ]
  },
  {
   "cell_type": "code",
   "execution_count": 71,
   "id": "fde85f16",
   "metadata": {},
   "outputs": [
    {
     "name": "stdout",
     "output_type": "stream",
     "text": [
      "Errors: \n",
      "tensor([[0.2002],\n",
      "        [0.2075],\n",
      "        [0.2147],\n",
      "        [0.2220],\n",
      "        [0.2293],\n",
      "        [0.2365],\n",
      "        [0.2438],\n",
      "        [0.2511],\n",
      "        [0.2583],\n",
      "        [0.2656]])\n"
     ]
    }
   ],
   "source": [
    "print(f\"Errors: \\n{y_test - y_preds}\")"
   ]
  },
  {
   "cell_type": "markdown",
   "id": "bad4939b",
   "metadata": {},
   "source": [
    "**3. Train Model:**"
   ]
  },
  {
   "cell_type": "code",
   "execution_count": null,
   "id": "35c66196",
   "metadata": {},
   "outputs": [],
   "source": [
    "# Create the loss function\n",
    "loss_fn = nn.L1Loss()  # MAE loss is same as L1Loss\n",
    "\n",
    "# Create the optimizer\n",
    "optimizer = torch.optim.SGD(params=model_0.parameters(), lr = 0.01)"
   ]
  },
  {
   "cell_type": "code",
   "execution_count": null,
   "id": "a9932f8d",
   "metadata": {},
   "outputs": [
    {
     "name": "stdout",
     "output_type": "stream",
     "text": [
      "Epoch: 0 | MAE Train Loss: 0.0817 | MAE Test Loss: 0.2266\n",
      "Epoch: 10 | MAE Train Loss: 0.06808 | MAE Test Loss: 0.1807\n",
      "Epoch: 20 | MAE Train Loss: 0.06258 | MAE Test Loss: 0.1563\n",
      "Epoch: 30 | MAE Train Loss: 0.05879 | MAE Test Loss: 0.1419\n",
      "Epoch: 40 | MAE Train Loss: 0.0553 | MAE Test Loss: 0.1308\n",
      "Epoch: 50 | MAE Train Loss: 0.05182 | MAE Test Loss: 0.1205\n",
      "Epoch: 60 | MAE Train Loss: 0.04839 | MAE Test Loss: 0.1122\n",
      "Epoch: 70 | MAE Train Loss: 0.04495 | MAE Test Loss: 0.1046\n",
      "Epoch: 80 | MAE Train Loss: 0.04152 | MAE Test Loss: 0.09638\n",
      "Epoch: 90 | MAE Train Loss: 0.03808 | MAE Test Loss: 0.0881\n"
     ]
    }
   ],
   "source": [
    "torch.manual_seed(42)\n",
    "\n",
    "epochs = 100\n",
    "\n",
    "# create empty list to track values\n",
    "train_loss_values = []\n",
    "test_loss_values = []\n",
    "epoch_count = []\n",
    "\n",
    "for epoch in range(epochs):\n",
    "\n",
    "    ### Training\n",
    "\n",
    "    # put the model in training mode\n",
    "    model_0.train()\n",
    "\n",
    "    # 1. Forward pass on train data using the forward method\n",
    "    y_pred = model_0(X_train)\n",
    "\n",
    "    # 2. Calculate the loss\n",
    "    loss = loss_fn(y_pred, y_train)\n",
    "\n",
    "    # 3. Zero grad\n",
    "    optimizer.zero_grad()\n",
    "\n",
    "    # 4. loss backwards\n",
    "    loss.backward()\n",
    "\n",
    "    # 5.Progress the optimizer\n",
    "    optimizer.step()\n",
    "\n",
    "    ### Testing\n",
    "\n",
    "    # Put the model in the evaluation mode\n",
    "    model_0.eval()\n",
    "\n",
    "    with torch.inference_mode():\n",
    "        test_pred = model_0(X_test)\n",
    "        test_loss = loss_fn(test_pred, y_test.type(torch.float))\n",
    "\n",
    "        if epoch % 10 == 0:\n",
    "            epoch_count.append(epoch)\n",
    "            train_loss_values.append(loss.detach().numpy())\n",
    "            test_loss_values.append(test_loss.detach().numpy())\n",
    "            print(f\"Epoch: {epoch} | MAE Train Loss: {loss:.4} | MAE Test Loss: {test_loss:.4}\")"
   ]
  },
  {
   "cell_type": "markdown",
   "id": "a3ca04db",
   "metadata": {},
   "source": [
    "```python\n",
    "y_pred = model_0(X_train)\n",
    "```\n",
    "\n",
    "**instead of**:\n",
    "\n",
    "```python\n",
    "y_pred = model_0.forward(X_train)\n",
    "```\n",
    "\n",
    "---\n",
    "\n",
    "**What’s happening under the hood?**\n",
    "\n",
    "* In PyTorch, `model_0` is an instance of a class that inherits from `torch.nn.Module`.\n",
    "\n",
    "* When you call `model_0(X_train)`, Python internally calls the `__call__` method of the model.\n",
    "\n",
    "* The `__call__` method in `torch.nn.Module` does some important things **before and after** calling `forward()`:\n",
    "\n",
    "  1. Runs registered hooks (like forward hooks).\n",
    "  2. Handles pre- and post-processing.\n",
    "  3. Calls your `forward()` method.\n",
    "  4. Manages things like `training` mode flags and hooks.\n",
    "\n",
    "* If you call `model_0.forward(X_train)` directly, you **bypass** all this extra functionality.\n",
    "\n",
    "---\n",
    "\n",
    "**Why is this important?**\n",
    "\n",
    "* Using `model_0(X_train)` ensures that everything PyTorch needs to do internally happens correctly.\n",
    "* It keeps your model compatible with features like hooks, proper tracking, and modules behavior.\n",
    "* It’s considered the **correct and recommended way** to get output from your model.\n",
    "\n",
    "---\n",
    "\n",
    "**Summary:**\n",
    "\n",
    "| Calling Method             | What happens                                                    | Recommended?           |\n",
    "| -------------------------- | --------------------------------------------------------------- | ---------------------- |\n",
    "| `model_0(X_train)`         | Calls `__call__`, which calls `forward()` + hooks + extra stuff | ✅ Yes (recommended)    |\n",
    "| `model_0.forward(X_train)` | Calls `forward()` directly, skips hooks and other internals     | ❌ No (not recommended) |"
   ]
  },
  {
   "cell_type": "code",
   "execution_count": null,
   "id": "39024471",
   "metadata": {},
   "outputs": [
    {
     "data": {
      "text/plain": [
       "<matplotlib.legend.Legend at 0x2b0350f16a0>"
      ]
     },
     "execution_count": 74,
     "metadata": {},
     "output_type": "execute_result"
    },
    {
     "data": {
      "image/png": "[encoded data removed]",
      "text/plain": [
       "<Figure size 640x480 with 1 Axes>"
      ]
     },
     "metadata": {},
     "output_type": "display_data"
    }
   ],
   "source": [
    "# Plot the loss curves\n",
    "plt.plot(epoch_count, train_loss_values, label=\"Train loss\")\n",
    "plt.plot(epoch_count, test_loss_values, label=\"Test loss\")\n",
    "plt.title(\"Training and test loss curves \")\n",
    "plt.xlabel(\"Epochs\")\n",
    "plt.ylabel(\"Loss\")\n",
    "plt.legend(prop={\"size\" : 14, \"weight\" : \"bold\"})"
   ]
  },
  {
   "cell_type": "markdown",
   "id": "3338aa3d",
   "metadata": {},
   "source": [
    "**4. Making predictions:**"
   ]
  },
  {
   "cell_type": "code",
   "execution_count": null,
   "id": "10d2c71a",
   "metadata": {},
   "outputs": [
    {
     "data": {
      "image/png": "[encoded data removed]",
      "text/plain": [
       "<Figure size 1000x700 with 1 Axes>"
      ]
     },
     "metadata": {},
     "output_type": "display_data"
    }
   ],
   "source": [
    "# 1. set the model in evaluation mode\n",
    "model_0.eval()\n",
    "\n",
    "# 2. Setup the inference mode context manager\n",
    "with torch.inference_mode():\n",
    "    y_preds = model_0(X_test)\n",
    "\n",
    "plot_predictions(X_train, y_train, X_test, y_test, predictions=y_preds)"
   ]
  },
  {
   "cell_type": "markdown",
   "id": "3bf13bdb",
   "metadata": {},
   "source": [
    "**5. Save model:**"
   ]
  },
  {
   "cell_type": "markdown",
   "id": "32196e4c",
   "metadata": {},
   "source": [
    "**6. Putting it all together:**"
   ]
  },
  {
   "cell_type": "code",
   "execution_count": null,
   "id": "dd5f9a73",
   "metadata": {},
   "outputs": [
    {
     "name": "stdout",
     "output_type": "stream",
     "text": [
      "PyTorch version I'm using: 2.6.0+cpu\n"
     ]
    }
   ],
   "source": [
    "# Importing libraries\n",
    "import torch\n",
    "from torch import nn\n",
    "import matplotlib.pyplot as plt\n",
    "\n",
    "print(f\"PyTorch version I'm using: {torch.__version__}\")"
   ]
  },
  {
   "cell_type": "code",
   "execution_count": 3,
   "id": "d521b677",
   "metadata": {},
   "outputs": [
    {
     "name": "stdout",
     "output_type": "stream",
     "text": [
      "Using device: cpu\n"
     ]
    }
   ],
   "source": [
    "# Setup device agnostic code\n",
    "device = \"cuda\" if torch.cuda.is_available() else \"cpu\"\n",
    "print(f\"Using device: {device}\")"
   ]
  },
  {
   "cell_type": "code",
   "execution_count": null,
   "id": "b4141a1b",
   "metadata": {},
   "outputs": [
    {
     "name": "stdout",
     "output_type": "stream",
     "text": [
      "Using device: cpu\n"
     ]
    }
   ],
   "source": [
    "# Setup device agnostic code\n",
    "if torch.cuda.is_available():\n",
    "    device = \"cuda\"\n",
    "else:\n",
    "    device = \"cpu\"\n",
    "\n",
    "print(f\"Using device: {device}\")"
   ]
  },
  {
   "cell_type": "code",
   "execution_count": null,
   "id": "b67dd672",
   "metadata": {},
   "outputs": [
    {
     "name": "stdout",
     "output_type": "stream",
     "text": [
      "Training examples: \n",
      "tensor([[0.0000],\n",
      "        [0.0200],\n",
      "        [0.0400],\n",
      "        [0.0600],\n",
      "        [0.0800]])\n",
      "Training labels: \n",
      "tensor([[0.3000],\n",
      "        [0.3140],\n",
      "        [0.3280],\n",
      "        [0.3420],\n",
      "        [0.3560]])\n"
     ]
    }
   ],
   "source": [
    "# Create weight and bias\n",
    "weight = 0.7\n",
    "bias = 0.3\n",
    "\n",
    "# Create range values\n",
    "start = 0.0\n",
    "end = 1.0\n",
    "step = 0.02\n",
    "\n",
    "# Create X and y (features and labels)\n",
    "X = torch.arange(start, end, step).unsqueeze(dim = 1)\n",
    "y = weight * X + bias\n",
    "print(f\"Training examples: \\n{X[:5]}\")\n",
    "print(f\"Training labels: \\n{y[:5]}\")"
   ]
  },
  {
   "cell_type": "code",
   "execution_count": null,
   "id": "16d80deb",
   "metadata": {},
   "outputs": [
    {
     "data": {
      "text/plain": [
       "(40, 10, 40, 10)"
      ]
     },
     "execution_count": 7,
     "metadata": {},
     "output_type": "execute_result"
    }
   ],
   "source": [
    "# Spliting data into train and test\n",
    "train_split = int(len(X) * 0.80)\n",
    "X_train, X_test = X[:train_split], X[train_split:]\n",
    "y_train, y_test = y[:train_split], y[train_split:]\n",
    "len(X_train), len(X_test), len(y_train), len(y_test)"
   ]
  },
  {
   "cell_type": "code",
   "execution_count": null,
   "id": "f181ac33",
   "metadata": {},
   "outputs": [],
   "source": [
    "def plot_predictions(X_train, y_train, X_test,\n",
    "                     y_test, predictions=None):\n",
    "    plt.scatter(X_train, y_train, c='b', s=10, label = \"Training data\")\n",
    "    plt.scatter(X_test, y_test, c='g', s=10, label=\"Testing data\")\n",
    "    if predictions is not None:\n",
    "        plt.scatter(X_test, predictions, c='r', s=10, label=\"Predictions\")\n",
    "\n",
    "    plt.legend(prop={\"size\":\"14\", \"weight\": \"bold\"})\n",
    "    plt.show()"
   ]
  },
  {
   "cell_type": "code",
   "execution_count": 12,
   "id": "4e49b0d0",
   "metadata": {},
   "outputs": [
    {
     "data": {
      "image/png": "[encoded data removed]",
      "text/plain": [
       "<Figure size 640x480 with 1 Axes>"
      ]
     },
     "metadata": {},
     "output_type": "display_data"
    }
   ],
   "source": [
    "plot_predictions(X_train, y_train, X_test, y_test, None)"
   ]
  },
  {
   "cell_type": "code",
   "execution_count": null,
   "id": "5f2fccfb",
   "metadata": {},
   "outputs": [],
   "source": [
    "# Building a PyTorch Linear Model\n",
    "class LinearRegressionModelV2(nn.Module):\n",
    "    def __init__(self):\n",
    "        super().__init__()\n",
    "        self.Linear_model = nn.Linear(in_features=1,\n",
    "                                      out_features=1)\n",
    "        def forward(self, x: torch.Tensor)-> torch.Tensor:\n",
    "            return self.Linear_model(x)"
   ]
  },
  {
   "cell_type": "code",
   "execution_count": 15,
   "id": "f4354e38",
   "metadata": {},
   "outputs": [
    {
     "data": {
      "text/plain": [
       "(LinearRegressionModelV2(\n",
       "   (Linear_model): Linear(in_features=1, out_features=1, bias=True)\n",
       " ),\n",
       " OrderedDict([('Linear_model.weight', tensor([[0.7645]])),\n",
       "              ('Linear_model.bias', tensor([0.8300]))]))"
      ]
     },
     "execution_count": 15,
     "metadata": {},
     "output_type": "execute_result"
    }
   ],
   "source": [
    "torch.manual_seed(42)\n",
    "model_1 = LinearRegressionModelV2()\n",
    "model_1, model_1.state_dict()"
   ]
  },
  {
   "cell_type": "code",
   "execution_count": null,
   "id": "dee31b0e",
   "metadata": {},
   "outputs": [
    {
     "data": {
      "text/plain": [
       "device(type='cpu')"
      ]
     },
     "execution_count": 16,
     "metadata": {},
     "output_type": "execute_result"
    }
   ],
   "source": [
    "# Check model device\n",
    "next(model_1.parameters()).device"
   ]
  },
  {
   "cell_type": "code",
   "execution_count": 17,
   "id": "b618841e",
   "metadata": {},
   "outputs": [
    {
     "data": {
      "text/plain": [
       "device(type='cpu')"
      ]
     },
     "execution_count": 17,
     "metadata": {},
     "output_type": "execute_result"
    }
   ],
   "source": [
    "model_1.to(device)\n",
    "next(model_1.parameters()).device"
   ]
  },
  {
   "cell_type": "code",
   "execution_count": null,
   "id": "c6734958",
   "metadata": {},
   "outputs": [],
   "source": [
    "# create loss function\n",
    "loss_fn = nn.L1Loss()\n",
    "\n",
    "# create optimizer\n",
    "optimizer = torch.optim.SGD(params=model_1.parameters(),\n",
    "                            lr = 0.01)"
   ]
  },
  {
   "cell_type": "code",
   "execution_count": null,
   "id": "3e59aa95",
   "metadata": {},
   "outputs": [],
   "source": [
    "torch.manual_seed(42)\n",
    "epochs = 1000"
   ]
  }
 ],
 "metadata": {
  "kernelspec": {
   "display_name": "base",
   "language": "python",
   "name": "python3"
  },
  "language_info": {
   "codemirror_mode": {
    "name": "ipython",
    "version": 3
   },
   "file_extension": ".py",
   "mimetype": "text/x-python",
   "name": "python",
   "nbconvert_exporter": "python",
   "pygments_lexer": "ipython3",
   "version": "3.12.7"
  }
 },
 "nbformat": 4,
 "nbformat_minor": 5
}
