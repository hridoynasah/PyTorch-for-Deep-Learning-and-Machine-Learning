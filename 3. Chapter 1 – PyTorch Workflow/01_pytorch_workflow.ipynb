{
 "cells": [
  {
   "cell_type": "markdown",
   "metadata": {},
   "source": [
    "**PyTorch Workflow**"
   ]
  },
  {
   "cell_type": "code",
   "execution_count": null,
   "metadata": {},
   "outputs": [],
   "source": [
    "what_were_covering = {1: 'data (prepare and load)',\n",
    "                      2: 'build model',\n",
    "                      3: 'fitting the model to data(training)',\n",
    "                      4: 'making predictions and evaluating a model (inference)',\n",
    "                      5: 'saving and loading a model',\n",
    "                      6: 'putting it all togather'\n",
    "                      }\n",
    "what_were_covering"
   ]
  }
 ],
 "metadata": {
  "kernelspec": {
   "display_name": "base",
   "language": "python",
   "name": "python3"
  },
  "language_info": {
   "name": "python",
   "version": "3.12.7"
  }
 },
 "nbformat": 4,
 "nbformat_minor": 2
}
