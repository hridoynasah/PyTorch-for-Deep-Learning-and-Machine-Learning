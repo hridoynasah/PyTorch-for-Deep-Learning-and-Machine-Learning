{
 "cells": [
  {
   "cell_type": "markdown",
   "metadata": {},
   "source": [
    "- **University Class**"
   ]
  },
  {
   "cell_type": "code",
   "execution_count": 5,
   "metadata": {},
   "outputs": [],
   "source": [
    "class University:\n",
    "    def __init__(self):\n",
    "        self.uni_name = 'Daffodil International University'\n",
    "        print(f'Initialized University: {self.uni_name}\\n')\n",
    "    \n",
    "    def show_info(self):\n",
    "        print(f'This is {self.uni_name}.\\n')"
   ]
  },
  {
   "cell_type": "markdown",
   "metadata": {},
   "source": [
    "- **Student class**"
   ]
  },
  {
   "cell_type": "code",
   "execution_count": null,
   "metadata": {},
   "outputs": [],
   "source": [
    "class Student(University):\n",
    "    def __init__(self):\n",
    "        super().__init__() # Calling the constructor of Universtiy class\n",
    "        self.student_id = '78654'\n",
    "        print(f'Initialized Student with ID: {self.student_id}\\n')\n",
    "    \n",
    "    def show_student_info(self):\n",
    "        print(f'Student ID: {self.student_id} at {self.uni_name}\\n')"
   ]
  },
  {
   "cell_type": "code",
   "execution_count": 7,
   "metadata": {},
   "outputs": [
    {
     "name": "stdout",
     "output_type": "stream",
     "text": [
      "Initialized University: Daffodil International University\n",
      "\n",
      "Initialized Student with ID: 78654\n",
      "\n",
      "This is Daffodil International University.\n",
      "\n"
     ]
    }
   ],
   "source": [
    "student = Student()\n",
    "student.show_info() # From University class\n",
    "# student.show_student_info() # From Student class"
   ]
  },
  {
   "cell_type": "markdown",
   "metadata": {},
   "source": [
    "- **Constructor automatically called**  \n",
    "(At the time of object creation)"
   ]
  },
  {
   "cell_type": "code",
   "execution_count": null,
   "metadata": {},
   "outputs": [],
   "source": [
    "class Student():\n",
    "    def __init__(self):\n",
    "        self.student_id = '78654'\n",
    "        print(f'Initialized Student with ID: {self.student_id}\\n')\n",
    "    \n",
    "    def show_student_info(self):\n",
    "        print(f'Student ID: {self.student_id} at {self.uni_name}\\n')"
   ]
  },
  {
   "cell_type": "code",
   "execution_count": 8,
   "metadata": {},
   "outputs": [
    {
     "name": "stdout",
     "output_type": "stream",
     "text": [
      "Initialized University: Daffodil International University\n",
      "\n",
      "Initialized Student with ID: 78654\n",
      "\n"
     ]
    }
   ],
   "source": [
    "student = Student()"
   ]
  }
 ],
 "metadata": {
  "kernelspec": {
   "display_name": "base",
   "language": "python",
   "name": "python3"
  },
  "language_info": {
   "codemirror_mode": {
    "name": "ipython",
    "version": 3
   },
   "file_extension": ".py",
   "mimetype": "text/x-python",
   "name": "python",
   "nbconvert_exporter": "python",
   "pygments_lexer": "ipython3",
   "version": "3.12.7"
  }
 },
 "nbformat": 4,
 "nbformat_minor": 2
}
