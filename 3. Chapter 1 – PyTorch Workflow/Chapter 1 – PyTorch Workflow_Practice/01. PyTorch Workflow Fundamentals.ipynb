{
 "cells": [
  {
   "cell_type": "code",
   "execution_count": 1,
   "id": "b5fe4acf",
   "metadata": {},
   "outputs": [
    {
     "data": {
      "text/plain": [
       "'2.6.0+cpu'"
      ]
     },
     "execution_count": 1,
     "metadata": {},
     "output_type": "execute_result"
    }
   ],
   "source": [
    "import torch\n",
    "from torch import nn\n",
    "import matplotlib.pyplot as plt\n",
    "\n",
    "torch.__version__"
   ]
  },
  {
   "cell_type": "markdown",
   "id": "67260bd4",
   "metadata": {},
   "source": [
    "`nn` stand for neural network and this package contains the bulding blocks for creating neural network in PyTorch."
   ]
  },
  {
   "cell_type": "markdown",
   "id": "82357ab9",
   "metadata": {},
   "source": [
    "- Create *known* dataset "
   ]
  },
  {
   "cell_type": "code",
   "execution_count": null,
   "id": "e216db50",
   "metadata": {},
   "outputs": [],
   "source": [
    "# Create data \n",
    "start = 0\n",
    "end = 1\n",
    "step = 0.02"
   ]
  },
  {
   "cell_type": "code",
   "execution_count": null,
   "id": "5b2c95db",
   "metadata": {},
   "outputs": [],
   "source": [
    "# Create known parameters\n",
    "weight = 0.7\n",
    "bias = 0.3\n",
    "\n",
    "# Create data\n",
    "start = 0\n",
    "end = 1\n",
    "step = 0.02\n",
    "\n",
    "X = torch.arange(start, end, step)\n",
    "y = weight * X + bias"
   ]
  }
 ],
 "metadata": {
  "kernelspec": {
   "display_name": "base",
   "language": "python",
   "name": "python3"
  },
  "language_info": {
   "codemirror_mode": {
    "name": "ipython",
    "version": 3
   },
   "file_extension": ".py",
   "mimetype": "text/x-python",
   "name": "python",
   "nbconvert_exporter": "python",
   "pygments_lexer": "ipython3",
   "version": "3.12.7"
  }
 },
 "nbformat": 4,
 "nbformat_minor": 5
}
