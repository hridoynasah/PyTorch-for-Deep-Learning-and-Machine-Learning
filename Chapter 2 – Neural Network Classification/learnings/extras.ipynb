{
 "cells": [
  {
   "cell_type": "markdown",
   "id": "1f21ce61",
   "metadata": {},
   "source": [
    "- `super()` method in child class."
   ]
  },
  {
   "cell_type": "code",
   "execution_count": 3,
   "id": "e6f31128",
   "metadata": {},
   "outputs": [
    {
     "name": "stdout",
     "output_type": "stream",
     "text": [
      "Animal created with name: Buddy\n",
      "Dog created with breed: Golden Retriever\n"
     ]
    }
   ],
   "source": [
    "class Animal:\n",
    "    def __init__(self, name):\n",
    "        self.name = name\n",
    "        print(f\"Animal created with name: {self.name}\")\n",
    "\n",
    "class Dog(Animal):\n",
    "    def __init__(self, name, breed):\n",
    "        super().__init__(name)  # Call the parent class's constructor\n",
    "        self.breed = breed\n",
    "        print(f\"Dog created with breed: {self.breed}\")\n",
    "\n",
    "# Creating a Dog instance\n",
    "d = Dog(\"Buddy\", \"Golden Retriever\")"
   ]
  },
  {
   "cell_type": "markdown",
   "id": "598e7a83",
   "metadata": {},
   "source": [
    "> Explanation: In the Dog class, `super().__init__(name)` calls the `__init__()` method of its parent class, which is Animal."
   ]
  },
  {
   "cell_type": "markdown",
   "id": "6710c0d6",
   "metadata": {},
   "source": [
    "- **Subplotting**"
   ]
  },
  {
   "cell_type": "code",
   "execution_count": null,
   "id": "74ab5f3e",
   "metadata": {},
   "outputs": [],
   "source": [
    "import matplotlib.pyplot as plt\n",
    "import numpy as np\n",
    "\n",
    "# Create data\n",
    "x = np.linspace(0, 10, 100)\n",
    "y1 = np.sin(x)\n",
    "y2 = np.cos(x)\n",
    "\n",
    "# Create a figure with two subplots\n",
    "plt.figure()\n",
    "\n",
    "# First subplot (1 row, 2 columns, select 1st plot)\n",
    "plt.subplot(1, 2, 1)\n",
    "plt.plot(x, y1, 'b-')\n",
    "plt.title('Sine Wave')\n",
    "\n",
    "# Second subplot (1 row, 2 columns, select 2nd plot)\n",
    "plt.subplot(1, 2, 2)\n",
    "plt.plot(x, y2, 'r-')\n",
    "plt.title('Cosine Wave')\n",
    "\n",
    "# Display the plot\n",
    "plt.tight_layout()\n",
    "plt.show()"
   ]
  }
 ],
 "metadata": {
  "kernelspec": {
   "display_name": "base",
   "language": "python",
   "name": "python3"
  },
  "language_info": {
   "codemirror_mode": {
    "name": "ipython",
    "version": 3
   },
   "file_extension": ".py",
   "mimetype": "text/x-python",
   "name": "python",
   "nbconvert_exporter": "python",
   "pygments_lexer": "ipython3",
   "version": "3.12.7"
  }
 },
 "nbformat": 4,
 "nbformat_minor": 5
}
