{
 "cells": [
  {
   "cell_type": "markdown",
   "id": "2a57263a",
   "metadata": {},
   "source": [
    "#### **PyTorch Computer Vision**\n",
    "##### **0.Computer vision libraries in PyTorch**\n",
    "- `torchvision` - base domain library for PyTorch computer vision.\n",
    "- `torchvision.datasets` - get datasets and data loading functions for computer vision here.\n",
    "- `torchvision.models` - get pretrained computer vision models that can leverage for our own problems.\n",
    "- `torchvision.transforms` - functions for manipulating your vision data(images) to be suitable for use with an ML model.\n",
    "- `torch.utils.data.Dataset` - Base dataset class for PyTorch.\n",
    "- `torch.utils.data.DataLoader` - Creates a Python interable over a dataset. "
   ]
  },
  {
   "cell_type": "code",
   "execution_count": null,
   "id": "84f37557",
   "metadata": {},
   "outputs": [
    {
     "name": "stdout",
     "output_type": "stream",
     "text": [
      "2.6.0+cpu\n",
      "0.21.0+cpu\n"
     ]
    }
   ],
   "source": [
    "# Import PyTorch\n",
    "import torch\n",
    "from torch import nn\n",
    "\n",
    "# Import torchvision\n",
    "import torchvision\n",
    "from torchvision import datasets \n",
    "from torchvision import transforms \n",
    "from torchvision.transforms import ToTensor \n",
    "\n",
    "# Import matplotlib for visualization \n",
    "import matplotlib.pyplot as plt\n",
    "\n",
    "# Check versions \n",
    "print(torch.__version__)\n",
    "print(torchvision.__version__)\n"
   ]
  }
 ],
 "metadata": {
  "kernelspec": {
   "display_name": "base",
   "language": "python",
   "name": "python3"
  },
  "language_info": {
   "codemirror_mode": {
    "name": "ipython",
    "version": 3
   },
   "file_extension": ".py",
   "mimetype": "text/x-python",
   "name": "python",
   "nbconvert_exporter": "python",
   "pygments_lexer": "ipython3",
   "version": "3.12.7"
  }
 },
 "nbformat": 4,
 "nbformat_minor": 5
}
