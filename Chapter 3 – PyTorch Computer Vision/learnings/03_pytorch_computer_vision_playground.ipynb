{
 "cells": [
  {
   "cell_type": "code",
   "execution_count": null,
   "id": "80243fcd",
   "metadata": {},
   "outputs": [
    {
     "name": "stdout",
     "output_type": "stream",
     "text": [
      "2.6.0+cpu\n",
      "0.21.0+cpu\n"
     ]
    }
   ],
   "source": [
    "# Import PyTorch\n",
    "import torch\n",
    "from torch import nn\n",
    "\n",
    "# Import torchvision \n",
    "import torch\n"
   ]
  },
  {
   "cell_type": "markdown",
   "id": "e0777dff",
   "metadata": {},
   "source": [
    "---\n",
    "You can import `ToTensor` directly from `torchvision.transforms` without importing `transforms` separately, as `torchvision` is the main toolbox containing the `transforms` module with `ToTensor` inside."
   ]
  },
  {
   "cell_type": "code",
   "execution_count": null,
   "id": "726acdc9",
   "metadata": {},
   "outputs": [],
   "source": []
  }
 ],
 "metadata": {
  "kernelspec": {
   "display_name": "base",
   "language": "python",
   "name": "python3"
  },
  "language_info": {
   "codemirror_mode": {
    "name": "ipython",
    "version": 3
   },
   "file_extension": ".py",
   "mimetype": "text/x-python",
   "name": "python",
   "nbconvert_exporter": "python",
   "pygments_lexer": "ipython3",
   "version": "3.12.7"
  }
 },
 "nbformat": 4,
 "nbformat_minor": 5
}
