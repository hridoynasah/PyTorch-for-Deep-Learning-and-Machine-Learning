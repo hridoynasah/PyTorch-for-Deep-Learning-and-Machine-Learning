{
 "cells": [
  {
   "cell_type": "code",
   "execution_count": null,
   "id": "80243fcd",
   "metadata": {},
   "outputs": [],
   "source": [
    "# Import PyTorch\n",
    "import torch\n",
    "from torch import nn"
   ]
  },
  {
   "cell_type": "markdown",
   "id": "1fb22886",
   "metadata": {},
   "source": [
    "- `torch` is the main library, like a big toolbox.\n",
    "- `nn` is a specific tool (a module) inside that toolbox.\n",
    "- To use `nn`, you need to bring in the whole toolbox (`torch`) first, because `nn` lives inside it."
   ]
  },
  {
   "cell_type": "markdown",
   "id": "e0777dff",
   "metadata": {},
   "source": [
    "---\n",
    "- `torchvision` is the main library, like a big toolbox.\n",
    "- `transforms` is a module (a section) inside `torchvision`, and `ToTensor` is a specific tool in that section.\n",
    "- Python lets you directly access `ToTensor` by specifying the full path (`torchvision.transforms.ToTensor`) without needing to import `transforms` separately.\n",
    "\n"
   ]
  }
 ],
 "metadata": {
  "kernelspec": {
   "display_name": "base",
   "language": "python",
   "name": "python3"
  },
  "language_info": {
   "codemirror_mode": {
    "name": "ipython",
    "version": 3
   },
   "file_extension": ".py",
   "mimetype": "text/x-python",
   "name": "python",
   "nbconvert_exporter": "python",
   "pygments_lexer": "ipython3",
   "version": "3.12.7"
  }
 },
 "nbformat": 4,
 "nbformat_minor": 5
}
