{
 "cells": [
  {
   "cell_type": "markdown",
   "id": "2a57263a",
   "metadata": {},
   "source": [
    "#### **PyTorch Computer Vision**\n",
    "##### **0.Computer vision libraries in PyTorch**\n",
    "- `torchvision` - base domain library for PyTorch computer vision.\n",
    "- `torchvision.datasets` - get datasets and data loading functions for computer vision here.\n",
    "- `torchvision.models` - get pretrained computer vision models that can leverage for our own problems.\n",
    "- `torchvision.transforms` - functions for manipulating your vision data(images) to be suitable for use with an ML model.\n",
    "- `torch.utils.data.Dataset` - Base dataset class for PyTorch.\n",
    "- `torch.utils.data.DataLoader` - Creates a Python interable over a dataset. "
   ]
  },
  {
   "cell_type": "markdown",
   "id": "d64af45c",
   "metadata": {},
   "source": [
    "**Explanation :**  \n",
    "  \n",
    "You need to import `torch` (the main toolbox) to use `nn` (a module inside it), as `nn` can't be accessed without the toolbox.\n",
    "\n",
    "---\n",
    "You can import `ToTensor` directly from `torchvision.transforms` without importing `transforms` separately, as `torchvision` is the main toolbox containing the `transforms` module with `ToTensor` inside."
   ]
  },
  {
   "cell_type": "code",
   "execution_count": null,
   "id": "84f37557",
   "metadata": {},
   "outputs": [
    {
     "name": "stdout",
     "output_type": "stream",
     "text": [
      "2.6.0+cpu\n",
      "0.21.0+cpu\n"
     ]
    }
   ],
   "source": [
    "# Import PyTorch\n",
    "import torch\n",
    "from torch import nn\n",
    "\n",
    "# Import torchvision\n",
    "import torchvision\n",
    "from torchvision import datasets # datasets and data loading functions\n",
    "from torchvision import transforms # manipulating with vision data\n",
    "from torchvision.transforms import ToTensor \n",
    "\n",
    "# Import matplotlib for visualization \n",
    "import matplotlib.pyplot as plt\n",
    "\n",
    "# Check versions \n",
    "print(torch.__version__)\n",
    "print(torchvision.__version__)\n"
   ]
  },
  {
   "cell_type": "markdown",
   "id": "87852a49",
   "metadata": {},
   "source": [
    "**`ToTensor` Explanation:**   \n",
    "  \n",
    "`ToTensor` from `torchvision.transforms` converts a PIL Image or NumPy array into a PyTorch tensor, reformatting it from HWC to CHW and scaling pixel values from [0, 255] to [0.0, 1.0] for PyTorch model compatibility."
   ]
  },
  {
   "cell_type": "markdown",
   "id": "2afe80a8",
   "metadata": {},
   "source": [
    "##### **1. Getting a dataset:**\n"
   ]
  },
  {
   "cell_type": "code",
   "execution_count": 1,
   "id": "a89f40ab",
   "metadata": {},
   "outputs": [
    {
     "name": "stderr",
     "output_type": "stream",
     "text": [
      "100%|██████████| 26.4M/26.4M [00:14<00:00, 1.83MB/s]\n",
      "100%|██████████| 29.5k/29.5k [00:00<00:00, 169kB/s]\n",
      "100%|██████████| 4.42M/4.42M [00:03<00:00, 1.36MB/s]\n",
      "100%|██████████| 5.15k/5.15k [00:00<00:00, 5.13MB/s]\n"
     ]
    }
   ],
   "source": [
    "# Setup training data \n",
    "from torchvision import datasets \n",
    "from torchvision.transforms import ToTensor \n",
    "\n",
    "train_data = datasets.FashionMNIST(\n",
    "    root = 'data', # where to download data?(directory)\n",
    "    train = True, # do we want the training dataset?\n",
    "    download = True, # do we want to download or not?\n",
    "    transform = ToTensor(), # how do we want to transform the data\n",
    "    target_transform = None # how do we want to transform the labels/targets?\n",
    ")\n",
    "\n",
    "test_data = datasets.FashionMNIST(\n",
    "    root = 'data',\n",
    "    train = False, # we want the test dataset, train dataset should be False\n",
    "    download = True,\n",
    "    transform=ToTensor(),\n",
    "    target_transform= None\n",
    ")"
   ]
  },
  {
   "cell_type": "markdown",
   "id": "733a7ce2",
   "metadata": {},
   "source": [
    "***Explanation:***  \n",
    "  \n",
    "**`ToTensor()`: Converts input images to PyTorch tensors.**\n",
    "\n",
    "**`target_transform=None`: Leaves the labels unchanged; no processing is applied to them.**"
   ]
  },
  {
   "cell_type": "code",
   "execution_count": 2,
   "id": "ae7f9b26",
   "metadata": {},
   "outputs": [
    {
     "data": {
      "text/plain": [
       "(60000, 10000)"
      ]
     },
     "execution_count": 2,
     "metadata": {},
     "output_type": "execute_result"
    }
   ],
   "source": [
    "len(train_data), len(test_data)"
   ]
  }
 ],
 "metadata": {
  "kernelspec": {
   "display_name": "base",
   "language": "python",
   "name": "python3"
  },
  "language_info": {
   "codemirror_mode": {
    "name": "ipython",
    "version": 3
   },
   "file_extension": ".py",
   "mimetype": "text/x-python",
   "name": "python",
   "nbconvert_exporter": "python",
   "pygments_lexer": "ipython3",
   "version": "3.12.7"
  }
 },
 "nbformat": 4,
 "nbformat_minor": 5
}
