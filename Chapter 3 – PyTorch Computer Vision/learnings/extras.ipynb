{
 "cells": [
  {
   "cell_type": "markdown",
   "id": "1f21ce61",
   "metadata": {},
   "source": [
    "- super method in child class."
   ]
  },
  {
   "cell_type": "code",
   "execution_count": 3,
   "id": "e6f31128",
   "metadata": {},
   "outputs": [
    {
     "name": "stdout",
     "output_type": "stream",
     "text": [
      "Animal created with name: Buddy\n",
      "Dog created with breed: Golden Retriever\n"
     ]
    }
   ],
   "source": [
    "class Animal:\n",
    "    def __init__(self, name):\n",
    "        self.name = name\n",
    "        print(f\"Animal created with name: {self.name}\")\n",
    "\n",
    "class Dog(Animal):\n",
    "    def __init__(self, name, breed):\n",
    "        super().__init__(name)  # Call the parent class's constructor\n",
    "        self.breed = breed\n",
    "        print(f\"Dog created with breed: {self.breed}\")\n",
    "\n",
    "# Creating a Dog instance\n",
    "d = Dog(\"Buddy\", \"Golden Retriever\")"
   ]
  },
  {
   "cell_type": "markdown",
   "id": "598e7a83",
   "metadata": {},
   "source": [
    "> Explanation: In the Dog class, `super().__init__(name)` calls the `__init__()` method of its parent class, which is Animal."
   ]
  },
  {
   "cell_type": "code",
   "execution_count": null,
   "id": "94fd0c4e",
   "metadata": {},
   "outputs": [
    {
     "data": {
      "text/plain": [
       "tensor([2, 2])"
      ]
     },
     "execution_count": 13,
     "metadata": {},
     "output_type": "execute_result"
    }
   ],
   "source": [
    "import torch\n",
    "torch.manual_seed(42)\n",
    "random_int = torch.randint(0, 5, size = [2])\n",
    "random_int"
   ]
  },
  {
   "cell_type": "code",
   "execution_count": null,
   "id": "086cd577",
   "metadata": {},
   "outputs": [
    {
     "data": {
      "text/plain": [
       "tensor([6, 4, 6])"
      ]
     },
     "execution_count": 14,
     "metadata": {},
     "output_type": "execute_result"
    }
   ],
   "source": [
    "random_int = torch.randint(0, 10, size = [3])\n",
    "random_int"
   ]
  },
  {
   "cell_type": "code",
   "execution_count": null,
   "id": "49bba69d",
   "metadata": {},
   "outputs": [
    {
     "data": {
      "text/plain": [
       "tensor([[5, 0],\n",
       "        [4, 0],\n",
       "        [3, 8]])"
      ]
     },
     "execution_count": 15,
     "metadata": {},
     "output_type": "execute_result"
    }
   ],
   "source": [
    "random_int = torch.randint(0, 10, size = [3, 2])\n",
    "random_int"
   ]
  },
  {
   "cell_type": "code",
   "execution_count": null,
   "id": "50c0cfdc",
   "metadata": {},
   "outputs": [
    {
     "data": {
      "text/plain": [
       "torch.Size([2, 3])"
      ]
     },
     "execution_count": 20,
     "metadata": {},
     "output_type": "execute_result"
    }
   ],
   "source": [
    "random_int = torch.randint(0, 10, size = (2, 3))\n",
    "random_int"
   ]
  },
  {
   "cell_type": "code",
   "execution_count": 27,
   "id": "101a3010",
   "metadata": {},
   "outputs": [
    {
     "data": {
      "text/plain": [
       "torch.Size([1])"
      ]
     },
     "execution_count": 27,
     "metadata": {},
     "output_type": "execute_result"
    }
   ],
   "source": [
    "random_int_y = torch.randint(0, 7, size = [1])\n",
    "random_int_y.shape"
   ]
  },
  {
   "cell_type": "code",
   "execution_count": 25,
   "id": "faf3ad08",
   "metadata": {},
   "outputs": [
    {
     "data": {
      "text/plain": [
       "torch.Size([1])"
      ]
     },
     "execution_count": 25,
     "metadata": {},
     "output_type": "execute_result"
    }
   ],
   "source": [
    "random_int_x = torch.randint(0, 7, size = (1, ))\n",
    "random_int_x.shape"
   ]
  },
  {
   "cell_type": "code",
   "execution_count": null,
   "id": "cf61cf11",
   "metadata": {},
   "outputs": [
    {
     "data": {
      "text/plain": [
       "<list_iterator at 0x11c4c406b00>"
      ]
     },
     "execution_count": 28,
     "metadata": {},
     "output_type": "execute_result"
    }
   ],
   "source": [
    "# Create a list\n",
    "numbers = [10, 20, 30, 40]\n",
    "\n",
    "# Create an iterator from the list\n",
    "iterator = iter(numbers)\n",
    "\n",
    "# Get the first item using next()\n",
    "first_number = next(iterator)\n",
    "second_number = next(iterator)\n",
    "\n",
    "print(f\"First number: {first_number}\")  # Outputs: First number: 10\n",
    "print(f\"Second number: {second_number}\")  # Outputs: Second number: 20"
   ]
  },
  {
   "cell_type": "code",
   "execution_count": 29,
   "id": "bc385319",
   "metadata": {},
   "outputs": [
    {
     "name": "stdout",
     "output_type": "stream",
     "text": [
      "1\n",
      "2\n",
      "3\n"
     ]
    }
   ],
   "source": [
    "# Create a iterable list \n",
    "numbers = [1, 2, 3]\n",
    "\n",
    "# Create an iterator from the list \n",
    "iterator = iter(numbers)\n",
    "print(next(iterator))\n",
    "print(next(iterator))\n",
    "print(next(iterator))"
   ]
  }
 ],
 "metadata": {
  "kernelspec": {
   "display_name": "base",
   "language": "python",
   "name": "python3"
  },
  "language_info": {
   "codemirror_mode": {
    "name": "ipython",
    "version": 3
   },
   "file_extension": ".py",
   "mimetype": "text/x-python",
   "name": "python",
   "nbconvert_exporter": "python",
   "pygments_lexer": "ipython3",
   "version": "3.12.7"
  }
 },
 "nbformat": 4,
 "nbformat_minor": 5
}
