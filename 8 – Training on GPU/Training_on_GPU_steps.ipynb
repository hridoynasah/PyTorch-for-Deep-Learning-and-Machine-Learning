{
 "cells": [
  {
   "cell_type": "markdown",
   "id": "bd64d5aa",
   "metadata": {},
   "source": [
    "**Steps for Training on GPU:**  \n",
    "This is a tutorial to use GPU not Actual Code."
   ]
  },
  {
   "cell_type": "markdown",
   "id": "225d1c12",
   "metadata": {},
   "source": [
    "* Check `GPU` Availability :  \n",
    "    Before starting verify if a `GPU` is availabe.  \n",
    "    Default it uses `CPU`"
   ]
  },
  {
   "cell_type": "code",
   "execution_count": 1,
   "id": "dd26ac42",
   "metadata": {},
   "outputs": [
    {
     "name": "stdout",
     "output_type": "stream",
     "text": [
      "Using Device: cpu\n"
     ]
    }
   ],
   "source": [
    "import torch\n",
    "device = torch.device('cuda' if torch.cuda.is_available() else 'cpu')\n",
    "print(f\"Using Device: {device}\")"
   ]
  },
  {
   "cell_type": "markdown",
   "id": "8019eddd",
   "metadata": {},
   "source": [
    "* Move the Model to `GPU`:    \n",
    "    Move model to the selected device(`cuda` for GPU or `cpu`) so that all computation occur on the same device"
   ]
  },
  {
   "cell_type": "code",
   "execution_count": null,
   "id": "df0180e3",
   "metadata": {},
   "outputs": [],
   "source": [
    "model = Model()\n",
    "model = model.to(device)"
   ]
  },
  {
   "cell_type": "markdown",
   "id": "8093e2dd",
   "metadata": {},
   "source": [
    "* Modifiy the Training Loop bus Moving Data to `GPU`:  \n",
    "Ensure that each batch of data(features and labels) is moved to the `GPU` before processing.This ensure both data and model are on the data device.\n"
   ]
  },
  {
   "cell_type": "code",
   "execution_count": null,
   "id": "b706fe2f",
   "metadata": {},
   "outputs": [],
   "source": [
    "from batch_features, batch_labels in train_loader:\n",
    "    batch_features, batch_labels = batch_features.to(device), batch_labels.to(device)"
   ]
  },
  {
   "cell_type": "markdown",
   "id": "abe50b12",
   "metadata": {},
   "source": [
    "* Same goes for Evaluating Model"
   ]
  },
  {
   "cell_type": "code",
   "execution_count": null,
   "id": "8bcda80b",
   "metadata": {},
   "outputs": [],
   "source": [
    "from batch_features, batch_labels in test_loader:\n",
    "    batch_features, batch_labels = batch_features.to(device), batch_labels.to(device)"
   ]
  },
  {
   "cell_type": "markdown",
   "id": "adc035b9",
   "metadata": {},
   "source": [
    "* **Optimize  the `GPU` usage:** \n",
    "\n",
    "a. Use larger Batch Sizes:  \n",
    "- Larger batch sizes can better utilize GPU memory and reduce computation time per epoch (If memory allows)"
   ]
  },
  {
   "cell_type": "code",
   "execution_count": null,
   "id": "61c51c34",
   "metadata": {},
   "outputs": [],
   "source": [
    "train_loader = DataLoader(train_dataset, batch_size=128, shuffle=True, pin_memory=True)\n",
    "test_loader = DataLoader(test_dataset, batch_size=128, shuffle=False, pin_memory=True)"
   ]
  },
  {
   "cell_type": "markdown",
   "id": "13a6e288",
   "metadata": {},
   "source": [
    "b. Enable DataLoader Pinning \n",
    "- Use `pin_memory=True` in `DataLoader` to speed up data transfer from CPU to GPU"
   ]
  },
  {
   "cell_type": "code",
   "execution_count": null,
   "id": "f273bcc7",
   "metadata": {},
   "outputs": [],
   "source": [
    "train_loader = DataLoader(train_dataset, batch_size=128, shuffle=True, pin_memory=True)\n",
    "test_loader = DataLoader(test_dataset, batch_size=128, shuffle=False, pin_memory=True)"
   ]
  }
 ],
 "metadata": {
  "kernelspec": {
   "display_name": "base",
   "language": "python",
   "name": "python3"
  },
  "language_info": {
   "codemirror_mode": {
    "name": "ipython",
    "version": 3
   },
   "file_extension": ".py",
   "mimetype": "text/x-python",
   "name": "python",
   "nbconvert_exporter": "python",
   "pygments_lexer": "ipython3",
   "version": "3.12.7"
  }
 },
 "nbformat": 4,
 "nbformat_minor": 5
}
