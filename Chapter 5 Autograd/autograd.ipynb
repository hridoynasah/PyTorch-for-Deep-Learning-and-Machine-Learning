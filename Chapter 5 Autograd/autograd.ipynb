{
 "cells": [
  {
   "cell_type": "markdown",
   "id": "2fcd0b6c",
   "metadata": {},
   "source": [
    "##### **Autograd:**\n",
    "We need **autograd** because it automatically computes gradients (derivatives), which are essential for training neural networks using backpropagation.\n"
   ]
  },
  {
   "cell_type": "markdown",
   "id": "593b8bc7",
   "metadata": {},
   "source": [
    "**General Steps of Using Autograd in PyTorch**\n",
    "\n",
    "1. **Create tensors with gradient tracking**\n",
    "\n",
    "   ```python\n",
    "   x = torch.tensor(value, requires_grad=True)\n",
    "   ```\n",
    "\n",
    "   * Tensors with `requires_grad=True` are tracked by autograd.\n",
    "\n",
    "2. **Define the computation / forward pass**\n",
    "\n",
    "   ```python\n",
    "   y = some_function(x)\n",
    "   ```\n",
    "\n",
    "   * PyTorch builds a **computational graph** connecting inputs to outputs.\n",
    "\n",
    "3. **Compute gradients with `.backward()`**\n",
    "\n",
    "   ```python\n",
    "   y.backward()\n",
    "   ```\n",
    "\n",
    "   * Applies **chain rule** automatically to compute derivatives.\n",
    "   * For scalar outputs, you can call `.backward()` directly.\n",
    "\n",
    "4. **Access the gradients**\n",
    "\n",
    "   ```python\n",
    "   x.grad\n",
    "   ```\n",
    "\n",
    "   * Gradients of the output with respect to each input are stored in `.grad`.\n",
    "\n",
    "5. **Use gradients for optimization (optional)**\n",
    "\n",
    "   * Typically, update model parameters using an optimizer:\n",
    "\n",
    "     ```python\n",
    "     x = x - learning_rate * x.grad\n",
    "     ```"
   ]
  },
  {
   "cell_type": "markdown",
   "id": "4c6db32f",
   "metadata": {},
   "source": [
    "**Examples using autograd:**"
   ]
  },
  {
   "cell_type": "code",
   "execution_count": null,
   "id": "b0765591",
   "metadata": {},
   "outputs": [],
   "source": [
    "def dy_dx(x):\n",
    "  return 2*x"
   ]
  }
 ],
 "metadata": {
  "kernelspec": {
   "display_name": "base",
   "language": "python",
   "name": "python3"
  },
  "language_info": {
   "codemirror_mode": {
    "name": "ipython",
    "version": 3
   },
   "file_extension": ".py",
   "mimetype": "text/x-python",
   "name": "python",
   "nbconvert_exporter": "python",
   "pygments_lexer": "ipython3",
   "version": "3.12.7"
  }
 },
 "nbformat": 4,
 "nbformat_minor": 5
}
