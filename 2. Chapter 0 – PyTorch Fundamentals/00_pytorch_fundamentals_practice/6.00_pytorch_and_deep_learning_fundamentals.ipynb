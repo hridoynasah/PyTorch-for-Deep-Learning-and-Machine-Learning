{
 "cells": [
  {
   "cell_type": "code",
   "execution_count": 2,
   "id": "27781084",
   "metadata": {},
   "outputs": [
    {
     "data": {
      "text/plain": [
       "'2.6.0+cpu'"
      ]
     },
     "execution_count": 2,
     "metadata": {},
     "output_type": "execute_result"
    }
   ],
   "source": [
    "import torch\n",
    "from torch import nn\n",
    "import matplotlib.pyplot as plt\n",
    "\n",
    "# Check Pytorch Version \n",
    "torch.__version__\n",
    "\n",
    "# nn contains all of PyTorch's building blocks for neural networks "
   ]
  },
  {
   "cell_type": "markdown",
   "id": "5198233f",
   "metadata": {},
   "source": [
    "---\n",
    "- Tensors are the fundamental building block of machine learning \n",
    "- Their job is to represnt data in a numerical way\n",
    "- we can represnt image into numbers too\n"
   ]
  },
  {
   "cell_type": "markdown",
   "id": "854d710b",
   "metadata": {},
   "source": [
    "#### Creating tensors"
   ]
  },
  {
   "cell_type": "code",
   "execution_count": 3,
   "id": "b0cc989d",
   "metadata": {},
   "outputs": [
    {
     "data": {
      "text/plain": [
       "(tensor(7), torch.int64)"
      ]
     },
     "execution_count": 3,
     "metadata": {},
     "output_type": "execute_result"
    }
   ],
   "source": [
    "# Saclar tensor (Zero dimension, just a number)\n",
    "scalar = torch.tensor(7)\n",
    "scalar, scalar.dtype"
   ]
  },
  {
   "cell_type": "code",
   "execution_count": 4,
   "id": "26f802c4",
   "metadata": {},
   "outputs": [
    {
     "data": {
      "text/plain": [
       "0"
      ]
     },
     "execution_count": 4,
     "metadata": {},
     "output_type": "execute_result"
    }
   ],
   "source": [
    "scalar.ndim"
   ]
  },
  {
   "cell_type": "markdown",
   "id": "7228d84d",
   "metadata": {},
   "source": [
    "- A vector is a single dimension tensor but can contain many numbers."
   ]
  },
  {
   "cell_type": "code",
   "execution_count": null,
   "id": "9eed69ef",
   "metadata": {},
   "outputs": [
    {
     "data": {
      "text/plain": [
       "tensor([7, 7])"
      ]
     },
     "execution_count": 5,
     "metadata": {},
     "output_type": "execute_result"
    }
   ],
   "source": [
    "vector = torch.tensor([7,7]) # count square brackets\n",
    "vector"
   ]
  },
  {
   "cell_type": "code",
   "execution_count": 6,
   "id": "c5e2e230",
   "metadata": {},
   "outputs": [
    {
     "data": {
      "text/plain": [
       "1"
      ]
     },
     "execution_count": 6,
     "metadata": {},
     "output_type": "execute_result"
    }
   ],
   "source": [
    "vector.ndim"
   ]
  },
  {
   "cell_type": "code",
   "execution_count": null,
   "id": "b78397b0",
   "metadata": {},
   "outputs": [
    {
     "data": {
      "text/plain": [
       "torch.Size([2])"
      ]
     },
     "execution_count": 7,
     "metadata": {},
     "output_type": "execute_result"
    }
   ],
   "source": [
    "vector.shape # it shows the number of elements "
   ]
  },
  {
   "cell_type": "code",
   "execution_count": 8,
   "id": "3da7f05e",
   "metadata": {},
   "outputs": [
    {
     "data": {
      "text/plain": [
       "(tensor([1, 2, 4, 5]), 1, torch.Size([4]))"
      ]
     },
     "execution_count": 8,
     "metadata": {},
     "output_type": "execute_result"
    }
   ],
   "source": [
    "v = torch.tensor([1,2,4,5])\n",
    "v, v.ndim, v.shape"
   ]
  },
  {
   "cell_type": "markdown",
   "id": "6cc560c9",
   "metadata": {},
   "source": [
    "- MATRIX has two dimensions (did you count the number of square brackets on the outside of one side?)."
   ]
  },
  {
   "cell_type": "code",
   "execution_count": 9,
   "id": "c40a5d12",
   "metadata": {},
   "outputs": [],
   "source": [
    "Matrix = torch.tensor([[1,2],\n",
    "                       [3,4]])"
   ]
  },
  {
   "cell_type": "code",
   "execution_count": 10,
   "id": "bb13e98a",
   "metadata": {},
   "outputs": [
    {
     "data": {
      "text/plain": [
       "(tensor([[1, 2],\n",
       "         [3, 4]]),\n",
       " 2,\n",
       " torch.Size([2, 2]))"
      ]
     },
     "execution_count": 10,
     "metadata": {},
     "output_type": "execute_result"
    }
   ],
   "source": [
    "Matrix, Matrix.ndim, Matrix.shape"
   ]
  },
  {
   "cell_type": "markdown",
   "id": "cc943c65",
   "metadata": {},
   "source": [
    "- Tensors are 3D array"
   ]
  },
  {
   "cell_type": "code",
   "execution_count": null,
   "id": "24d652e0",
   "metadata": {},
   "outputs": [
    {
     "data": {
      "text/plain": [
       "(tensor([[[1, 2, 3],\n",
       "          [3, 4, 5]],\n",
       " \n",
       "         [[1, 2, 4],\n",
       "          [3, 4, 5]]]),\n",
       " 3,\n",
       " torch.Size([2, 2, 3]))"
      ]
     },
     "execution_count": 11,
     "metadata": {},
     "output_type": "execute_result"
    }
   ],
   "source": [
    "Tensor = torch.tensor([[[1,2,3],\n",
    "                        [3,4,5]],\n",
    "                        [[1,2,4],\n",
    "                         [3,4,5]]])\n",
    "Tensor, Tensor.ndim, Tensor.shape\n",
    "# 2 ta 2x3 Matrix "
   ]
  }
 ],
 "metadata": {
  "kernelspec": {
   "display_name": "base",
   "language": "python",
   "name": "python3"
  },
  "language_info": {
   "codemirror_mode": {
    "name": "ipython",
    "version": 3
   },
   "file_extension": ".py",
   "mimetype": "text/x-python",
   "name": "python",
   "nbconvert_exporter": "python",
   "pygments_lexer": "ipython3",
   "version": "3.12.7"
  }
 },
 "nbformat": 4,
 "nbformat_minor": 5
}
