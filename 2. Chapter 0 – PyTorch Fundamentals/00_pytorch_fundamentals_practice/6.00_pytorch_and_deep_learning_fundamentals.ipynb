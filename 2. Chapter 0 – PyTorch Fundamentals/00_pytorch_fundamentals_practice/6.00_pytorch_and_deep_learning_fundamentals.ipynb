{
 "cells": [
  {
   "cell_type": "code",
   "execution_count": null,
   "id": "27781084",
   "metadata": {},
   "outputs": [
    {
     "data": {
      "text/plain": [
       "'2.6.0+cpu'"
      ]
     },
     "execution_count": 1,
     "metadata": {},
     "output_type": "execute_result"
    }
   ],
   "source": [
    "import torch\n",
    "from torch import nn\n",
    "import matplotlib.pyplot as plt\n",
    "\n",
    "# Check Pytorch Version \n",
    "torch.__version__\n",
    "\n",
    "# nn contains all of PyTorch's building blocks for neural networks "
   ]
  },
  {
   "cell_type": "markdown",
   "id": "5198233f",
   "metadata": {},
   "source": [
    "---\n",
    "- Tensors are the fundamental building block of machine learning \n",
    "- Their job is to represnt data in a numerical way\n",
    "- we can represnt image into numbers too\n"
   ]
  },
  {
   "cell_type": "markdown",
   "id": "854d710b",
   "metadata": {},
   "source": [
    "#### Creating tensors"
   ]
  },
  {
   "cell_type": "code",
   "execution_count": null,
   "id": "b0cc989d",
   "metadata": {},
   "outputs": [],
   "source": []
  }
 ],
 "metadata": {
  "kernelspec": {
   "display_name": "base",
   "language": "python",
   "name": "python3"
  },
  "language_info": {
   "codemirror_mode": {
    "name": "ipython",
    "version": 3
   },
   "file_extension": ".py",
   "mimetype": "text/x-python",
   "name": "python",
   "nbconvert_exporter": "python",
   "pygments_lexer": "ipython3",
   "version": "3.12.7"
  }
 },
 "nbformat": 4,
 "nbformat_minor": 5
}
