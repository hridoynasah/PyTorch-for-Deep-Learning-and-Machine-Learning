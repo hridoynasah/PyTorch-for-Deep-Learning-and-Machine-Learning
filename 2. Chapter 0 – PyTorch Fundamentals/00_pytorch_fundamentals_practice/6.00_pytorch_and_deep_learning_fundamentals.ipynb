{
 "cells": [
  {
   "cell_type": "code",
   "execution_count": 2,
   "id": "27781084",
   "metadata": {},
   "outputs": [
    {
     "data": {
      "text/plain": [
       "'2.6.0+cpu'"
      ]
     },
     "execution_count": 2,
     "metadata": {},
     "output_type": "execute_result"
    }
   ],
   "source": [
    "import torch\n",
    "from torch import nn\n",
    "import matplotlib.pyplot as plt\n",
    "\n",
    "# Check Pytorch Version \n",
    "torch.__version__\n",
    "\n",
    "# nn contains all of PyTorch's building blocks for neural networks "
   ]
  },
  {
   "cell_type": "markdown",
   "id": "5198233f",
   "metadata": {},
   "source": [
    "---\n",
    "- Tensors are the fundamental building block of machine learning \n",
    "- Their job is to represnt data in a numerical way\n",
    "- we can represnt image into numbers too\n"
   ]
  },
  {
   "cell_type": "markdown",
   "id": "854d710b",
   "metadata": {},
   "source": [
    "#### Creating tensors"
   ]
  },
  {
   "cell_type": "code",
   "execution_count": 3,
   "id": "b0cc989d",
   "metadata": {},
   "outputs": [
    {
     "data": {
      "text/plain": [
       "(tensor(7), torch.int64)"
      ]
     },
     "execution_count": 3,
     "metadata": {},
     "output_type": "execute_result"
    }
   ],
   "source": [
    "# Saclar tensor (Zero dimension, just a number)\n",
    "scalar = torch.tensor(7)\n",
    "scalar, scalar.dtype"
   ]
  },
  {
   "cell_type": "code",
   "execution_count": 4,
   "id": "26f802c4",
   "metadata": {},
   "outputs": [
    {
     "data": {
      "text/plain": [
       "0"
      ]
     },
     "execution_count": 4,
     "metadata": {},
     "output_type": "execute_result"
    }
   ],
   "source": [
    "scalar.ndim"
   ]
  },
  {
   "cell_type": "markdown",
   "id": "7228d84d",
   "metadata": {},
   "source": [
    "- A vector is a single dimension tensor but can contain many numbers."
   ]
  },
  {
   "cell_type": "code",
   "execution_count": 5,
   "id": "9eed69ef",
   "metadata": {},
   "outputs": [
    {
     "data": {
      "text/plain": [
       "tensor([7, 7])"
      ]
     },
     "execution_count": 5,
     "metadata": {},
     "output_type": "execute_result"
    }
   ],
   "source": [
    "vector = torch.tensor([7,7]) # count square brackets\n",
    "vector"
   ]
  },
  {
   "cell_type": "code",
   "execution_count": 6,
   "id": "c5e2e230",
   "metadata": {},
   "outputs": [
    {
     "data": {
      "text/plain": [
       "1"
      ]
     },
     "execution_count": 6,
     "metadata": {},
     "output_type": "execute_result"
    }
   ],
   "source": [
    "vector.ndim"
   ]
  },
  {
   "cell_type": "code",
   "execution_count": 7,
   "id": "b78397b0",
   "metadata": {},
   "outputs": [
    {
     "data": {
      "text/plain": [
       "torch.Size([2])"
      ]
     },
     "execution_count": 7,
     "metadata": {},
     "output_type": "execute_result"
    }
   ],
   "source": [
    "vector.shape # it shows the number of elements "
   ]
  },
  {
   "cell_type": "code",
   "execution_count": 8,
   "id": "3da7f05e",
   "metadata": {},
   "outputs": [
    {
     "data": {
      "text/plain": [
       "(tensor([1, 2, 4, 5]), 1, torch.Size([4]))"
      ]
     },
     "execution_count": 8,
     "metadata": {},
     "output_type": "execute_result"
    }
   ],
   "source": [
    "v = torch.tensor([1,2,4,5])\n",
    "v, v.ndim, v.shape"
   ]
  },
  {
   "cell_type": "markdown",
   "id": "6cc560c9",
   "metadata": {},
   "source": [
    "- MATRIX has two dimensions (did you count the number of square brackets on the outside of one side?)."
   ]
  },
  {
   "cell_type": "code",
   "execution_count": 9,
   "id": "c40a5d12",
   "metadata": {},
   "outputs": [],
   "source": [
    "Matrix = torch.tensor([[1,2],\n",
    "                       [3,4]])"
   ]
  },
  {
   "cell_type": "code",
   "execution_count": 10,
   "id": "bb13e98a",
   "metadata": {},
   "outputs": [
    {
     "data": {
      "text/plain": [
       "(tensor([[1, 2],\n",
       "         [3, 4]]),\n",
       " 2,\n",
       " torch.Size([2, 2]))"
      ]
     },
     "execution_count": 10,
     "metadata": {},
     "output_type": "execute_result"
    }
   ],
   "source": [
    "Matrix, Matrix.ndim, Matrix.shape"
   ]
  },
  {
   "cell_type": "markdown",
   "id": "cc943c65",
   "metadata": {},
   "source": [
    "- Tensors are 3D array"
   ]
  },
  {
   "cell_type": "code",
   "execution_count": 11,
   "id": "24d652e0",
   "metadata": {},
   "outputs": [
    {
     "data": {
      "text/plain": [
       "(tensor([[[1, 2, 3],\n",
       "          [3, 4, 5]],\n",
       " \n",
       "         [[1, 2, 4],\n",
       "          [3, 4, 5]]]),\n",
       " 3,\n",
       " torch.Size([2, 2, 3]))"
      ]
     },
     "execution_count": 11,
     "metadata": {},
     "output_type": "execute_result"
    }
   ],
   "source": [
    "Tensor = torch.tensor([[[1,2,3],\n",
    "                        [3,4,5]],\n",
    "                        [[1,2,4],\n",
    "                         [3,4,5]]])\n",
    "Tensor, Tensor.ndim, Tensor.shape\n",
    "# 2 ta 2x3 Matrix "
   ]
  },
  {
   "cell_type": "markdown",
   "id": "598207ad",
   "metadata": {},
   "source": [
    "- Random tensors"
   ]
  },
  {
   "cell_type": "code",
   "execution_count": 12,
   "id": "4fe7fc18",
   "metadata": {},
   "outputs": [
    {
     "data": {
      "text/plain": [
       "(tensor([[0.1353, 0.2986, 0.4677, 0.9807],\n",
       "         [0.8048, 0.7848, 0.9440, 0.2141],\n",
       "         [0.0768, 0.5876, 0.7629, 0.3093]]),\n",
       " torch.float32)"
      ]
     },
     "execution_count": 12,
     "metadata": {},
     "output_type": "execute_result"
    }
   ],
   "source": [
    "# Create a random tensor of size (3, 4)\n",
    "random_tensor = torch.rand(size=(3, 4))\n",
    "random_tensor, random_tensor.dtype"
   ]
  },
  {
   "cell_type": "markdown",
   "id": "4d0b65f6",
   "metadata": {},
   "source": [
    "- The flexibility of torch.rand() is that we can adjust the size to be whatever we want.\n",
    "\n",
    "- For example, say you wanted a random tensor in the common image shape of [224, 224, 3] ([height, width, color_channels])."
   ]
  },
  {
   "cell_type": "code",
   "execution_count": 13,
   "id": "bb63d688",
   "metadata": {},
   "outputs": [
    {
     "data": {
      "text/plain": [
       "(tensor([[[0.3009, 0.6159, 0.8180],\n",
       "          [0.7097, 0.3574, 0.4351],\n",
       "          [0.1816, 0.4573, 0.0516],\n",
       "          ...,\n",
       "          [0.3679, 0.2116, 0.5088],\n",
       "          [0.0420, 0.9298, 0.3285],\n",
       "          [0.3559, 0.1464, 0.4002]],\n",
       " \n",
       "         [[0.0083, 0.8764, 0.2997],\n",
       "          [0.8667, 0.9612, 0.8813],\n",
       "          [0.3801, 0.7697, 0.0349],\n",
       "          ...,\n",
       "          [0.1634, 0.3213, 0.2645],\n",
       "          [0.6406, 0.0988, 0.1234],\n",
       "          [0.9210, 0.0606, 0.1889]],\n",
       " \n",
       "         [[0.0727, 0.4719, 0.1820],\n",
       "          [0.2892, 0.4999, 0.3812],\n",
       "          [0.9037, 0.2588, 0.8806],\n",
       "          ...,\n",
       "          [0.0936, 0.0305, 0.8107],\n",
       "          [0.1719, 0.6547, 0.0685],\n",
       "          [0.0891, 0.5920, 0.5662]],\n",
       " \n",
       "         ...,\n",
       " \n",
       "         [[0.6459, 0.6471, 0.2752],\n",
       "          [0.5385, 0.7588, 0.6862],\n",
       "          [0.1368, 0.6568, 0.8956],\n",
       "          ...,\n",
       "          [0.2293, 0.3528, 0.4956],\n",
       "          [0.8787, 0.2251, 0.1995],\n",
       "          [0.5588, 0.7019, 0.8754]],\n",
       " \n",
       "         [[0.7030, 0.1387, 0.8732],\n",
       "          [0.4234, 0.4262, 0.7175],\n",
       "          [0.2051, 0.0260, 0.3053],\n",
       "          ...,\n",
       "          [0.8130, 0.4733, 0.8803],\n",
       "          [0.8418, 0.2394, 0.6754],\n",
       "          [0.6597, 0.5316, 0.7371]],\n",
       " \n",
       "         [[0.5875, 0.9585, 0.3633],\n",
       "          [0.4533, 0.2980, 0.9124],\n",
       "          [0.5304, 0.0416, 0.0324],\n",
       "          ...,\n",
       "          [0.6767, 0.2515, 0.6117],\n",
       "          [0.5958, 0.1903, 0.0379],\n",
       "          [0.0548, 0.0153, 0.8528]]]),\n",
       " 3,\n",
       " torch.Size([224, 224, 3]))"
      ]
     },
     "execution_count": 13,
     "metadata": {},
     "output_type": "execute_result"
    }
   ],
   "source": [
    "random_image_size_tensor = torch.rand(size = (224, 224, 3))\n",
    "random_image_size_tensor, random_image_size_tensor.ndim, random_image_size_tensor.shape"
   ]
  },
  {
   "cell_type": "markdown",
   "id": "269fcf64",
   "metadata": {},
   "source": [
    "- Zeros and Ones"
   ]
  },
  {
   "cell_type": "code",
   "execution_count": 14,
   "id": "5c6f8413",
   "metadata": {},
   "outputs": [
    {
     "data": {
      "text/plain": [
       "(tensor([[0., 0., 0., 0.],\n",
       "         [0., 0., 0., 0.],\n",
       "         [0., 0., 0., 0.]]),\n",
       " torch.float32)"
      ]
     },
     "execution_count": 14,
     "metadata": {},
     "output_type": "execute_result"
    }
   ],
   "source": [
    "zeros = torch.zeros(size=(3,4))\n",
    "zeros, zeros.dtype"
   ]
  },
  {
   "cell_type": "code",
   "execution_count": 15,
   "id": "f81c3a8c",
   "metadata": {},
   "outputs": [
    {
     "data": {
      "text/plain": [
       "(tensor([[1., 1., 1., 1.],\n",
       "         [1., 1., 1., 1.],\n",
       "         [1., 1., 1., 1.]]),\n",
       " torch.Size([3, 4]),\n",
       " 2)"
      ]
     },
     "execution_count": 15,
     "metadata": {},
     "output_type": "execute_result"
    }
   ],
   "source": [
    "ones = torch.ones(size = (3,4))\n",
    "ones, ones.shape, ones.ndim"
   ]
  },
  {
   "cell_type": "markdown",
   "id": "2c06d942",
   "metadata": {},
   "source": [
    "- Creating a range and tensors like"
   ]
  },
  {
   "cell_type": "code",
   "execution_count": 16,
   "id": "a4eb2ead",
   "metadata": {},
   "outputs": [
    {
     "data": {
      "text/plain": [
       "tensor([ 0,  1,  2,  3,  4,  5,  6,  7,  8,  9, 10])"
      ]
     },
     "execution_count": 16,
     "metadata": {},
     "output_type": "execute_result"
    }
   ],
   "source": [
    "zero_to_ten = torch.arange(0, 11)\n",
    "zero_to_ten"
   ]
  },
  {
   "cell_type": "code",
   "execution_count": 17,
   "id": "19a67044",
   "metadata": {},
   "outputs": [
    {
     "data": {
      "text/plain": [
       "tensor([10, 12, 14, 16, 18, 20, 22, 24, 26, 28, 30, 32, 34, 36, 38, 40, 42, 44,\n",
       "        46, 48, 50])"
      ]
     },
     "execution_count": 17,
     "metadata": {},
     "output_type": "execute_result"
    }
   ],
   "source": [
    "# Syntax : arange(start, end, step)\n",
    "evens = torch.arange(10, 51, 2)\n",
    "evens"
   ]
  },
  {
   "cell_type": "markdown",
   "id": "bad9dba3",
   "metadata": {},
   "source": [
    "- Zeros like, Ones like"
   ]
  },
  {
   "cell_type": "code",
   "execution_count": 18,
   "id": "1b0f5d82",
   "metadata": {},
   "outputs": [
    {
     "data": {
      "text/plain": [
       "tensor([[[0.4427, 0.3098, 0.2902, 0.2034],\n",
       "         [0.4495, 0.4092, 0.6739, 0.3484],\n",
       "         [0.7812, 0.5964, 0.4498, 0.7590]],\n",
       "\n",
       "        [[0.4371, 0.1881, 0.3724, 0.9596],\n",
       "         [0.8302, 0.8150, 0.2899, 0.7480],\n",
       "         [0.3380, 0.0313, 0.3393, 0.3589]],\n",
       "\n",
       "        [[0.8522, 0.6304, 0.4099, 0.3398],\n",
       "         [0.5049, 0.5882, 0.5415, 0.9398],\n",
       "         [0.4996, 0.3574, 0.1211, 0.4100]]])"
      ]
     },
     "execution_count": 18,
     "metadata": {},
     "output_type": "execute_result"
    }
   ],
   "source": [
    "random_a = torch.rand(size = (3,3,4))\n",
    "random_a"
   ]
  },
  {
   "cell_type": "code",
   "execution_count": 19,
   "id": "4c2994a1",
   "metadata": {},
   "outputs": [
    {
     "data": {
      "text/plain": [
       "tensor([[[0., 0., 0., 0.],\n",
       "         [0., 0., 0., 0.],\n",
       "         [0., 0., 0., 0.]],\n",
       "\n",
       "        [[0., 0., 0., 0.],\n",
       "         [0., 0., 0., 0.],\n",
       "         [0., 0., 0., 0.]],\n",
       "\n",
       "        [[0., 0., 0., 0.],\n",
       "         [0., 0., 0., 0.],\n",
       "         [0., 0., 0., 0.]]])"
      ]
     },
     "execution_count": 19,
     "metadata": {},
     "output_type": "execute_result"
    }
   ],
   "source": [
    "# Zeros like \n",
    "zeros_like = torch.zeros_like(random_a)\n",
    "zeros_like"
   ]
  },
  {
   "cell_type": "code",
   "execution_count": 20,
   "id": "69694adf",
   "metadata": {},
   "outputs": [
    {
     "data": {
      "text/plain": [
       "tensor([[[1., 1., 1., 1.],\n",
       "         [1., 1., 1., 1.],\n",
       "         [1., 1., 1., 1.]],\n",
       "\n",
       "        [[1., 1., 1., 1.],\n",
       "         [1., 1., 1., 1.],\n",
       "         [1., 1., 1., 1.]],\n",
       "\n",
       "        [[1., 1., 1., 1.],\n",
       "         [1., 1., 1., 1.],\n",
       "         [1., 1., 1., 1.]]])"
      ]
     },
     "execution_count": 20,
     "metadata": {},
     "output_type": "execute_result"
    }
   ],
   "source": [
    "# Ones like \n",
    "ones_like = torch.ones_like(random_a)\n",
    "ones_like"
   ]
  },
  {
   "cell_type": "markdown",
   "id": "c30f790d",
   "metadata": {},
   "source": [
    "- Tensors Datatypes  \n",
    "\n",
    "`torch.float16 or torch.half`, `torch.float32 or torch.float`, `torch.float64 or torch.double`"
   ]
  },
  {
   "cell_type": "code",
   "execution_count": 21,
   "id": "856ca307",
   "metadata": {},
   "outputs": [
    {
     "data": {
      "text/plain": [
       "(torch.Size([3]), torch.float32, device(type='cpu'))"
      ]
     },
     "execution_count": 21,
     "metadata": {},
     "output_type": "execute_result"
    }
   ],
   "source": [
    "float_32_tensor = torch.tensor([3.0, 6.0, 9.0],\n",
    "                               dtype=None, # defaults to None, which is torch.float32 or whatever datatype is passed\n",
    "                               device=None, # defaults to None, which uses the default tensor type\n",
    "                               requires_grad=False) # if True, operations performed on the tensor are recorded \n",
    "float_32_tensor.shape, float_32_tensor.dtype, float_32_tensor.device"
   ]
  },
  {
   "cell_type": "code",
   "execution_count": 22,
   "id": "a5d1482e",
   "metadata": {},
   "outputs": [
    {
     "data": {
      "text/plain": [
       "torch.float16"
      ]
     },
     "execution_count": 22,
     "metadata": {},
     "output_type": "execute_result"
    }
   ],
   "source": [
    "float_16_tensor = torch.tensor([3.0, 9.0],\n",
    "                               dtype= torch.half)\n",
    "float_16_tensor.dtype"
   ]
  },
  {
   "cell_type": "markdown",
   "id": "e92c1296",
   "metadata": {},
   "source": [
    "- Getting information from tensors"
   ]
  },
  {
   "cell_type": "code",
   "execution_count": 23,
   "id": "285aed62",
   "metadata": {},
   "outputs": [
    {
     "data": {
      "text/plain": [
       "(torch.Size([3, 4]), torch.float32, device(type='cpu'))"
      ]
     },
     "execution_count": 23,
     "metadata": {},
     "output_type": "execute_result"
    }
   ],
   "source": [
    "# Three attribute (.shape, .dtype, .device)\n",
    "some_tensor = torch.rand(3,4)\n",
    "some_tensor.shape, some_tensor.dtype, some_tensor.device"
   ]
  },
  {
   "cell_type": "markdown",
   "id": "49aa6414",
   "metadata": {},
   "source": [
    "- Manipulating tensors"
   ]
  },
  {
   "cell_type": "code",
   "execution_count": 24,
   "id": "1c07e19c",
   "metadata": {},
   "outputs": [],
   "source": [
    "tensorA = torch.tensor([3, 5, 8])\n",
    "tensorB = torch.tensor([7, 5, 2])"
   ]
  },
  {
   "cell_type": "code",
   "execution_count": 25,
   "id": "d8c1b5a1",
   "metadata": {},
   "outputs": [
    {
     "data": {
      "text/plain": [
       "tensor([10, 10, 10])"
      ]
     },
     "execution_count": 25,
     "metadata": {},
     "output_type": "execute_result"
    }
   ],
   "source": [
    "# Addition \n",
    "tensorA + tensorB"
   ]
  },
  {
   "cell_type": "code",
   "execution_count": 26,
   "id": "64177e2d",
   "metadata": {},
   "outputs": [
    {
     "data": {
      "text/plain": [
       "tensor([13, 15, 18])"
      ]
     },
     "execution_count": 26,
     "metadata": {},
     "output_type": "execute_result"
    }
   ],
   "source": [
    "tensorA + 10"
   ]
  },
  {
   "cell_type": "code",
   "execution_count": 27,
   "id": "ccf0c2ca",
   "metadata": {},
   "outputs": [
    {
     "data": {
      "text/plain": [
       "tensor([-4,  0,  6])"
      ]
     },
     "execution_count": 27,
     "metadata": {},
     "output_type": "execute_result"
    }
   ],
   "source": [
    "# Subtraction \n",
    "tensorA - tensorB"
   ]
  },
  {
   "cell_type": "code",
   "execution_count": 28,
   "id": "0cdf331c",
   "metadata": {},
   "outputs": [
    {
     "data": {
      "text/plain": [
       "tensor([-1, -3, -6])"
      ]
     },
     "execution_count": 28,
     "metadata": {},
     "output_type": "execute_result"
    }
   ],
   "source": [
    "tensorB - 8"
   ]
  },
  {
   "cell_type": "code",
   "execution_count": 29,
   "id": "f0860260",
   "metadata": {},
   "outputs": [
    {
     "data": {
      "text/plain": [
       "tensor([0.4286, 1.0000, 4.0000])"
      ]
     },
     "execution_count": 29,
     "metadata": {},
     "output_type": "execute_result"
    }
   ],
   "source": [
    "# Division \n",
    "tensorA / tensorB"
   ]
  },
  {
   "cell_type": "code",
   "execution_count": 30,
   "id": "283b6a35",
   "metadata": {},
   "outputs": [
    {
     "data": {
      "text/plain": [
       "tensor([0, 1, 4])"
      ]
     },
     "execution_count": 30,
     "metadata": {},
     "output_type": "execute_result"
    }
   ],
   "source": [
    "tensorA // tensorB"
   ]
  },
  {
   "cell_type": "code",
   "execution_count": 31,
   "id": "5551ce67",
   "metadata": {},
   "outputs": [
    {
     "data": {
      "text/plain": [
       "tensor([21, 25, 16])"
      ]
     },
     "execution_count": 31,
     "metadata": {},
     "output_type": "execute_result"
    }
   ],
   "source": [
    "# Multiplication element wise \n",
    "tensorA * tensorB"
   ]
  },
  {
   "cell_type": "code",
   "execution_count": 32,
   "id": "a9741353",
   "metadata": {},
   "outputs": [
    {
     "data": {
      "text/plain": [
       "tensor([30, 50, 80])"
      ]
     },
     "execution_count": 32,
     "metadata": {},
     "output_type": "execute_result"
    }
   ],
   "source": [
    "tensorA * 10"
   ]
  },
  {
   "cell_type": "markdown",
   "id": "397e08e4",
   "metadata": {},
   "source": [
    "- Matrix Multiplication "
   ]
  },
  {
   "cell_type": "code",
   "execution_count": 33,
   "id": "1111da95",
   "metadata": {},
   "outputs": [
    {
     "data": {
      "text/plain": [
       "torch.Size([3])"
      ]
     },
     "execution_count": 33,
     "metadata": {},
     "output_type": "execute_result"
    }
   ],
   "source": [
    "tensorA.shape"
   ]
  },
  {
   "cell_type": "code",
   "execution_count": null,
   "id": "4a200238",
   "metadata": {},
   "outputs": [
    {
     "data": {
      "text/plain": [
       "tensor(98)"
      ]
     },
     "execution_count": 34,
     "metadata": {},
     "output_type": "execute_result"
    }
   ],
   "source": [
    "tensorA @ tensorA # it is actually vector dot product"
   ]
  },
  {
   "cell_type": "code",
   "execution_count": 47,
   "id": "e5bb2893",
   "metadata": {},
   "outputs": [
    {
     "name": "stdout",
     "output_type": "stream",
     "text": [
      "CPU times: total: 0 ns\n",
      "Wall time: 571 μs\n"
     ]
    },
    {
     "data": {
      "text/plain": [
       "tensor(98)"
      ]
     },
     "execution_count": 47,
     "metadata": {},
     "output_type": "execute_result"
    }
   ],
   "source": [
    "%%time \n",
    "v = 0\n",
    "for i in range(len(tensorA)):\n",
    "    v += tensorA[i] * tensorA[i]\n",
    "\n",
    "v"
   ]
  },
  {
   "cell_type": "code",
   "execution_count": null,
   "id": "8e321aa1",
   "metadata": {},
   "outputs": [
    {
     "name": "stdout",
     "output_type": "stream",
     "text": [
      "CPU times: total: 0 ns\n",
      "Wall time: 0 ns\n"
     ]
    },
    {
     "data": {
      "text/plain": [
       "tensor(98)"
      ]
     },
     "execution_count": 51,
     "metadata": {},
     "output_type": "execute_result"
    }
   ],
   "source": [
    "%%time \n",
    "torch.matmul(tensorA, tensorA) # more faster \n",
    "# because it uses the hardwares parallel computing "
   ]
  },
  {
   "cell_type": "markdown",
   "id": "2586b93d",
   "metadata": {},
   "source": [
    "- Matrix multiplication error for size"
   ]
  },
  {
   "cell_type": "code",
   "execution_count": 52,
   "id": "b1e7de3c",
   "metadata": {},
   "outputs": [
    {
     "ename": "RuntimeError",
     "evalue": "mat1 and mat2 shapes cannot be multiplied (3x2 and 3x2)",
     "output_type": "error",
     "traceback": [
      "\u001b[1;31m---------------------------------------------------------------------------\u001b[0m",
      "\u001b[1;31mRuntimeError\u001b[0m                              Traceback (most recent call last)",
      "Cell \u001b[1;32mIn[52], line 10\u001b[0m\n\u001b[0;32m      2\u001b[0m tensor_A \u001b[38;5;241m=\u001b[39m torch\u001b[38;5;241m.\u001b[39mtensor([[\u001b[38;5;241m1\u001b[39m, \u001b[38;5;241m2\u001b[39m],\n\u001b[0;32m      3\u001b[0m                          [\u001b[38;5;241m3\u001b[39m, \u001b[38;5;241m4\u001b[39m],\n\u001b[0;32m      4\u001b[0m                          [\u001b[38;5;241m5\u001b[39m, \u001b[38;5;241m6\u001b[39m]], dtype\u001b[38;5;241m=\u001b[39mtorch\u001b[38;5;241m.\u001b[39mfloat32)\n\u001b[0;32m      6\u001b[0m tensor_B \u001b[38;5;241m=\u001b[39m torch\u001b[38;5;241m.\u001b[39mtensor([[\u001b[38;5;241m7\u001b[39m, \u001b[38;5;241m10\u001b[39m],\n\u001b[0;32m      7\u001b[0m                          [\u001b[38;5;241m8\u001b[39m, \u001b[38;5;241m11\u001b[39m], \n\u001b[0;32m      8\u001b[0m                          [\u001b[38;5;241m9\u001b[39m, \u001b[38;5;241m12\u001b[39m]], dtype\u001b[38;5;241m=\u001b[39mtorch\u001b[38;5;241m.\u001b[39mfloat32)\n\u001b[1;32m---> 10\u001b[0m \u001b[43mtorch\u001b[49m\u001b[38;5;241;43m.\u001b[39;49m\u001b[43mmatmul\u001b[49m\u001b[43m(\u001b[49m\u001b[43mtensor_A\u001b[49m\u001b[43m,\u001b[49m\u001b[43m \u001b[49m\u001b[43mtensor_B\u001b[49m\u001b[43m)\u001b[49m \u001b[38;5;66;03m# (this will error)\u001b[39;00m\n",
      "\u001b[1;31mRuntimeError\u001b[0m: mat1 and mat2 shapes cannot be multiplied (3x2 and 3x2)"
     ]
    }
   ],
   "source": [
    "# Shapes need to be in the right way  \n",
    "tensor_A = torch.tensor([[1, 2],\n",
    "                         [3, 4],\n",
    "                         [5, 6]], dtype=torch.float32)\n",
    "\n",
    "tensor_B = torch.tensor([[7, 10],\n",
    "                         [8, 11], \n",
    "                         [9, 12]], dtype=torch.float32)\n",
    "\n",
    "torch.matmul(tensor_A, tensor_B) # (this will error)"
   ]
  },
  {
   "cell_type": "code",
   "execution_count": 53,
   "id": "8eaf041f",
   "metadata": {},
   "outputs": [
    {
     "data": {
      "text/plain": [
       "tensor([[ 27.,  30.,  33.],\n",
       "        [ 61.,  68.,  75.],\n",
       "        [ 95., 106., 117.]])"
      ]
     },
     "execution_count": 53,
     "metadata": {},
     "output_type": "execute_result"
    }
   ],
   "source": [
    "torch.matmul(tensor_A, tensor_B.T)"
   ]
  },
  {
   "cell_type": "markdown",
   "id": "a09add8a",
   "metadata": {},
   "source": [
    "- Not understood the below"
   ]
  },
  {
   "cell_type": "code",
   "execution_count": 64,
   "id": "789a0869",
   "metadata": {},
   "outputs": [
    {
     "data": {
      "text/plain": [
       "(torch.Size([3, 2]),\n",
       " tensor([[2.2368, 1.2292, 0.4714, 0.3864, 0.1309, 0.9838],\n",
       "         [4.4919, 2.1970, 0.4469, 0.5285, 0.3401, 2.4777],\n",
       "         [6.7469, 3.1648, 0.4224, 0.6705, 0.5493, 3.9716]],\n",
       "        grad_fn=<AddmmBackward0>),\n",
       " torch.Size([3, 6]),\n",
       " tensor([[1., 2.],\n",
       "         [3., 4.],\n",
       "         [5., 6.]]))"
      ]
     },
     "execution_count": 64,
     "metadata": {},
     "output_type": "execute_result"
    }
   ],
   "source": [
    "torch.manual_seed(42)\n",
    "linear = torch.nn.Linear(in_features=2,\n",
    "                         out_features=6)\n",
    "x = tensor_A\n",
    "output = linear(x)\n",
    "x.shape, output, output.shape, tensor_A"
   ]
  },
  {
   "cell_type": "code",
   "execution_count": null,
   "id": "62f5b6e0",
   "metadata": {},
   "outputs": [],
   "source": [
    "torch.manual_seed(42)\n",
    "linear = torch.nn.Linear(in_features=2,\n",
    "                         out_features=6)\n",
    "x = tensor_A\n",
    "output = linear(x)\n",
    "x.shape, output, output.shape"
   ]
  },
  {
   "cell_type": "markdown",
   "id": "40a95aa3",
   "metadata": {},
   "source": [
    "- Aggregation function"
   ]
  },
  {
   "cell_type": "code",
   "execution_count": 65,
   "id": "d7054b20",
   "metadata": {},
   "outputs": [
    {
     "data": {
      "text/plain": [
       "tensor([ 0, 10, 20, 30, 40, 50, 60, 70, 80, 90])"
      ]
     },
     "execution_count": 65,
     "metadata": {},
     "output_type": "execute_result"
    }
   ],
   "source": [
    "x = torch.arange(0, 100, 10)\n",
    "x"
   ]
  },
  {
   "cell_type": "code",
   "execution_count": 66,
   "id": "92341893",
   "metadata": {},
   "outputs": [
    {
     "ename": "RuntimeError",
     "evalue": "std and var only support floating point and complex dtypes",
     "output_type": "error",
     "traceback": [
      "\u001b[1;31m---------------------------------------------------------------------------\u001b[0m",
      "\u001b[1;31mRuntimeError\u001b[0m                              Traceback (most recent call last)",
      "Cell \u001b[1;32mIn[66], line 1\u001b[0m\n\u001b[1;32m----> 1\u001b[0m x\u001b[38;5;241m.\u001b[39mmin(),x\u001b[38;5;241m.\u001b[39mmax(), \u001b[43mx\u001b[49m\u001b[38;5;241;43m.\u001b[39;49m\u001b[43mstd\u001b[49m\u001b[43m(\u001b[49m\u001b[43m)\u001b[49m, x\u001b[38;5;241m.\u001b[39msum()\n",
      "\u001b[1;31mRuntimeError\u001b[0m: std and var only support floating point and complex dtypes"
     ]
    }
   ],
   "source": [
    "x.min(),x.max(), x.std(), x.sum()"
   ]
  },
  {
   "cell_type": "code",
   "execution_count": null,
   "id": "5ba3022a",
   "metadata": {},
   "outputs": [
    {
     "ename": "RuntimeError",
     "evalue": "std and var only support floating point and complex dtypes",
     "output_type": "error",
     "traceback": [
      "\u001b[1;31m---------------------------------------------------------------------------\u001b[0m",
      "\u001b[1;31mRuntimeError\u001b[0m                              Traceback (most recent call last)",
      "Cell \u001b[1;32mIn[69], line 1\u001b[0m\n\u001b[1;32m----> 1\u001b[0m \u001b[43mx\u001b[49m\u001b[38;5;241;43m.\u001b[39;49m\u001b[43mstd\u001b[49m\u001b[43m(\u001b[49m\u001b[43m)\u001b[49m, x\u001b[38;5;241m.\u001b[39mmean()\n",
      "\u001b[1;31mRuntimeError\u001b[0m: std and var only support floating point and complex dtypes"
     ]
    }
   ],
   "source": [
    "x.std(), x.mean()\n",
    "# Error: std, mean only support floating point "
   ]
  },
  {
   "cell_type": "code",
   "execution_count": 67,
   "id": "4314e142",
   "metadata": {},
   "outputs": [
    {
     "data": {
      "text/plain": [
       "(tensor(0), tensor(90), tensor(450))"
      ]
     },
     "execution_count": 67,
     "metadata": {},
     "output_type": "execute_result"
    }
   ],
   "source": [
    "x.min(),x.max(), x.sum()"
   ]
  },
  {
   "cell_type": "code",
   "execution_count": 68,
   "id": "26648384",
   "metadata": {},
   "outputs": [
    {
     "data": {
      "text/plain": [
       "tensor(30.2765)"
      ]
     },
     "execution_count": 68,
     "metadata": {},
     "output_type": "execute_result"
    }
   ],
   "source": [
    "x.type(torch.float).std()"
   ]
  },
  {
   "cell_type": "code",
   "execution_count": 70,
   "id": "bf6cd7b9",
   "metadata": {},
   "outputs": [
    {
     "data": {
      "text/plain": [
       "(tensor(90), tensor(0), tensor(45.), tensor(450))"
      ]
     },
     "execution_count": 70,
     "metadata": {},
     "output_type": "execute_result"
    }
   ],
   "source": [
    "torch.max(x), torch.min(x), torch.mean(x.type(torch.float32)), torch.sum(x)"
   ]
  },
  {
   "cell_type": "markdown",
   "id": "c42a9fd1",
   "metadata": {},
   "source": [
    "- Index of higest value "
   ]
  },
  {
   "cell_type": "code",
   "execution_count": 74,
   "id": "88488e94",
   "metadata": {},
   "outputs": [
    {
     "data": {
      "text/plain": [
       "(tensor([10, 20, 30, 40, 50, 60, 70, 80, 90]), [tensor(8), tensor(0)])"
      ]
     },
     "execution_count": 74,
     "metadata": {},
     "output_type": "execute_result"
    }
   ],
   "source": [
    "# Create a tensor\n",
    "tensor = torch.arange(10, 100, 10)\n",
    "tensor, [tensor.argmax(), \n",
    "         tensor.argmin()]"
   ]
  },
  {
   "cell_type": "markdown",
   "id": "2a910dec",
   "metadata": {},
   "source": [
    "- Change tensor datatype"
   ]
  },
  {
   "cell_type": "code",
   "execution_count": 76,
   "id": "ccb39e2c",
   "metadata": {},
   "outputs": [
    {
     "data": {
      "text/plain": [
       "torch.float32"
      ]
     },
     "execution_count": 76,
     "metadata": {},
     "output_type": "execute_result"
    }
   ],
   "source": [
    "# Create a tensor and check its datatype\n",
    "tensor_float32 = torch.arange(10., 100., 10.)\n",
    "tensor_float32.dtype"
   ]
  },
  {
   "cell_type": "code",
   "execution_count": 78,
   "id": "c20fc7f8",
   "metadata": {},
   "outputs": [
    {
     "data": {
      "text/plain": [
       "torch.float16"
      ]
     },
     "execution_count": 78,
     "metadata": {},
     "output_type": "execute_result"
    }
   ],
   "source": [
    "tensor_float16 = tensor_float32.type(torch.float16)\n",
    "tensor_float16.dtype"
   ]
  },
  {
   "cell_type": "code",
   "execution_count": 79,
   "id": "7a59bbd2",
   "metadata": {},
   "outputs": [
    {
     "data": {
      "text/plain": [
       "torch.int64"
      ]
     },
     "execution_count": 79,
     "metadata": {},
     "output_type": "execute_result"
    }
   ],
   "source": [
    "torch_intdefault = torch.tensor([1,2,3,4])\n",
    "torch_intdefault.dtype"
   ]
  },
  {
   "cell_type": "code",
   "execution_count": 82,
   "id": "39c155a7",
   "metadata": {},
   "outputs": [
    {
     "data": {
      "text/plain": [
       "torch.float16"
      ]
     },
     "execution_count": 82,
     "metadata": {},
     "output_type": "execute_result"
    }
   ],
   "source": [
    "# int64 to float16 or half\n",
    "tensor_float_half = torch_intdefault.type(torch.half)\n",
    "tensor_float_half.dtype"
   ]
  },
  {
   "cell_type": "markdown",
   "id": "da0b93f9",
   "metadata": {},
   "source": [
    "- Reshaping,viewing, stacking, squeezing and unsqueezing"
   ]
  },
  {
   "cell_type": "code",
   "execution_count": 83,
   "id": "4e3a2408",
   "metadata": {},
   "outputs": [
    {
     "data": {
      "text/plain": [
       "(tensor([1., 2., 3., 4., 5., 6., 7.]), torch.Size([7]))"
      ]
     },
     "execution_count": 83,
     "metadata": {},
     "output_type": "execute_result"
    }
   ],
   "source": [
    "# Create a tensor\n",
    "import torch\n",
    "x = torch.arange(1., 8.)\n",
    "x, x.shape"
   ]
  },
  {
   "cell_type": "code",
   "execution_count": 86,
   "id": "41e79e43",
   "metadata": {},
   "outputs": [
    {
     "data": {
      "text/plain": [
       "torch.Size([1, 7])"
      ]
     },
     "execution_count": 86,
     "metadata": {},
     "output_type": "execute_result"
    }
   ],
   "source": [
    "x_reshaped = x.reshape(1,7)\n",
    "x_reshaped.shape"
   ]
  },
  {
   "cell_type": "code",
   "execution_count": 87,
   "id": "f60eb084",
   "metadata": {},
   "outputs": [
    {
     "data": {
      "text/plain": [
       "torch.Size([3, 3])"
      ]
     },
     "execution_count": 87,
     "metadata": {},
     "output_type": "execute_result"
    }
   ],
   "source": [
    "x = torch.arange(1,10)\n",
    "x_reshaped = x.reshape(3,3)\n",
    "x_reshaped.shape"
   ]
  },
  {
   "cell_type": "markdown",
   "id": "96003b74",
   "metadata": {},
   "source": [
    "- View  \n",
    "changing the view changes the original tensor too."
   ]
  },
  {
   "cell_type": "code",
   "execution_count": 88,
   "id": "b38110a0",
   "metadata": {},
   "outputs": [
    {
     "data": {
      "text/plain": [
       "(tensor([1, 2, 3, 4, 5, 6, 7, 8, 9]),\n",
       " tensor([[1, 2, 3],\n",
       "         [4, 5, 6],\n",
       "         [7, 8, 9]]))"
      ]
     },
     "execution_count": 88,
     "metadata": {},
     "output_type": "execute_result"
    }
   ],
   "source": [
    "y = torch.arange(1,10)\n",
    "z = y.view(3,3)\n",
    "y, z"
   ]
  },
  {
   "cell_type": "code",
   "execution_count": 100,
   "id": "68652aa2",
   "metadata": {},
   "outputs": [
    {
     "data": {
      "text/plain": [
       "torch.Size([2, 5])"
      ]
     },
     "execution_count": 100,
     "metadata": {},
     "output_type": "execute_result"
    }
   ],
   "source": [
    "# Stack tensors on top of each other\n",
    "x = torch.tensor([1,2,3,4,5])\n",
    "x_stacked = torch.stack([x, x], dim=0) # try changing dim to dim=1 and see what happens\n",
    "x_stacked.shape"
   ]
  },
  {
   "cell_type": "code",
   "execution_count": 99,
   "id": "83f479fe",
   "metadata": {},
   "outputs": [
    {
     "data": {
      "text/plain": [
       "torch.Size([5, 2])"
      ]
     },
     "execution_count": 99,
     "metadata": {},
     "output_type": "execute_result"
    }
   ],
   "source": [
    "# Stack tensors side by side\n",
    "x = torch.tensor([1,2,3,4,5])\n",
    "x_stacked = torch.stack([x, x], dim=1) # try changing dim to dim=1 and see what happens\n",
    "x_stacked.shape"
   ]
  },
  {
   "cell_type": "markdown",
   "id": "e5871703",
   "metadata": {},
   "source": [
    "| `dim` value | Shape       | What's happening         |\n",
    "|-------------|-------------|--------------------------|\n",
    "| `dim=0`     | `(2, 5)`    | Stack on top of each other (new outer axis) |\n",
    "| `dim=1`     | `(5, 2)`    | Stack side by side (new inner axis)        |"
   ]
  },
  {
   "cell_type": "code",
   "execution_count": 101,
   "id": "1b1219d4",
   "metadata": {},
   "outputs": [
    {
     "data": {
      "text/plain": [
       "torch.Size([1, 3, 1, 4, 1, 1])"
      ]
     },
     "execution_count": 101,
     "metadata": {},
     "output_type": "execute_result"
    }
   ],
   "source": [
    "x = torch.randn(1, 3, 1, 4, 1, 1)\n",
    "x.shape"
   ]
  },
  {
   "cell_type": "code",
   "execution_count": null,
   "id": "50497725",
   "metadata": {},
   "outputs": [
    {
     "data": {
      "text/plain": [
       "torch.Size([3, 4])"
      ]
     },
     "execution_count": 102,
     "metadata": {},
     "output_type": "execute_result"
    }
   ],
   "source": [
    "x.squeeze().shape # removes all one dimension"
   ]
  },
  {
   "cell_type": "code",
   "execution_count": null,
   "id": "ca8a2a8c",
   "metadata": {},
   "outputs": [
    {
     "data": {
      "text/plain": [
       "torch.Size([1, 3, 4, 1, 1])"
      ]
     },
     "execution_count": 103,
     "metadata": {},
     "output_type": "execute_result"
    }
   ],
   "source": [
    "x.squeeze(2).shape # removes specific dimension of index 2"
   ]
  },
  {
   "cell_type": "code",
   "execution_count": null,
   "id": "0d5f09b3",
   "metadata": {},
   "outputs": [
    {
     "data": {
      "text/plain": [
       "torch.Size([1, 3, 4, 1])"
      ]
     },
     "execution_count": 104,
     "metadata": {},
     "output_type": "execute_result"
    }
   ],
   "source": [
    "x.squeeze(2,4).shape # removes specific dimension of index 2,4"
   ]
  },
  {
   "cell_type": "code",
   "execution_count": 109,
   "id": "8fb884d0",
   "metadata": {},
   "outputs": [
    {
     "name": "stdout",
     "output_type": "stream",
     "text": [
      "Original Tensor Shape: torch.Size([3, 4])\n",
      "Unsqueezed Tensor Shape: torch.Size([3, 1, 4])\n"
     ]
    }
   ],
   "source": [
    "# Creating a tensor with a shape of (3, 4)\n",
    "x = torch.randn(3, 4)\n",
    "print(\"Original Tensor Shape:\", x.shape)\n",
    "\n",
    "unsqueezed_x = x.unsqueeze(dim=1)\n",
    "print(\"Unsqueezed Tensor Shape:\", unsqueezed_x.shape)"
   ]
  },
  {
   "cell_type": "code",
   "execution_count": null,
   "id": "ed5b8b94",
   "metadata": {},
   "outputs": [
    {
     "name": "stdout",
     "output_type": "stream",
     "text": [
      "Original Tensor Shape: torch.Size([3, 4])\n",
      "Unsqueezed Tensor Shape: torch.Size([3, 4, 1])\n"
     ]
    }
   ],
   "source": [
    "# Creating a tensor with a shape of (3, 4)\n",
    "x = torch.randn(3, 4)\n",
    "print(\"Original Tensor Shape:\", x.shape)\n",
    "\n",
    "# Using unsqueeze to add a new dimension at index 2\n",
    "unsqueezed_x = x.unsqueeze(2)\n",
    "print(\"Unsqueezed Tensor Shape:\", unsqueezed_x.shape)"
   ]
  },
  {
   "cell_type": "code",
   "execution_count": 114,
   "id": "5c61b8f5",
   "metadata": {},
   "outputs": [
    {
     "name": "stdout",
     "output_type": "stream",
     "text": [
      "Previous shape: torch.Size([2, 5, 1, 4, 3])\n",
      "New shape: torch.Size([3, 2, 5, 4, 1])\n"
     ]
    }
   ],
   "source": [
    "# Create tensor with specific shape\n",
    "x_original = torch.rand(size=(2, 5, 1, 4, 3))\n",
    "\n",
    "# Permute the original tensor to rearrange the axis order\n",
    "x_permuted = x_original.permute(4, 0, 1, 3, 2) # shifts axis 0->1, 1->2, 2->0\n",
    "\n",
    "print(f\"Previous shape: {x_original.shape}\")\n",
    "print(f\"New shape: {x_permuted.shape}\")"
   ]
  },
  {
   "cell_type": "markdown",
   "id": "b6e06bc3",
   "metadata": {},
   "source": [
    "PyTorch tensors & NumPy\n",
    "- `torch.from_numpy(ndarray)` - NumPy array -> PyTorch tensor.\n",
    "- `tensor.numpy()` - PyTorch tensor -> NumPy array."
   ]
  },
  {
   "cell_type": "code",
   "execution_count": 4,
   "id": "2f51dbaa",
   "metadata": {},
   "outputs": [
    {
     "data": {
      "text/plain": [
       "(array([ 1.,  2.,  3.,  4.,  5.,  6.,  7.,  8.,  9., 10.]),\n",
       " tensor([ 1.,  2.,  3.,  4.,  5.,  6.,  7.,  8.,  9., 10.], dtype=torch.float64),\n",
       " dtype('float64'),\n",
       " torch.float64)"
      ]
     },
     "execution_count": 4,
     "metadata": {},
     "output_type": "execute_result"
    }
   ],
   "source": [
    "# Numpy array to tensor\n",
    "import torch\n",
    "import numpy as np\n",
    "array = np.arange(1., 11.)\n",
    "tensor = torch.from_numpy(array)\n",
    "array, tensor, array.dtype, tensor.dtype"
   ]
  },
  {
   "cell_type": "code",
   "execution_count": 3,
   "id": "e97c320a",
   "metadata": {},
   "outputs": [
    {
     "data": {
      "text/plain": [
       "(array([ 1,  2,  3,  4,  5,  6,  7,  8,  9, 10]),\n",
       " tensor([ 1,  2,  3,  4,  5,  6,  7,  8,  9, 10]),\n",
       " dtype('int64'),\n",
       " torch.int64)"
      ]
     },
     "execution_count": 3,
     "metadata": {},
     "output_type": "execute_result"
    }
   ],
   "source": [
    "array = np.arange(1, 11)\n",
    "tensor = torch.from_numpy(array)\n",
    "array, tensor, array.dtype, tensor.dtype"
   ]
  },
  {
   "cell_type": "code",
   "execution_count": 5,
   "id": "d5522cef",
   "metadata": {},
   "outputs": [
    {
     "data": {
      "text/plain": [
       "(array([1., 2., 3., 4., 5.], dtype=float32),\n",
       " tensor([1., 2., 3., 4., 5.]),\n",
       " dtype('float32'),\n",
       " torch.float32)"
      ]
     },
     "execution_count": 5,
     "metadata": {},
     "output_type": "execute_result"
    }
   ],
   "source": [
    "tensor = torch.arange(1., 6.)\n",
    "numpy_array = tensor.numpy()\n",
    "numpy_array, tensor, numpy_array.dtype, tensor.dtype"
   ]
  },
  {
   "cell_type": "markdown",
   "id": "4325bb98",
   "metadata": {},
   "source": [
    "- Reproducibility (trying to take the random out of random)"
   ]
  },
  {
   "cell_type": "markdown",
   "id": "a4b8da98",
   "metadata": {},
   "source": [
    "Reproducibility means being able to get the same results every time you run your code — even if it involves randomness."
   ]
  },
  {
   "cell_type": "code",
   "execution_count": 6,
   "id": "b471bf1a",
   "metadata": {},
   "outputs": [
    {
     "data": {
      "text/plain": [
       "(tensor([[0.8528, 0.5276, 0.6332, 0.0574],\n",
       "         [0.3161, 0.3725, 0.9957, 0.4663],\n",
       "         [0.2812, 0.4072, 0.0341, 0.8001]]),\n",
       " tensor([[0.9060, 0.5611, 0.4392, 0.0141],\n",
       "         [0.0947, 0.9548, 0.0317, 0.8876],\n",
       "         [0.5747, 0.8568, 0.9228, 0.6013]]),\n",
       " tensor([[False, False, False, False],\n",
       "         [False, False, False, False],\n",
       "         [False, False, False, False]]))"
      ]
     },
     "execution_count": 6,
     "metadata": {},
     "output_type": "execute_result"
    }
   ],
   "source": [
    "import torch\n",
    "# Create two random tensors\n",
    "random_tensor_A = torch.rand(3, 4)\n",
    "random_tensor_B = torch.rand(3, 4)\n",
    "random_tensor_A, random_tensor_B, random_tensor_A == random_tensor_B "
   ]
  },
  {
   "cell_type": "code",
   "execution_count": 26,
   "id": "685edf7d",
   "metadata": {},
   "outputs": [
    {
     "data": {
      "text/plain": [
       "[[tensor([[0.8823, 0.9150, 0.3829, 0.9593],\n",
       "          [0.3904, 0.6009, 0.2566, 0.7936],\n",
       "          [0.9408, 0.1332, 0.9346, 0.5936]]),\n",
       "  tensor([[0.8823, 0.9150, 0.3829, 0.9593],\n",
       "          [0.3904, 0.6009, 0.2566, 0.7936],\n",
       "          [0.9408, 0.1332, 0.9346, 0.5936]])],\n",
       " tensor([[True, True, True, True],\n",
       "         [True, True, True, True],\n",
       "         [True, True, True, True]])]"
      ]
     },
     "execution_count": 26,
     "metadata": {},
     "output_type": "execute_result"
    }
   ],
   "source": [
    "import torch\n",
    "import random\n",
    "\n",
    "RANDOM_SEED = 42\n",
    "torch.manual_seed(seed = RANDOM_SEED)\n",
    "random_tensor_C = torch.rand(3, 4)\n",
    "\n",
    "torch.manual_seed(seed = RANDOM_SEED)\n",
    "random_tensor_D = torch.rand(3, 4)\n",
    "[\n",
    "[random_tensor_C, random_tensor_D],\n",
    "random_tensor_C == random_tensor_D\n",
    "]"
   ]
  },
  {
   "cell_type": "markdown",
   "id": "4dfc954f",
   "metadata": {},
   "source": [
    "- Exercise"
   ]
  },
  {
   "cell_type": "code",
   "execution_count": 28,
   "id": "f78b117c",
   "metadata": {},
   "outputs": [
    {
     "data": {
      "text/plain": [
       "tensor([[0.1587, 0.6542, 0.3278, 0.6532, 0.3958, 0.9147, 0.2036],\n",
       "        [0.2018, 0.2018, 0.9497, 0.6666, 0.9811, 0.0874, 0.0041],\n",
       "        [0.1088, 0.1637, 0.7025, 0.6790, 0.9155, 0.2418, 0.1591],\n",
       "        [0.7653, 0.2979, 0.8035, 0.3813, 0.7860, 0.1115, 0.2477],\n",
       "        [0.6524, 0.6057, 0.3725, 0.7980, 0.8399, 0.1374, 0.2331],\n",
       "        [0.9578, 0.3313, 0.3227, 0.0162, 0.2137, 0.6249, 0.4340],\n",
       "        [0.1371, 0.5117, 0.1585, 0.0758, 0.2247, 0.0624, 0.1816]])"
      ]
     },
     "execution_count": 28,
     "metadata": {},
     "output_type": "execute_result"
    }
   ],
   "source": [
    "# 2: Solution \n",
    "random_tensor_x = torch.rand(size = (7, 7))\n",
    "random_tensor_x"
   ]
  },
  {
   "cell_type": "code",
   "execution_count": 29,
   "id": "99d12e49",
   "metadata": {},
   "outputs": [
    {
     "data": {
      "text/plain": [
       "tensor([[1.2748],\n",
       "        [1.1652],\n",
       "        [1.0182],\n",
       "        [1.7959],\n",
       "        [1.6076],\n",
       "        [1.8623],\n",
       "        [0.7118]])"
      ]
     },
     "execution_count": 29,
     "metadata": {},
     "output_type": "execute_result"
    }
   ],
   "source": [
    "# 3: Solution\n",
    "random_tensor_y = torch.rand(size = (1, 7))\n",
    "# (1x7) can't be multiply with (7x7)\n",
    "# so I have to transpose (1x7) to (7x1)\n",
    "random_tensor_x @ random_tensor_y.T"
   ]
  },
  {
   "cell_type": "code",
   "execution_count": null,
   "id": "cc1eb71b",
   "metadata": {},
   "outputs": [],
   "source": [
    "# 4: solution \n"
   ]
  }
 ],
 "metadata": {
  "kernelspec": {
   "display_name": "base",
   "language": "python",
   "name": "python3"
  },
  "language_info": {
   "codemirror_mode": {
    "name": "ipython",
    "version": 3
   },
   "file_extension": ".py",
   "mimetype": "text/x-python",
   "name": "python",
   "nbconvert_exporter": "python",
   "pygments_lexer": "ipython3",
   "version": "3.12.7"
  }
 },
 "nbformat": 4,
 "nbformat_minor": 5
}
