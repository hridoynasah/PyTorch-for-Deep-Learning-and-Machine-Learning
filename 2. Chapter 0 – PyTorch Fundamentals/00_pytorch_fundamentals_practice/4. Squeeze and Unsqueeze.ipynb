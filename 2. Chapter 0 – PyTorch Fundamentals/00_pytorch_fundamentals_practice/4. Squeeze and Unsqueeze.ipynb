{
 "cells": [
  {
   "cell_type": "code",
   "execution_count": 1,
   "metadata": {},
   "outputs": [],
   "source": [
    "import torch"
   ]
  },
  {
   "cell_type": "code",
   "execution_count": 2,
   "metadata": {},
   "outputs": [
    {
     "data": {
      "text/plain": [
       "3"
      ]
     },
     "execution_count": 2,
     "metadata": {},
     "output_type": "execute_result"
    }
   ],
   "source": [
    "tensor_3D = torch.tensor([[[1, 2],\n",
    "                          [3, 4]]])\n",
    "tensor_squeezed = torch.squeeze(tensor_3D)\n",
    "tensor_3D.ndim"
   ]
  },
  {
   "cell_type": "code",
   "execution_count": 3,
   "metadata": {},
   "outputs": [
    {
     "name": "stdout",
     "output_type": "stream",
     "text": [
      "Dimension of tensor_3D: 3\n",
      "Dimension of tensor_squeezed: 2\n"
     ]
    }
   ],
   "source": [
    "print(f'Dimension of tensor_3D: {tensor_3D.ndim}')\n",
    "print(f'Dimension of tensor_squeezed: {tensor_squeezed.ndim}')"
   ]
  },
  {
   "cell_type": "code",
   "execution_count": 4,
   "metadata": {},
   "outputs": [
    {
     "data": {
      "text/plain": [
       "(tensor([1, 2, 3]), torch.Size([3]), 1)"
      ]
     },
     "execution_count": 4,
     "metadata": {},
     "output_type": "execute_result"
    }
   ],
   "source": [
    "x = torch.tensor([1,2,3])\n",
    "x, x.shape, x.ndim"
   ]
  },
  {
   "cell_type": "code",
   "execution_count": 5,
   "metadata": {},
   "outputs": [
    {
     "data": {
      "text/plain": [
       "(tensor([[1],\n",
       "         [2],\n",
       "         [3]]),\n",
       " torch.Size([3, 1]),\n",
       " 2)"
      ]
     },
     "execution_count": 5,
     "metadata": {},
     "output_type": "execute_result"
    }
   ],
   "source": [
    "x_unsqueezed = torch.unsqueeze(x, dim = 1)\n",
    "x_unsqueezed, x_unsqueezed.shape, x_unsqueezed.ndim"
   ]
  },
  {
   "cell_type": "code",
   "execution_count": 9,
   "metadata": {},
   "outputs": [
    {
     "data": {
      "text/plain": [
       "(tensor(9), tensor(9))"
      ]
     },
     "execution_count": 9,
     "metadata": {},
     "output_type": "execute_result"
    }
   ],
   "source": [
    "x = torch.tensor(9)\n",
    "x_squeezed = torch.squeeze(x)\n",
    "x_squeezed, x"
   ]
  },
  {
   "cell_type": "code",
   "execution_count": null,
   "metadata": {},
   "outputs": [
    {
     "data": {
      "text/plain": [
       "(tensor([[1, 2, 3, 4]]), 2, tensor([1, 2, 3, 4]), 1)"
      ]
     },
     "execution_count": 15,
     "metadata": {},
     "output_type": "execute_result"
    }
   ],
   "source": [
    "x = torch.tensor([1, 2, 3, 4])\n",
    "x_unsqueezed = torch.unsqueeze(x, dim=0)\n",
    "x_unsqueezed, x_unsqueezed.ndim, x, x.ndim"
   ]
  },
  {
   "cell_type": "code",
   "execution_count": 17,
   "metadata": {},
   "outputs": [
    {
     "data": {
      "text/plain": [
       "(tensor([[1],\n",
       "         [2],\n",
       "         [3],\n",
       "         [4]]),\n",
       " 2,\n",
       " tensor([1, 2, 3, 4]),\n",
       " 1)"
      ]
     },
     "execution_count": 17,
     "metadata": {},
     "output_type": "execute_result"
    }
   ],
   "source": [
    "x = torch.tensor([1, 2, 3, 4])\n",
    "x_unsqueezed = torch.unsqueeze(x, dim=1)\n",
    "x_unsqueezed, x_unsqueezed.ndim, x, x.ndim"
   ]
  },
  {
   "cell_type": "code",
   "execution_count": 18,
   "metadata": {},
   "outputs": [
    {
     "data": {
      "text/plain": [
       "(tensor([[[1, 2, 3, 4],\n",
       "          [1, 3, 5, 7],\n",
       "          [4, 9, 0, 1]]]),\n",
       " 3,\n",
       " tensor([[1, 2, 3, 4],\n",
       "         [1, 3, 5, 7],\n",
       "         [4, 9, 0, 1]]),\n",
       " 2)"
      ]
     },
     "execution_count": 18,
     "metadata": {},
     "output_type": "execute_result"
    }
   ],
   "source": [
    "x = torch.tensor([[1, 2, 3, 4],\n",
    "                  [1, 3, 5, 7],\n",
    "                  [4, 9, 0, 1]])\n",
    "x_unsqueezed = torch.unsqueeze(x, dim=0)\n",
    "x_unsqueezed, x_unsqueezed.ndim, x, x.ndim"
   ]
  },
  {
   "cell_type": "code",
   "execution_count": 19,
   "metadata": {},
   "outputs": [
    {
     "data": {
      "text/plain": [
       "(tensor([[[1, 2, 3, 4]],\n",
       " \n",
       "         [[1, 3, 5, 7]],\n",
       " \n",
       "         [[4, 9, 0, 1]]]),\n",
       " 3,\n",
       " tensor([[1, 2, 3, 4],\n",
       "         [1, 3, 5, 7],\n",
       "         [4, 9, 0, 1]]),\n",
       " 2)"
      ]
     },
     "execution_count": 19,
     "metadata": {},
     "output_type": "execute_result"
    }
   ],
   "source": [
    "x = torch.tensor([[1, 2, 3, 4],\n",
    "                  [1, 3, 5, 7],\n",
    "                  [4, 9, 0, 1]])\n",
    "x_unsqueezed = torch.unsqueeze(x, dim=1)\n",
    "x_unsqueezed, x_unsqueezed.ndim, x, x.ndim"
   ]
  }
 ],
 "metadata": {
  "kernelspec": {
   "display_name": "base",
   "language": "python",
   "name": "python3"
  },
  "language_info": {
   "codemirror_mode": {
    "name": "ipython",
    "version": 3
   },
   "file_extension": ".py",
   "mimetype": "text/x-python",
   "name": "python",
   "nbconvert_exporter": "python",
   "pygments_lexer": "ipython3",
   "version": "3.12.7"
  }
 },
 "nbformat": 4,
 "nbformat_minor": 2
}
