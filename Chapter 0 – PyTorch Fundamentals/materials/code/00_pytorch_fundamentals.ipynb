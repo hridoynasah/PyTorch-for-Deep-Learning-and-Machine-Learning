{
 "cells": [
  {
   "cell_type": "markdown",
   "id": "25987880",
   "metadata": {},
   "source": [
    "### **Tensors in Pytorch:**"
   ]
  },
  {
   "cell_type": "markdown",
   "id": "6127060f",
   "metadata": {},
   "source": [
    "If you ever stuck, see this tutorail:  \n",
    "https://www.learnpytorch.io/00_pytorch_fundamentals/ \n"
   ]
  },
  {
   "cell_type": "markdown",
   "id": "35583815",
   "metadata": {},
   "source": [
    "- Tensors are the fundamental of building block of Machine Learning & Deep learning."
   ]
  },
  {
   "cell_type": "code",
   "execution_count": 15,
   "id": "770f8321",
   "metadata": {},
   "outputs": [
    {
     "data": {
      "text/plain": [
       "'2.6.0+cpu'"
      ]
     },
     "execution_count": 15,
     "metadata": {},
     "output_type": "execute_result"
    }
   ],
   "source": [
    "import torch\n",
    "torch.__version__"
   ]
  },
  {
   "cell_type": "code",
   "execution_count": 16,
   "id": "92e0c1ad",
   "metadata": {},
   "outputs": [
    {
     "name": "stdout",
     "output_type": "stream",
     "text": [
      "tensor(7)\n"
     ]
    }
   ],
   "source": [
    "# create a scalar [zero dimension tensor]\n",
    "scalar = torch.tensor(7) # np.array (kind of)\n",
    "print(scalar)"
   ]
  },
  {
   "cell_type": "code",
   "execution_count": 17,
   "id": "a759a61a",
   "metadata": {},
   "outputs": [
    {
     "name": "stdout",
     "output_type": "stream",
     "text": [
      "Dimension of scalar: 0\n",
      "Shape of scalar   : torch.Size([])\n"
     ]
    }
   ],
   "source": [
    "# dimension & shape of scalar\n",
    "print(f\"Dimension of scalar: {scalar.ndim}\")\n",
    "print(f\"Shape of scalar   : {scalar.shape}\")"
   ]
  },
  {
   "cell_type": "code",
   "execution_count": 18,
   "id": "be9d7d98",
   "metadata": {},
   "outputs": [
    {
     "name": "stdout",
     "output_type": "stream",
     "text": [
      "Type of scalar: <class 'torch.Tensor'>\n"
     ]
    }
   ],
   "source": [
    "# type of scalar\n",
    "print(f\"Type of scalar: {type(scalar)}\")"
   ]
  },
  {
   "cell_type": "code",
   "execution_count": 19,
   "id": "7730c317",
   "metadata": {},
   "outputs": [
    {
     "name": "stdout",
     "output_type": "stream",
     "text": [
      "It's a python integer now   : 7\n",
      "Type of the scalar_x        : <class 'int'>\n"
     ]
    }
   ],
   "source": [
    "# what if we wanted to retrive the number from the tensor.\n",
    "# torch.Tensor to a Python integer.\n",
    "# get the python numer within a tensor\n",
    "scalar_x = scalar.item() # (only works with one-element tensors)\n",
    "print(f\"It's a python integer now   : {scalar_x}\")\n",
    "print(f\"Type of the scalar_x        : {type(scalar_x)}\")"
   ]
  },
  {
   "cell_type": "code",
   "execution_count": 20,
   "id": "d972dc4b",
   "metadata": {},
   "outputs": [
    {
     "ename": "AttributeError",
     "evalue": "'list' object has no attribute 'item'",
     "output_type": "error",
     "traceback": [
      "\u001b[1;31m---------------------------------------------------------------------------\u001b[0m",
      "\u001b[1;31mAttributeError\u001b[0m                            Traceback (most recent call last)",
      "Cell \u001b[1;32mIn[20], line 3\u001b[0m\n\u001b[0;32m      1\u001b[0m \u001b[38;5;66;03m# not works with list\u001b[39;00m\n\u001b[0;32m      2\u001b[0m li \u001b[38;5;241m=\u001b[39m [\u001b[38;5;241m10\u001b[39m, \u001b[38;5;241m20\u001b[39m, \u001b[38;5;241m30\u001b[39m]\n\u001b[1;32m----> 3\u001b[0m x \u001b[38;5;241m=\u001b[39m \u001b[43mli\u001b[49m\u001b[38;5;241;43m.\u001b[39;49m\u001b[43mitem\u001b[49m()\n\u001b[0;32m      4\u001b[0m \u001b[38;5;28mprint\u001b[39m(x)\n",
      "\u001b[1;31mAttributeError\u001b[0m: 'list' object has no attribute 'item'"
     ]
    }
   ],
   "source": [
    "# not works with list\n",
    "li = [10, 20, 30]\n",
    "x = li.item()\n",
    "print(x)"
   ]
  },
  {
   "cell_type": "code",
   "execution_count": 21,
   "id": "05277093",
   "metadata": {},
   "outputs": [
    {
     "name": "stdout",
     "output_type": "stream",
     "text": [
      "1\n",
      "[1, 2, 3]\n",
      "1\n",
      "[1, 2, 3]\n",
      "1\n",
      "[1, 2, 3]\n"
     ]
    }
   ],
   "source": [
    "import numpy as np\n",
    "import torch\n",
    "import tensorflow as tf\n",
    "\n",
    "# NumPy\n",
    "arr = np.array([1, 2, 3])\n",
    "# arr.item()  # Fails: ValueError\n",
    "print(arr[0].item())  # Works: 1\n",
    "print(arr.tolist())   # Works: [1, 2, 3]\n",
    "\n",
    "# PyTorch\n",
    "tensor = torch.tensor([1, 2, 3])\n",
    "# tensor.item()  # Fails: ValueError\n",
    "print(tensor[0].item())  # Works: 1\n",
    "print(tensor.tolist())   # Works: [1, 2, 3]\n",
    "\n",
    "# TensorFlow\n",
    "tf_tensor = tf.constant([1, 2, 3])\n",
    "# tf_tensor.numpy().item()  # Fails: ValueError\n",
    "print(tf_tensor[0].numpy().item())  # Works: 1\n",
    "print(tf_tensor.numpy().tolist())   # Works: [1, 2, 3]"
   ]
  },
  {
   "cell_type": "code",
   "execution_count": 22,
   "id": "c2606f3b",
   "metadata": {},
   "outputs": [
    {
     "name": "stdout",
     "output_type": "stream",
     "text": [
      "Vector              : tensor([4, 7, 4, 1])\n",
      "Dimension of vector : 1\n",
      "Shape of vector     : torch.Size([4])\n"
     ]
    }
   ],
   "source": [
    "# create a vector \n",
    "# vector is a one dimensional array\n",
    "vector = torch.tensor([4, 7, 4, 1])\n",
    "print(f\"Vector              : {vector}\")\n",
    "print(f\"Dimension of vector : {vector.ndim}\")\n",
    "print(f\"Shape of vector     : {vector.shape}\")"
   ]
  },
  {
   "cell_type": "code",
   "execution_count": 23,
   "id": "b04a923a",
   "metadata": {},
   "outputs": [
    {
     "name": "stdout",
     "output_type": "stream",
     "text": [
      "Matrix              : \n",
      "tensor([[1, 3, 2],\n",
      "        [6, 5, 4]])\n",
      "Dimension of matrix : 2\n",
      "Shape of matrix     : torch.Size([2, 3])\n"
     ]
    }
   ],
   "source": [
    "# create a matrix \n",
    "# Matrix is a 2D array\n",
    "MATRIX = torch.tensor([[1, 3, 2,], [6, 5, 4]])\n",
    "print(f\"Matrix              : \\n{MATRIX}\")\n",
    "print(f\"Dimension of matrix : {MATRIX.ndim}\")\n",
    "print(f\"Shape of matrix     : {MATRIX.shape}\")"
   ]
  },
  {
   "cell_type": "code",
   "execution_count": 24,
   "id": "4ab257d1",
   "metadata": {},
   "outputs": [
    {
     "name": "stdout",
     "output_type": "stream",
     "text": [
      "Tensor              : \n",
      "tensor([[[4, 7, 4],\n",
      "         [3, 6, 9]],\n",
      "\n",
      "        [[4, 7, 4],\n",
      "         [3, 6, 9]]])\n",
      "Dimension of tensor : 3\n",
      "Shape of tensor     : torch.Size([2, 2, 3])\n"
     ]
    },
    {
     "data": {
      "text/plain": [
       "torch.Size([1, 2, 3])"
      ]
     },
     "execution_count": 24,
     "metadata": {},
     "output_type": "execute_result"
    }
   ],
   "source": [
    "# create a tensors \n",
    "# Tensors are multidimensional array\n",
    "TENSOR = torch.tensor([[[4, 7, 4], [3, 6, 9]],[[4, 7, 4], [3, 6, 9]]])\n",
    "print(f\"Tensor              : \\n{TENSOR}\")\n",
    "print(f\"Dimension of tensor : {TENSOR.ndim}\")\n",
    "print(f\"Shape of tensor     : {TENSOR.shape}\")\n",
    "\n",
    "# ekhane bujhacche je 1 ta 2x3 Matrix ache \n",
    "torch.Size([1, 2, 3])"
   ]
  },
  {
   "cell_type": "code",
   "execution_count": 25,
   "id": "587be813",
   "metadata": {},
   "outputs": [
    {
     "name": "stdout",
     "output_type": "stream",
     "text": [
      "Random tensor: \n",
      "tensor([[0.3210, 0.1679, 0.0033, 0.1012],\n",
      "        [0.2298, 0.8034, 0.8795, 0.0429],\n",
      "        [0.5509, 0.4799, 0.1555, 0.7998]])\n"
     ]
    }
   ],
   "source": [
    "# create a random tensor of size (3, 4)\n",
    "random_tensor = torch.rand(size=(3,4))\n",
    "print(f\"Random tensor: \\n{random_tensor}\")"
   ]
  },
  {
   "cell_type": "code",
   "execution_count": 26,
   "id": "9ab58d15",
   "metadata": {},
   "outputs": [
    {
     "name": "stdout",
     "output_type": "stream",
     "text": [
      "Random array: \n",
      "[[0.504012   0.58814257 0.07423403 0.51740594]\n",
      " [0.12946324 0.44772162 0.76181486 0.24645435]\n",
      " [0.21577083 0.29242429 0.92695925 0.70734118]]\n"
     ]
    }
   ],
   "source": [
    "# lest relate with numpy \n",
    "random_array = np.random.rand(3,4) # don't take size argument\n",
    "print(f\"Random array: \\n{random_array}\")"
   ]
  },
  {
   "cell_type": "code",
   "execution_count": 27,
   "id": "885d7415",
   "metadata": {},
   "outputs": [
    {
     "name": "stdout",
     "output_type": "stream",
     "text": [
      "Random sample array: \n",
      "[[0.7997395  0.35933257 0.3058302  0.6815087 ]\n",
      " [0.26743951 0.17486975 0.1322062  0.0332143 ]\n",
      " [0.94807338 0.00485563 0.36580519 0.72798227]]\n"
     ]
    }
   ],
   "source": [
    "random_sample_array =  np.random.sample(size = (3, 4))\n",
    "print(f\"Random sample array: \\n{random_sample_array}\")"
   ]
  },
  {
   "cell_type": "code",
   "execution_count": 28,
   "id": "860bfef1",
   "metadata": {},
   "outputs": [
    {
     "name": "stdout",
     "output_type": "stream",
     "text": [
      "Shape of random image size tensor: torch.Size([224, 224, 3])\n",
      "Shape of random image size tensor: 3\n"
     ]
    }
   ],
   "source": [
    "# create a random  of size (224, 224, 3) which is a image size \n",
    "# (hiegt, width, color_channels)\n",
    "random_image_size_tensor = torch.rand(224, 224, 3)\n",
    "print(f\"Shape of random image size tensor: {random_image_size_tensor.shape}\")\n",
    "print(f\"Shape of random image size tensor: {random_image_size_tensor.ndim}\")"
   ]
  },
  {
   "cell_type": "code",
   "execution_count": 29,
   "id": "7cb3184e",
   "metadata": {},
   "outputs": [
    {
     "name": "stdout",
     "output_type": "stream",
     "text": [
      "Tensor with zeros: \n",
      "tensor([[0., 0., 0., 0.],\n",
      "        [0., 0., 0., 0.],\n",
      "        [0., 0., 0., 0.]])\n"
     ]
    }
   ],
   "source": [
    "# create tensor with zeros\n",
    "zeros = torch.zeros((3,4))\n",
    "print(f\"Tensor with zeros: \\n{zeros}\")"
   ]
  },
  {
   "cell_type": "code",
   "execution_count": 30,
   "id": "a5292bbb",
   "metadata": {},
   "outputs": [
    {
     "name": "stdout",
     "output_type": "stream",
     "text": [
      "Tensor with ones: \n",
      "tensor([[1., 1., 1., 1.],\n",
      "        [1., 1., 1., 1.],\n",
      "        [1., 1., 1., 1.]])\n"
     ]
    }
   ],
   "source": [
    "# create tensor with ones \n",
    "ones = torch.ones((3,4))\n",
    "print(f\"Tensor with ones: \\n{ones}\")"
   ]
  },
  {
   "cell_type": "code",
   "execution_count": 31,
   "id": "6c07462d",
   "metadata": {},
   "outputs": [
    {
     "name": "stdout",
     "output_type": "stream",
     "text": [
      "Two to nine vector      : tensor([2.0000, 2.5000, 3.0000, 3.5000, 4.0000, 4.5000, 5.0000, 5.5000, 6.0000,\n",
      "        6.5000, 7.0000, 7.5000, 8.0000, 8.5000, 9.0000, 9.5000])\n",
      "Two to nine vector shape: torch.Size([16])\n"
     ]
    }
   ],
   "source": [
    "# creating a ranged tensor -> arange(start, end, step)\n",
    "two_to_nine = torch.arange(2, 10, 0.5)\n",
    "print(f\"Two to nine vector      : {two_to_nine}\")\n",
    "print(f\"Two to nine vector shape: {two_to_nine.shape}\")"
   ]
  },
  {
   "cell_type": "code",
   "execution_count": 32,
   "id": "6409d79a",
   "metadata": {},
   "outputs": [
    {
     "name": "stdout",
     "output_type": "stream",
     "text": [
      "Tensor A  : \n",
      "tensor([[ 0,  1,  2,  3],\n",
      "        [ 4,  5,  6,  7],\n",
      "        [ 8,  9, 10, 11]])\n",
      "Zeros like: \n",
      "tensor([[0, 0, 0, 0],\n",
      "        [0, 0, 0, 0],\n",
      "        [0, 0, 0, 0]])\n"
     ]
    }
   ],
   "source": [
    "# create tensor zeros_like \n",
    "A = torch.arange(12).reshape(3, 4)\n",
    "print(f\"Tensor A  : \\n{A}\")\n",
    "zeros_like = torch.zeros_like(input = A)\n",
    "print(f\"Zeros like: \\n{zeros_like}\")"
   ]
  },
  {
   "cell_type": "code",
   "execution_count": 33,
   "id": "9a48f706",
   "metadata": {},
   "outputs": [
    {
     "name": "stdout",
     "output_type": "stream",
     "text": [
      "Tensor A  : \n",
      "tensor([[ 0,  1,  2,  3],\n",
      "        [ 4,  5,  6,  7],\n",
      "        [ 8,  9, 10, 11]])\n",
      "Ones like: \n",
      "tensor([[1, 1, 1, 1],\n",
      "        [1, 1, 1, 1],\n",
      "        [1, 1, 1, 1]])\n"
     ]
    }
   ],
   "source": [
    "# create tensor ones_like \n",
    "ones_like = torch.ones_like(input = A)\n",
    "print(f\"Tensor A  : \\n{A}\")\n",
    "print(f\"Ones like: \\n{ones_like}\")"
   ]
  },
  {
   "cell_type": "markdown",
   "id": "6220c0bf",
   "metadata": {},
   "source": [
    "- Tensor datatypes  \n",
    "\n",
    "Generally if you see `torch.cuda` anywhere, the tensor is being used for GPU (since Nvidia GPUs use a computing toolkit called CUDA).\n",
    "\n",
    "The most common type (and generally the default) is `torch.float32` or `torch.float`."
   ]
  },
  {
   "cell_type": "code",
   "execution_count": 34,
   "id": "4fddbc6c",
   "metadata": {},
   "outputs": [
    {
     "name": "stdout",
     "output_type": "stream",
     "text": [
      "Default data type  : torch.float32\n",
      "Default device type: cpu\n"
     ]
    }
   ],
   "source": [
    "# default datatype for tensor is float32\n",
    "float_32_tensor = torch.tensor([3.0, 6.0, 9.0],\n",
    "                                dtype = None,\n",
    "                                device = None,\n",
    "                                requires_grad = False)\n",
    "print(f\"Default data type  : {float_32_tensor.dtype}\")\n",
    "print(f\"Default device type: {float_32_tensor.device}\")"
   ]
  },
  {
   "cell_type": "code",
   "execution_count": 35,
   "id": "f4d71bd6",
   "metadata": {},
   "outputs": [
    {
     "name": "stdout",
     "output_type": "stream",
     "text": [
      "Data type          : torch.float16\n",
      "Default device type: cpu\n"
     ]
    }
   ],
   "source": [
    "float_16_tensor = torch.tensor([3.0, 6.0, 9.0],\n",
    "                                dtype = torch.float16) # torch.half\n",
    "print(f\"Data type          : {float_16_tensor.dtype}\")\n",
    "print(f\"Default device type: {float_16_tensor.device}\")"
   ]
  },
  {
   "cell_type": "markdown",
   "id": "5ce6596d",
   "metadata": {},
   "source": [
    "---\n",
    "**Getting information form tensors:**  \n",
    "\n",
    "We've seen these before but three of the most common attributes you'll want to find out about tensors are:\n",
    "\n",
    "- `shape` - what shape is the tensor? (some operations require specific shape rules)  \n",
    "- `dtype` - what datatype are the elements within the tensor stored in?  \n",
    "- `device` - what device is the tensor stored on? (usually GPU or CPU)  "
   ]
  },
  {
   "cell_type": "code",
   "execution_count": 36,
   "id": "c1ef7131",
   "metadata": {},
   "outputs": [
    {
     "name": "stdout",
     "output_type": "stream",
     "text": [
      "Tensor : \n",
      "tensor([[0.2224, 0.8596, 0.7314, 0.3475],\n",
      "        [0.0922, 0.7076, 0.5293, 0.6832],\n",
      "        [0.0216, 0.5364, 0.2689, 0.0286]])\n",
      "Shape of tensor             : torch.Size([3, 4])\n",
      "Data type of tensor         : torch.float32\n",
      "Device tensor is stored on  : cpu\n"
     ]
    }
   ],
   "source": [
    "# create a tensor\n",
    "M = torch.rand(3, 4)\n",
    "\n",
    "# find out detailed about it \n",
    "print(f\"Tensor : \\n{M}\")\n",
    "print(f\"Shape of tensor             : {M.shape}\")\n",
    "print(f\"Data type of tensor         : {M.dtype}\")\n",
    "print(f\"Device tensor is stored on  : {M.device}\")"
   ]
  },
  {
   "cell_type": "markdown",
   "id": "76cec9a2",
   "metadata": {},
   "source": [
    "---\n",
    "**Manipulating tensors (tensor operations):**\n",
    "\n",
    "These operations are often a wonderful dance between:\n",
    "\n",
    "* Addition\n",
    "* Substraction\n",
    "* Multiplication (element-wise)\n",
    "* Division\n",
    "* Matrix multiplication"
   ]
  },
  {
   "cell_type": "code",
   "execution_count": 37,
   "id": "ee694023",
   "metadata": {},
   "outputs": [
    {
     "name": "stdout",
     "output_type": "stream",
     "text": [
      "Adding t + 10: tensor([11, 12, 13])\n"
     ]
    }
   ],
   "source": [
    "t = torch.tensor([1, 2, 3])\n",
    "print(f\"Adding t + 10: {t + 10}\")"
   ]
  },
  {
   "cell_type": "code",
   "execution_count": 38,
   "id": "416a0b7f",
   "metadata": {},
   "outputs": [
    {
     "name": "stdout",
     "output_type": "stream",
     "text": [
      "Adding n + 10: [11 12 13]\n"
     ]
    }
   ],
   "source": [
    "# for numpy\n",
    "n = np.array([1, 2, 3])\n",
    "print(f\"Adding n + 10: {n + 10}\") "
   ]
  },
  {
   "cell_type": "code",
   "execution_count": 39,
   "id": "80d28e6a",
   "metadata": {},
   "outputs": [
    {
     "name": "stdout",
     "output_type": "stream",
     "text": [
      "Adding p + t : tensor([6, 7, 8])\n"
     ]
    }
   ],
   "source": [
    "p = torch.tensor([1, 2, 3])\n",
    "t = torch.tensor([5]) # stretched\n",
    "print(f\"Adding p + t : {p + t}\")"
   ]
  },
  {
   "cell_type": "code",
   "execution_count": 40,
   "id": "ddf4e40f",
   "metadata": {},
   "outputs": [
    {
     "name": "stdout",
     "output_type": "stream",
     "text": [
      "Adding n + p : [6 7 8]\n"
     ]
    }
   ],
   "source": [
    "n = np.array([1, 2, 3])\n",
    "p = np.array([5]) # stretched\n",
    "print(f\"Adding n + p : {n + p}\")"
   ]
  },
  {
   "cell_type": "code",
   "execution_count": 41,
   "id": "f82e2f7d",
   "metadata": {},
   "outputs": [
    {
     "name": "stdout",
     "output_type": "stream",
     "text": [
      "Multiplying x * y: tensor([10, 20, 30])\n"
     ]
    }
   ],
   "source": [
    "x = torch.tensor([1, 2, 3])\n",
    "y = torch.tensor([10]) # stretched\n",
    "\n",
    "print(f\"Multiplying x * y: {x * y}\")"
   ]
  },
  {
   "cell_type": "code",
   "execution_count": 42,
   "id": "9c945f47",
   "metadata": {},
   "outputs": [
    {
     "name": "stdout",
     "output_type": "stream",
     "text": [
      "Multiplying x * y: tensor([10, 20, 30])\n"
     ]
    }
   ],
   "source": [
    "x = torch.tensor([1, 2, 3])\n",
    "y = torch.tensor(10) # stretched\n",
    "\n",
    "print(f\"Multiplying x * y: {x * y}\")"
   ]
  },
  {
   "cell_type": "code",
   "execution_count": 43,
   "id": "2d5e5676",
   "metadata": {},
   "outputs": [
    {
     "ename": "RuntimeError",
     "evalue": "The size of tensor a (3) must match the size of tensor b (2) at non-singleton dimension 0",
     "output_type": "error",
     "traceback": [
      "\u001b[1;31m---------------------------------------------------------------------------\u001b[0m",
      "\u001b[1;31mRuntimeError\u001b[0m                              Traceback (most recent call last)",
      "Cell \u001b[1;32mIn[43], line 4\u001b[0m\n\u001b[0;32m      1\u001b[0m x \u001b[38;5;241m=\u001b[39m torch\u001b[38;5;241m.\u001b[39mtensor([\u001b[38;5;241m1\u001b[39m, \u001b[38;5;241m2\u001b[39m, \u001b[38;5;241m3\u001b[39m])\n\u001b[0;32m      2\u001b[0m y \u001b[38;5;241m=\u001b[39m torch\u001b[38;5;241m.\u001b[39mtensor([\u001b[38;5;241m10\u001b[39m, \u001b[38;5;241m20\u001b[39m]) \u001b[38;5;66;03m# stretched\u001b[39;00m\n\u001b[1;32m----> 4\u001b[0m \u001b[38;5;28mprint\u001b[39m(\u001b[38;5;124mf\u001b[39m\u001b[38;5;124m\"\u001b[39m\u001b[38;5;124mMultiplying x * y: \u001b[39m\u001b[38;5;132;01m{\u001b[39;00m\u001b[43mx\u001b[49m\u001b[38;5;250;43m \u001b[39;49m\u001b[38;5;241;43m*\u001b[39;49m\u001b[38;5;250;43m \u001b[39;49m\u001b[43my\u001b[49m\u001b[38;5;132;01m}\u001b[39;00m\u001b[38;5;124m\"\u001b[39m)\n",
      "\u001b[1;31mRuntimeError\u001b[0m: The size of tensor a (3) must match the size of tensor b (2) at non-singleton dimension 0"
     ]
    }
   ],
   "source": [
    "x = torch.tensor([1, 2, 3])\n",
    "y = torch.tensor([10, 20]) # stretched\n",
    "\n",
    "print(f\"Multiplying x * y: {x * y}\")"
   ]
  },
  {
   "cell_type": "markdown",
   "id": "07cb34c6",
   "metadata": {},
   "source": [
    "> `Note:` Same goes for Subtraction, Multiplication, Division."
   ]
  },
  {
   "cell_type": "markdown",
   "id": "d0a81e51",
   "metadata": {},
   "source": [
    "**Element-wise multiplication:**"
   ]
  },
  {
   "cell_type": "markdown",
   "id": "5811e7ad",
   "metadata": {},
   "source": [
    "- tensor * tensor: [1 * 10, 2 * 20, 3 * 30] = [10, 40, 90]"
   ]
  },
  {
   "cell_type": "code",
   "execution_count": 44,
   "id": "74b8182d",
   "metadata": {},
   "outputs": [
    {
     "name": "stdout",
     "output_type": "stream",
     "text": [
      "Multiplying x * y: tensor([10, 40, 90])\n"
     ]
    }
   ],
   "source": [
    "x = torch.tensor([1, 2, 3])\n",
    "y = torch.tensor([10, 20, 30]) # stretched\n",
    "\n",
    "print(f\"Multiplying x * y: {x * y}\")"
   ]
  },
  {
   "cell_type": "code",
   "execution_count": 45,
   "id": "aad43163",
   "metadata": {},
   "outputs": [
    {
     "ename": "RuntimeError",
     "evalue": "The size of tensor a (3) must match the size of tensor b (2) at non-singleton dimension 0",
     "output_type": "error",
     "traceback": [
      "\u001b[1;31m---------------------------------------------------------------------------\u001b[0m",
      "\u001b[1;31mRuntimeError\u001b[0m                              Traceback (most recent call last)",
      "Cell \u001b[1;32mIn[45], line 4\u001b[0m\n\u001b[0;32m      1\u001b[0m x \u001b[38;5;241m=\u001b[39m torch\u001b[38;5;241m.\u001b[39mtensor([\u001b[38;5;241m1\u001b[39m, \u001b[38;5;241m2\u001b[39m, \u001b[38;5;241m3\u001b[39m])\n\u001b[0;32m      2\u001b[0m y \u001b[38;5;241m=\u001b[39m torch\u001b[38;5;241m.\u001b[39mtensor([\u001b[38;5;241m10\u001b[39m, \u001b[38;5;241m20\u001b[39m]) \u001b[38;5;66;03m# stretched\u001b[39;00m\n\u001b[1;32m----> 4\u001b[0m \u001b[38;5;28mprint\u001b[39m(\u001b[38;5;124mf\u001b[39m\u001b[38;5;124m\"\u001b[39m\u001b[38;5;124mMultiplying x * y: \u001b[39m\u001b[38;5;132;01m{\u001b[39;00m\u001b[43mx\u001b[49m\u001b[38;5;250;43m \u001b[39;49m\u001b[38;5;241;43m*\u001b[39;49m\u001b[38;5;250;43m \u001b[39;49m\u001b[43my\u001b[49m\u001b[38;5;132;01m}\u001b[39;00m\u001b[38;5;124m\"\u001b[39m)\n",
      "\u001b[1;31mRuntimeError\u001b[0m: The size of tensor a (3) must match the size of tensor b (2) at non-singleton dimension 0"
     ]
    }
   ],
   "source": [
    "x = torch.tensor([1, 2, 3])\n",
    "y = torch.tensor([10, 20]) # stretched\n",
    "\n",
    "print(f\"Multiplying x * y: {x * y}\")"
   ]
  },
  {
   "cell_type": "markdown",
   "id": "003f4d77",
   "metadata": {},
   "source": [
    "**Matrix multiplication:**"
   ]
  },
  {
   "cell_type": "markdown",
   "id": "02e56f6e",
   "metadata": {},
   "source": [
    "\n",
    "**Matrix Multiplication Rule:**\n",
    "\n",
    "For two matrices `A` and `B` to be multiplied (`A @ B`), the **number of columns in A must match the number of rows in B**:\n",
    "\n",
    "$$\n",
    "\\text{If } A \\in \\mathbb{R}^{m \\times n},\\ B \\in \\mathbb{R}^{n \\times p} \\Rightarrow A @ B \\in \\mathbb{R}^{m \\times p}\n",
    "$$"
   ]
  },
  {
   "cell_type": "code",
   "execution_count": 48,
   "id": "a61f723c",
   "metadata": {},
   "outputs": [
    {
     "name": "stdout",
     "output_type": "stream",
     "text": [
      "Shape of A      : torch.Size([5])\n",
      "Dimension of A  : 1\n",
      "Shape of B      : torch.Size([5])\n",
      "Dimension of B  : 1\n",
      "Matrix multiplication of A @ B: 55\n"
     ]
    }
   ],
   "source": [
    "A = torch.tensor([1, 2, 3, 4, 5])\n",
    "B = torch.tensor([1, 2, 3, 4, 5])\n",
    "print(f\"Shape of A      : {A.shape}\")\n",
    "print(f\"Dimension of A  : {A.ndim}\")\n",
    "print(f\"Shape of B      : {B.shape}\")\n",
    "print(f\"Dimension of B  : {B.ndim}\")\n",
    "M = torch.matmul(A, B)\n",
    "print(f\"Matrix multiplication of A @ B: {M}\")"
   ]
  },
  {
   "cell_type": "markdown",
   "id": "9d2f2d65",
   "metadata": {},
   "source": [
    "\n",
    "- **Matrix Multiplication Rule:**\n",
    "\n",
    "For two matrices `A` and `B` to be multiplied (`A @ B`), the **number of columns in A must match the number of rows in B**:\n",
    "\n",
    "$$\n",
    "\\text{If } A \\in \\mathbb{R}^{m \\times n},\\ B \\in \\mathbb{R}^{n \\times p} \\Rightarrow A @ B \\in \\mathbb{R}^{m \\times p}\n",
    "$$\n",
    "\n",
    "---\n",
    "\n",
    "**So what happens when we do this?**\n",
    "\n",
    "```python\n",
    "A = torch.tensor([1, 2, 3, 4, 5])\n",
    "B = torch.tensor([1, 2, 3, 4, 5])\n",
    "M = torch.matmul(A, B)\n",
    "```\n",
    "\n",
    "These are **1D tensors**:\n",
    "\n",
    "* Shape of `A`: `[5]`\n",
    "* Shape of `B`: `[5]`\n",
    "\n",
    "Even though they *look like vectors*, under the hood, PyTorch treats them as special cases:\n",
    "\n",
    "| Tensor | Logical View  | Shape |\n",
    "| ------ | ------------- | ----- |\n",
    "| `A`    | Row vector    | `[5]` |\n",
    "| `B`    | Column vector | `[5]` |\n",
    "\n",
    "So when you do `torch.matmul(A, B)`, PyTorch interprets this as a **dot product**, which mathematically is equivalent to multiplying a **1 × 5** matrix by a **5 × 1** matrix:\n",
    "\n",
    "$$\n",
    "[1\\ 2\\ 3\\ 4\\ 5] \\times\n",
    "\\begin{bmatrix}\n",
    "1 \\\\\n",
    "2 \\\\\n",
    "3 \\\\\n",
    "4 \\\\\n",
    "5 \\\\\n",
    "\\end{bmatrix}\n",
    "= [55]\n",
    "$$\n",
    "\n",
    "This results in a **1×1 matrix**, i.e., a scalar value.\n",
    "\n",
    "---"
   ]
  },
  {
   "cell_type": "markdown",
   "id": "ead16c7a",
   "metadata": {},
   "source": [
    "**Alternative way to see the rule in action:**\n",
    "\n",
    "If you **explicitly reshape** the tensors:\n",
    "\n",
    "```python\n",
    "A = A.unsqueeze(0)  # Shape becomes [1, 5]\n",
    "B = B.unsqueeze(1)  # Shape becomes [5, 1]\n",
    "\n",
    "print(A.shape)  # torch.Size([1, 5])\n",
    "print(B.shape)  # torch.Size([5, 1])\n",
    "\n",
    "M = torch.matmul(A, B)\n",
    "print(M)        # tensor([[55]])\n",
    "print(M.shape)  # torch.Size([1, 1])\n",
    "```\n",
    "\n",
    "Here, the rule is followed exactly:\n",
    "\n",
    "* First matrix: `1 × 5`\n",
    "* Second matrix: `5 × 1`\n",
    "* Result: `1 × 1`"
   ]
  },
  {
   "cell_type": "code",
   "execution_count": 59,
   "id": "df323da3",
   "metadata": {},
   "outputs": [
    {
     "name": "stdout",
     "output_type": "stream",
     "text": [
      "n : 3.1416\n"
     ]
    }
   ],
   "source": [
    "n = 3.1415926535\n",
    "print(f\"n : {n:.4f}\")"
   ]
  },
  {
   "cell_type": "code",
   "execution_count": 58,
   "id": "af9698c5",
   "metadata": {},
   "outputs": [
    {
     "name": "stdout",
     "output_type": "stream",
     "text": [
      "Epalpsed time without loop: 0.0000 second\n"
     ]
    }
   ],
   "source": [
    "# Without loop \n",
    "import time\n",
    "\n",
    "A = torch.tensor([1, 2, 3, 4, 5])\n",
    "B = torch.tensor([1, 2, 3, 4, 5])\n",
    "start = time.time()\n",
    "M = torch.matmul(A, B)\n",
    "end = time.time()\n",
    "print(f\"Epalpsed time without loop: {end - start:.4f} second\")"
   ]
  },
  {
   "cell_type": "code",
   "execution_count": 60,
   "id": "24c80aa0",
   "metadata": {},
   "outputs": [
    {
     "name": "stdout",
     "output_type": "stream",
     "text": [
      "Epalpsed time without loop: 0.0249 second\n"
     ]
    }
   ],
   "source": [
    "# with loop \n",
    "import time \n",
    "\n",
    "A = torch.tensor([1, 2, 3, 4, 5])\n",
    "B = torch.tensor([1, 2, 3, 4, 5])\n",
    "MatMal = 0\n",
    "\n",
    "start = time.time()\n",
    "\n",
    "for i in range(A.shape[0]):\n",
    "    MatMal += A[i] * B[i]\n",
    "\n",
    "end = time.time()\n",
    "\n",
    "print(f\"Epalpsed time without loop: {end - start:.4f} second\")"
   ]
  },
  {
   "cell_type": "markdown",
   "id": "5bb9bcd9",
   "metadata": {},
   "source": [
    "\n",
    "**One of the most common errors in deep learning (shape errors):**"
   ]
  },
  {
   "cell_type": "code",
   "execution_count": 61,
   "id": "2615534f",
   "metadata": {},
   "outputs": [
    {
     "ename": "RuntimeError",
     "evalue": "mat1 and mat2 shapes cannot be multiplied (3x2 and 3x2)",
     "output_type": "error",
     "traceback": [
      "\u001b[1;31m---------------------------------------------------------------------------\u001b[0m",
      "\u001b[1;31mRuntimeError\u001b[0m                              Traceback (most recent call last)",
      "Cell \u001b[1;32mIn[61], line 10\u001b[0m\n\u001b[0;32m      2\u001b[0m tensor_A \u001b[38;5;241m=\u001b[39m torch\u001b[38;5;241m.\u001b[39mtensor([[\u001b[38;5;241m1\u001b[39m, \u001b[38;5;241m2\u001b[39m],\n\u001b[0;32m      3\u001b[0m                          [\u001b[38;5;241m3\u001b[39m, \u001b[38;5;241m4\u001b[39m],\n\u001b[0;32m      4\u001b[0m                          [\u001b[38;5;241m5\u001b[39m, \u001b[38;5;241m6\u001b[39m]], dtype\u001b[38;5;241m=\u001b[39mtorch\u001b[38;5;241m.\u001b[39mfloat32)\n\u001b[0;32m      6\u001b[0m tensor_B \u001b[38;5;241m=\u001b[39m torch\u001b[38;5;241m.\u001b[39mtensor([[\u001b[38;5;241m7\u001b[39m, \u001b[38;5;241m10\u001b[39m],\n\u001b[0;32m      7\u001b[0m                          [\u001b[38;5;241m8\u001b[39m, \u001b[38;5;241m11\u001b[39m], \n\u001b[0;32m      8\u001b[0m                          [\u001b[38;5;241m9\u001b[39m, \u001b[38;5;241m12\u001b[39m]], dtype\u001b[38;5;241m=\u001b[39mtorch\u001b[38;5;241m.\u001b[39mfloat32)\n\u001b[1;32m---> 10\u001b[0m \u001b[43mtorch\u001b[49m\u001b[38;5;241;43m.\u001b[39;49m\u001b[43mmatmul\u001b[49m\u001b[43m(\u001b[49m\u001b[43mtensor_A\u001b[49m\u001b[43m,\u001b[49m\u001b[43m \u001b[49m\u001b[43mtensor_B\u001b[49m\u001b[43m)\u001b[49m \u001b[38;5;66;03m# (this will error)\u001b[39;00m\n",
      "\u001b[1;31mRuntimeError\u001b[0m: mat1 and mat2 shapes cannot be multiplied (3x2 and 3x2)"
     ]
    }
   ],
   "source": [
    "# Shapes need to be in the right way  \n",
    "tensor_A = torch.tensor([[1, 2],\n",
    "                         [3, 4],\n",
    "                         [5, 6]], dtype=torch.float32)\n",
    "\n",
    "tensor_B = torch.tensor([[7, 10],\n",
    "                         [8, 11], \n",
    "                         [9, 12]], dtype=torch.float32)\n",
    "\n",
    "torch.matmul(tensor_A, tensor_B) # (this will error)"
   ]
  },
  {
   "cell_type": "markdown",
   "id": "b0ca1568",
   "metadata": {},
   "source": [
    "\n",
    "We can make matrix multiplication work between tensor_A and tensor_B by making their inner dimensions match.  \n",
    "\n",
    "One of the ways to do this is with a transpose (switch the dimensions of a given tensor)."
   ]
  },
  {
   "cell_type": "code",
   "execution_count": 62,
   "id": "b7953bd7",
   "metadata": {},
   "outputs": [
    {
     "name": "stdout",
     "output_type": "stream",
     "text": [
      "Shape of tensor_A: torch.Size([3, 2])\n",
      "Shape of tensor_B: torch.Size([3, 2])\n"
     ]
    }
   ],
   "source": [
    "# Shapes need to be in the right way  \n",
    "tensor_A = torch.tensor([[1, 2],\n",
    "                         [3, 4],\n",
    "                         [5, 6]], dtype=torch.float32)\n",
    "\n",
    "tensor_B = torch.tensor([[7, 10],\n",
    "                         [8, 11], \n",
    "                         [9, 12]], dtype=torch.float32)\n",
    "print(f\"Shape of tensor_A: {tensor_A.shape}\")\n",
    "print(f\"Shape of tensor_B: {tensor_B.shape}\")"
   ]
  },
  {
   "cell_type": "code",
   "execution_count": 64,
   "id": "c3efd618",
   "metadata": {},
   "outputs": [
    {
     "name": "stdout",
     "output_type": "stream",
     "text": [
      "B after transposing          : \n",
      "tensor([[ 7.,  8.,  9.],\n",
      "        [10., 11., 12.]])\n",
      "Shape of tensor_A            : torch.Size([3, 2])\n",
      "Shape of tensor_B_transposed : torch.Size([2, 3])\n"
     ]
    }
   ],
   "source": [
    "tensor_B_transposed = tensor_B.T\n",
    "print(f\"B after transposing          : \\n{tensor_B_transposed}\")\n",
    "print(f\"Shape of tensor_A            : {tensor_A.shape}\")\n",
    "print(f\"Shape of tensor_B_transposed : {tensor_B_transposed.shape}\")"
   ]
  },
  {
   "cell_type": "code",
   "execution_count": 66,
   "id": "db24258a",
   "metadata": {},
   "outputs": [
    {
     "name": "stdout",
     "output_type": "stream",
     "text": [
      "Multiplication after transposing: \n",
      "tensor([[ 27.,  30.,  33.],\n",
      "        [ 61.,  68.,  75.],\n",
      "        [ 95., 106., 117.]])\n"
     ]
    }
   ],
   "source": [
    "A_x_B = torch.matmul(tensor_A, tensor_B_transposed) # (this will error)\n",
    "print(f\"Multiplication after transposing: \\n{A_x_B}\")"
   ]
  },
  {
   "cell_type": "markdown",
   "id": "9898fc70",
   "metadata": {},
   "source": [
    "**Implementing `nn.Linear()` module:**"
   ]
  },
  {
   "cell_type": "code",
   "execution_count": 2,
   "id": "89758dcf",
   "metadata": {},
   "outputs": [],
   "source": [
    "import torch"
   ]
  },
  {
   "cell_type": "code",
   "execution_count": null,
   "id": "b88c22ae",
   "metadata": {},
   "outputs": [
    {
     "name": "stdout",
     "output_type": "stream",
     "text": [
      "Input shape     : torch.Size([3, 2])\n",
      "\n",
      "Output neurons  : \n",
      "tensor([[2.2368, 1.2292, 0.4714, 0.3864, 0.1309, 0.9838],\n",
      "        [4.4919, 2.1970, 0.4469, 0.5285, 0.3401, 2.4777],\n",
      "        [6.7469, 3.1648, 0.4224, 0.6705, 0.5493, 3.9716]],\n",
      "       grad_fn=<AddmmBackward0>)\n",
      "\n",
      "\n",
      "Output shape    : \n",
      "torch.Size([3, 6])\n",
      "\n",
      "\n"
     ]
    }
   ],
   "source": [
    "torch.manual_seed(42)\n",
    "input_x = torch.tensor([[1, 2],\n",
    "                         [3, 4],\n",
    "                         [5, 6]], dtype=torch.float32)\n",
    "\n",
    "linear = torch.nn.Linear(in_features=2, out_features=6)\n",
    "output_neurons = linear(input_x)\n",
    "print(f\"Input shape     : {input_x.shape}\\n\")\n",
    "print(f\"Output neurons  : \\n{output_neurons}\\n\\n\")\n",
    "print(f\"Output shape    : \\n{output_neurons.shape}\\n\\n\")\n",
    "\n",
    "# input_x: (3x2), hidden layer: (2x6)\n",
    "# after matmal output layer becomes 3x6\n"
   ]
  },
  {
   "cell_type": "markdown",
   "id": "eaaf8864",
   "metadata": {},
   "source": [
    "**Finding the min, max, mean, sum, etc (aggregation)**"
   ]
  },
  {
   "cell_type": "code",
   "execution_count": 8,
   "id": "5062a86c",
   "metadata": {},
   "outputs": [
    {
     "name": "stdout",
     "output_type": "stream",
     "text": [
      "Vector x: tensor([ 0, 10, 20, 30, 40, 50, 60, 70, 80, 90])\n"
     ]
    }
   ],
   "source": [
    "# Create a tensor \n",
    "x = torch.arange(0, 100, 10)\n",
    "print(f\"Vector x: {x}\")"
   ]
  },
  {
   "cell_type": "code",
   "execution_count": 17,
   "id": "b7c30f70",
   "metadata": {},
   "outputs": [
    {
     "name": "stdout",
     "output_type": "stream",
     "text": [
      "Minimum : 0\n",
      "Maximum : 90\n",
      "Mean    : 45.0\n",
      "Sum     : 450\n",
      "Standard deviation: 30.28\n"
     ]
    }
   ],
   "source": [
    "# lets perform some aggregation \n",
    "print(f\"Minimum : {x.min()}\")\n",
    "print(f\"Maximum : {x.max()}\")\n",
    "# print(f\"Mean   : {x.mean()}\") # this will give an error \n",
    "# because mean function wants float argument\n",
    "print(f\"Mean    : {x.type(torch.float32).mean()}\")\n",
    "print(f\"Sum     : {x.sum()}\")\n",
    "# print(f\"Standard deviation: {x.std()}\") # this will give an error \n",
    "# because std function wants float argument\n",
    "\n",
    "print(f\"Standard deviation: {x.type(torch.float32).std():.4}\")"
   ]
  },
  {
   "cell_type": "markdown",
   "id": "f2eba4b8",
   "metadata": {},
   "source": [
    "**Positional min/max:**"
   ]
  },
  {
   "cell_type": "code",
   "execution_count": 18,
   "id": "dbe5144a",
   "metadata": {},
   "outputs": [
    {
     "name": "stdout",
     "output_type": "stream",
     "text": [
      "Index where max value occurs: 2\n",
      "Index where min value occurs: 6\n"
     ]
    }
   ],
   "source": [
    "m = torch.tensor([50, 40, 90, 70, 10, 80, 5, 15, 30])\n",
    "print(f\"Index where max value occurs: {m.argmax()}\")\n",
    "print(f\"Index where min value occurs: {m.argmin()}\")"
   ]
  },
  {
   "cell_type": "markdown",
   "id": "eadff5f3",
   "metadata": {},
   "source": [
    "**Change tensor datatype:**"
   ]
  },
  {
   "cell_type": "code",
   "execution_count": 19,
   "id": "ebbffc59",
   "metadata": {},
   "outputs": [
    {
     "name": "stdout",
     "output_type": "stream",
     "text": [
      "tensor([10., 20., 30., 40., 50., 60., 70., 80., 90.])\n"
     ]
    }
   ],
   "source": [
    "v = torch.arange(10., 100, 10)\n",
    "print(v)"
   ]
  },
  {
   "cell_type": "code",
   "execution_count": 20,
   "id": "3cb4087e",
   "metadata": {},
   "outputs": [
    {
     "name": "stdout",
     "output_type": "stream",
     "text": [
      "Data type of v_float16: torch.float16\n"
     ]
    }
   ],
   "source": [
    "v_float16 = v.type(torch.float16)\n",
    "print(f\"Data type of v_float16: {v_float16.dtype}\")"
   ]
  },
  {
   "cell_type": "markdown",
   "id": "544c8f06",
   "metadata": {},
   "source": [
    "**Reshaping, stacking, viewing, squeezing, unsqueezing & permute:**"
   ]
  },
  {
   "cell_type": "code",
   "execution_count": 23,
   "id": "a64f1b2f",
   "metadata": {},
   "outputs": [
    {
     "name": "stdout",
     "output_type": "stream",
     "text": [
      "Shape of v without reshaping: \n",
      "tensor([ 0,  1,  2,  3,  4,  5,  6,  7,  8,  9, 10, 11])\n",
      "Shape of v with reshaping   : \n",
      "tensor([[ 0,  1,  2,  3],\n",
      "        [ 4,  5,  6,  7],\n",
      "        [ 8,  9, 10, 11]])\n"
     ]
    }
   ],
   "source": [
    "# reshaping\n",
    "v = torch.arange(12)\n",
    "v_reshaped = v.reshape(3, 4)\n",
    "print(f\"Shape of v without reshaping: \\n{v}\")\n",
    "print(f\"Shape of v with reshaping   : \\n{v_reshaped}\")"
   ]
  },
  {
   "cell_type": "code",
   "execution_count": 2,
   "id": "175a849e",
   "metadata": {},
   "outputs": [
    {
     "name": "stdout",
     "output_type": "stream",
     "text": [
      "Tensor x: \n",
      "tensor([[0.5540, 0.4768, 0.8826],\n",
      "        [0.0583, 0.4924, 0.6677]])\n"
     ]
    }
   ],
   "source": [
    "# Concatenates a sequence of tensors along a new dimension\n",
    "# All tensors need to be of the same size \n",
    "import torch\n",
    "x = torch.rand(2,3)\n",
    "print(f\"Tensor x: \\n{x}\")"
   ]
  },
  {
   "cell_type": "code",
   "execution_count": 4,
   "id": "90167ede",
   "metadata": {},
   "outputs": [
    {
     "name": "stdout",
     "output_type": "stream",
     "text": [
      "Tensor stacked: \n",
      "tensor([[[0.5540, 0.4768, 0.8826],\n",
      "         [0.0583, 0.4924, 0.6677]],\n",
      "\n",
      "        [[0.5540, 0.4768, 0.8826],\n",
      "         [0.0583, 0.4924, 0.6677]]])\n"
     ]
    }
   ],
   "source": [
    "x_stacked = torch.stack((x, x), dim=0)\n",
    "print(f\"Tensor stacked: \\n{x_stacked}\")"
   ]
  },
  {
   "cell_type": "markdown",
   "id": "18f7ce7b",
   "metadata": {},
   "source": [
    "**Difference table of `torch.rand()` and `torch.randn()` Table:**\n",
    "\n",
    "| Function        | Distribution      | Range       | Centered Around | Example Use Case                   |\n",
    "| --------------- | ----------------- | ----------- | --------------- | ---------------------------------- |\n",
    "| `torch.rand()`  | Uniform           | \\[0.0, 1.0) | 0.5             | Random scaling, dropout, etc.      |\n",
    "| `torch.randn()` | Normal (Gaussian) | \\~(-∞, ∞)   | 0               | Weight initialization, noise, etc. |\n",
    "\n"
   ]
  },
  {
   "cell_type": "markdown",
   "id": "196365c9",
   "metadata": {},
   "source": [
    "---"
   ]
  },
  {
   "cell_type": "markdown",
   "id": "131cccb1",
   "metadata": {},
   "source": [
    "**Indexing and slicing data from tensor:**"
   ]
  },
  {
   "cell_type": "markdown",
   "id": "f350126d",
   "metadata": {},
   "source": [
    "- Indexing for 3D:  \n",
    "`[which_matrix, which_array, which_element]`\n",
    "- Indexing for 2D:  \n",
    "`[which_array, which_element]`\n",
    "- Indexing for 1D:  \n",
    "`[which_element]`"
   ]
  },
  {
   "cell_type": "code",
   "execution_count": 1,
   "id": "bb634fac",
   "metadata": {},
   "outputs": [
    {
     "name": "stdout",
     "output_type": "stream",
     "text": [
      "Tensor x       : \n",
      "tensor([[[1, 2, 3],\n",
      "         [4, 5, 6],\n",
      "         [7, 8, 9]]])\n",
      "Tensor x shape : \n",
      "torch.Size([1, 3, 3])\n"
     ]
    }
   ],
   "source": [
    "# create a tensor \n",
    "import torch\n",
    "x = torch.arange(1, 10).reshape(1, 3, 3)\n",
    "print(f\"Tensor x       : \\n{x}\")\n",
    "print(f\"Tensor x shape : \\n{x.shape}\")"
   ]
  },
  {
   "cell_type": "code",
   "execution_count": 2,
   "id": "23463051",
   "metadata": {},
   "outputs": [
    {
     "name": "stdout",
     "output_type": "stream",
     "text": [
      "First sqaure bracket:\n",
      "tensor([[1, 2, 3],\n",
      "        [4, 5, 6],\n",
      "        [7, 8, 9]])\n",
      "Second square bracket:\n",
      "tensor([1, 2, 3])\n",
      "Third square bracket:\n",
      "1\n"
     ]
    }
   ],
   "source": [
    "# indexing values goes outer dimension to inner dimension\n",
    "print(f\"First sqaure bracket:\\n{x[0]}\")\n",
    "print(f\"Second square bracket:\\n{x[0][0]}\")\n",
    "print(f\"Third square bracket:\\n{x[0][0][0]}\")"
   ]
  },
  {
   "cell_type": "code",
   "execution_count": 3,
   "id": "6fab8331",
   "metadata": {},
   "outputs": [
    {
     "name": "stdout",
     "output_type": "stream",
     "text": [
      "First sqaure bracket:\n",
      "tensor([[1, 2, 3],\n",
      "        [4, 5, 6],\n",
      "        [7, 8, 9]])\n",
      "Second square bracket:\n",
      "tensor([1, 2, 3])\n",
      "Third square bracket:\n",
      "1\n"
     ]
    }
   ],
   "source": [
    "print(f\"First sqaure bracket:\\n{x[0]}\")\n",
    "print(f\"Second square bracket:\\n{x[0,0]}\")\n",
    "print(f\"Third square bracket:\\n{x[0, 0, 0]}\")"
   ]
  },
  {
   "cell_type": "code",
   "execution_count": 5,
   "id": "e20bb3cf",
   "metadata": {},
   "outputs": [
    {
     "name": "stdout",
     "output_type": "stream",
     "text": [
      "Tensor x       : \n",
      "tensor([[[ 1,  2,  3],\n",
      "         [ 4,  5,  6],\n",
      "         [ 7,  8,  9]],\n",
      "\n",
      "        [[10, 11, 12],\n",
      "         [13, 14, 15],\n",
      "         [16, 17, 18]]])\n",
      "Tensor x shape : \n",
      "torch.Size([2, 3, 3])\n"
     ]
    }
   ],
   "source": [
    "import torch\n",
    "x = torch.arange(1, 19).reshape(2, 3, 3)\n",
    "print(f\"Tensor x       : \\n{x}\")\n",
    "print(f\"Tensor x shape : \\n{x.shape}\")"
   ]
  },
  {
   "cell_type": "code",
   "execution_count": 8,
   "id": "c2047b02",
   "metadata": {},
   "outputs": [
    {
     "name": "stdout",
     "output_type": "stream",
     "text": [
      "First matrix of the first sqaure bracket   :\n",
      "tensor([[1, 2, 3],\n",
      "        [4, 5, 6],\n",
      "        [7, 8, 9]])\n",
      "Second matrix of the second sqaure bracket :\n",
      "tensor([[10, 11, 12],\n",
      "        [13, 14, 15],\n",
      "        [16, 17, 18]])\n"
     ]
    }
   ],
   "source": [
    "# There is two matrix in the first square bracket\n",
    "print(f\"First matrix of the first sqaure bracket   :\\n{x[0]}\")\n",
    "print(f\"Second matrix of the second sqaure bracket :\\n{x[1]}\")"
   ]
  },
  {
   "cell_type": "code",
   "execution_count": 10,
   "id": "bae611a7",
   "metadata": {},
   "outputs": [
    {
     "name": "stdout",
     "output_type": "stream",
     "text": [
      "Second square bracket:\n",
      "tensor([1, 2, 3])\n",
      "Second square bracket:\n",
      "tensor([10, 11, 12])\n"
     ]
    }
   ],
   "source": [
    "print(f\"Second square bracket:\\n{x[0,0]}\")\n",
    "print(f\"Second square bracket:\\n{x[1,0]}\")"
   ]
  },
  {
   "cell_type": "markdown",
   "id": "aea1a1d0",
   "metadata": {},
   "source": [
    "- Slicing vector:  `vector[start:end:step]`"
   ]
  },
  {
   "cell_type": "code",
   "execution_count": 14,
   "id": "3d7cf760",
   "metadata": {},
   "outputs": [
    {
     "name": "stdout",
     "output_type": "stream",
     "text": [
      "Printing all elements: tensor([1, 2, 3, 4, 5, 6, 7, 8])\n",
      "Printing 3 to 6: tensor([4, 5, 6, 7])\n"
     ]
    }
   ],
   "source": [
    "# Lets go through lower to higher dimension \n",
    "x = torch.tensor([1, 2, 3, 4, 5, 6, 7, 8])\n",
    "\n",
    "# Print all \n",
    "print(f\"Printing all elements: {x[:]}\")\n",
    "# print all reverse \n",
    "# print(f\"Printing all reverese: {x[::-1]}\")\n",
    "# Note: PyTorch don't support pythonic slicing reverse \n",
    "print(f\"Printing 3 to 6: {x[3:7]}\")"
   ]
  },
  {
   "cell_type": "markdown",
   "id": "0b09b789",
   "metadata": {},
   "source": [
    "- Slicing Matrix:  \n",
    "`Matrix[start:end:step]`  \n",
    "`Matrix[row:column]`\n",
    "`Matrix[row_start:row_end:row_step, column_start, column_end, column_step]`"
   ]
  },
  {
   "cell_type": "code",
   "execution_count": 19,
   "id": "c1c1ef85",
   "metadata": {},
   "outputs": [
    {
     "name": "stdout",
     "output_type": "stream",
     "text": [
      "Print all elements: \n",
      "tensor([[1, 2, 3],\n",
      "        [4, 5, 6],\n",
      "        [7, 8, 9]])\n",
      "Print second column: \n",
      "tensor([[2],\n",
      "        [5],\n",
      "        [8]])\n"
     ]
    }
   ],
   "source": [
    "M = torch.arange(1,10).reshape(3,3)\n",
    "print(f\"Print all elements: \\n{M[:]}\")\n",
    "print(f\"Print second column: \\n{M[:,1:2]}\")"
   ]
  },
  {
   "cell_type": "code",
   "execution_count": 23,
   "id": "d04eaf2f",
   "metadata": {},
   "outputs": [
    {
     "name": "stdout",
     "output_type": "stream",
     "text": [
      "Printing all columns: \n",
      "tensor([[ 1,  2,  3,  4,  5],\n",
      "        [ 6,  7,  8,  9, 10],\n",
      "        [11, 12, 13, 14, 15],\n",
      "        [16, 17, 18, 19, 20],\n",
      "        [21, 22, 23, 24, 25]])\n",
      "Printing column 2-4: \n",
      "tensor([[ 2,  3,  4],\n",
      "        [ 7,  8,  9],\n",
      "        [12, 13, 14],\n",
      "        [17, 18, 19],\n",
      "        [22, 23, 24]])\n",
      "Printing row 2-4: \n",
      "tensor([[ 6,  7,  8,  9, 10],\n",
      "        [11, 12, 13, 14, 15],\n",
      "        [16, 17, 18, 19, 20]])\n"
     ]
    }
   ],
   "source": [
    "M = torch.arange(1, 26).reshape(5,5)\n",
    "print(f\"Printing all columns: \\n{M[:]}\")\n",
    "print(f\"Printing column 2-4: \\n{M[:,1:4]}\")\n",
    "print(f\"Printing row 2-4: \\n{M[1:4, :]}\")"
   ]
  },
  {
   "cell_type": "markdown",
   "id": "24e70909",
   "metadata": {},
   "source": [
    "**PyTorch Tensor and Numpy:**"
   ]
  },
  {
   "cell_type": "markdown",
   "id": "e2be2799",
   "metadata": {},
   "source": [
    "- Numpy to tensor"
   ]
  },
  {
   "cell_type": "code",
   "execution_count": 25,
   "id": "84bc5f60",
   "metadata": {},
   "outputs": [
    {
     "name": "stdout",
     "output_type": "stream",
     "text": [
      "Numpy array type: <class 'numpy.ndarray'>\n",
      "Type after converting to tensor: <class 'torch.Tensor'>\n"
     ]
    }
   ],
   "source": [
    "import torch\n",
    "import numpy as np\n",
    "array = np.arange(1.0, 8.0)\n",
    "\n",
    "# Convert numpy to tensor \n",
    "numpy_to_tensor = torch.from_numpy(array)\n",
    "print(f\"Numpy array type: {type(array)}\")\n",
    "print(f\"Type after converting to tensor: {type(numpy_to_tensor)}\")"
   ]
  },
  {
   "cell_type": "markdown",
   "id": "7b50df16",
   "metadata": {},
   "source": [
    "- Tensor to numpy"
   ]
  },
  {
   "cell_type": "code",
   "execution_count": 26,
   "id": "2cc94535",
   "metadata": {},
   "outputs": [
    {
     "name": "stdout",
     "output_type": "stream",
     "text": [
      "Tesor array type: <class 'torch.Tensor'>\n",
      "Type after converting to numpy: <class 'numpy.ndarray'>\n"
     ]
    }
   ],
   "source": [
    "import torch\n",
    "import numpy as np\n",
    "v = torch.arange(1.0, 6.0)\n",
    "\n",
    "# Convert tensor to numpy\n",
    "tensor_to_numpy = v.numpy()\n",
    "print(f\"Tesor array type: {type(v)}\")\n",
    "print(f\"Type after converting to numpy: {type(tensor_to_numpy)}\")"
   ]
  },
  {
   "cell_type": "markdown",
   "id": "be56a940",
   "metadata": {},
   "source": [
    "**Reproducibility:**"
   ]
  },
  {
   "cell_type": "markdown",
   "id": "a8d66a6c",
   "metadata": {},
   "source": [
    "- Without manual seed they will change randomly:"
   ]
  },
  {
   "cell_type": "code",
   "execution_count": 36,
   "id": "4c5fd3bf",
   "metadata": {},
   "outputs": [
    {
     "name": "stdout",
     "output_type": "stream",
     "text": [
      "Tensor A: \n",
      "tensor([[0.8035, 0.3813, 0.7860, 0.1115],\n",
      "        [0.2477, 0.6524, 0.6057, 0.3725],\n",
      "        [0.7980, 0.8399, 0.1374, 0.2331]])\n",
      "Tensor B: \n",
      "tensor([[0.9578, 0.3313, 0.3227, 0.0162],\n",
      "        [0.2137, 0.6249, 0.4340, 0.1371],\n",
      "        [0.5117, 0.1585, 0.0758, 0.2247]])\n",
      "Does Tensor A equal to B? (anywhere)\n",
      "Checking equality: \n",
      "tensor([[False, False, False, False],\n",
      "        [False, False, False, False],\n",
      "        [False, False, False, False]])\n"
     ]
    }
   ],
   "source": [
    "random_tensor_A = torch.rand(3, 4)\n",
    "random_tensor_B = torch.rand(3, 4)\n",
    "print(f\"Tensor A: \\n{random_tensor_A}\")\n",
    "print(f\"Tensor B: \\n{random_tensor_B}\")\n",
    "print(f\"Does Tensor A equal to B? (anywhere)\")\n",
    "print(f\"Checking equality: \\n{random_tensor_A == random_tensor_B}\")"
   ]
  },
  {
   "cell_type": "code",
   "execution_count": 32,
   "id": "91b3fe90",
   "metadata": {},
   "outputs": [
    {
     "name": "stdout",
     "output_type": "stream",
     "text": [
      "Tensor A: \n",
      "tensor([[0.8823, 0.9150, 0.3829, 0.9593],\n",
      "        [0.3904, 0.6009, 0.2566, 0.7936],\n",
      "        [0.9408, 0.1332, 0.9346, 0.5936]])\n",
      "Tensor B: \n",
      "tensor([[0.8823, 0.9150, 0.3829, 0.9593],\n",
      "        [0.3904, 0.6009, 0.2566, 0.7936],\n",
      "        [0.9408, 0.1332, 0.9346, 0.5936]])\n",
      "Does Tensor A equal to B? (anywhere)\n",
      "Checking equality: \n",
      "tensor([[True, True, True, True],\n",
      "        [True, True, True, True],\n",
      "        [True, True, True, True]])\n"
     ]
    }
   ],
   "source": [
    "torch.manual_seed(42)\n",
    "random_tensor_A = torch.rand(3, 4)\n",
    "torch.manual_seed(42)\n",
    "random_tensor_B = torch.rand(3, 4)\n",
    "print(f\"Tensor A: \\n{random_tensor_A}\")\n",
    "print(f\"Tensor B: \\n{random_tensor_B}\")\n",
    "print(f\"Does Tensor A equal to B? (anywhere)\")\n",
    "print(f\"Checking equality: \\n{random_tensor_A == random_tensor_B}\")"
   ]
  },
  {
   "cell_type": "markdown",
   "id": "52f6092f",
   "metadata": {},
   "source": [
    "- Checking GPU"
   ]
  },
  {
   "cell_type": "code",
   "execution_count": 38,
   "id": "85ae6fae",
   "metadata": {},
   "outputs": [
    {
     "name": "stdout",
     "output_type": "stream",
     "text": [
      "False\n"
     ]
    }
   ],
   "source": [
    "import torch\n",
    "print(torch.cuda.is_available())"
   ]
  },
  {
   "cell_type": "code",
   "execution_count": 40,
   "id": "893eff7c",
   "metadata": {},
   "outputs": [
    {
     "name": "stdout",
     "output_type": "stream",
     "text": [
      "My device is: cpu\n"
     ]
    }
   ],
   "source": [
    "# Set device type\n",
    "device = \"cuda\" if torch.cuda.is_available() else \"cpu\"\n",
    "print(f\"My device is: {device}\")"
   ]
  },
  {
   "cell_type": "code",
   "execution_count": 43,
   "id": "1f01d1ea",
   "metadata": {},
   "outputs": [
    {
     "name": "stdout",
     "output_type": "stream",
     "text": [
      "Number of gpu: 0\n"
     ]
    }
   ],
   "source": [
    "# Count number of devices\n",
    "print(f\"Number of gpu: {torch.cuda.device_count()}\")"
   ]
  },
  {
   "cell_type": "markdown",
   "id": "836a5a4e",
   "metadata": {},
   "source": [
    "**Putting tensors on GPU:**"
   ]
  },
  {
   "cell_type": "code",
   "execution_count": 44,
   "id": "3adf9488",
   "metadata": {},
   "outputs": [],
   "source": [
    "if torch.cuda.is_available():\n",
    "    device = \"cuda\" # Use NVIDIA GPU (if available)\n",
    "elif torch.backends.mps.is_available():\n",
    "    device = \"mps\"  # Use Apple Silicon GPU (if available)\n",
    "else:\n",
    "    device = \"cpu\" # Default to CPU if no GPU is available"
   ]
  },
  {
   "cell_type": "code",
   "execution_count": 46,
   "id": "2bec89be",
   "metadata": {},
   "outputs": [
    {
     "name": "stdout",
     "output_type": "stream",
     "text": [
      "tensor([1, 2, 3]) cpu\n",
      "tensor([1, 2, 3]) cpu\n"
     ]
    }
   ],
   "source": [
    "# Create tensor (default on CPU)\n",
    "x = torch.tensor([1, 2, 3])\n",
    "\n",
    "# Tensor not on GPU\n",
    "print(x, x.device)\n",
    "\n",
    "# Move tensor to GPU (if availabe) [Though I don't have one😂]\n",
    "x_on_gpu = x.to(device)\n",
    "print(x, x.device)"
   ]
  },
  {
   "cell_type": "markdown",
   "id": "8bf628f4",
   "metadata": {},
   "source": [
    "**Moving back to the CPU:**\n",
    "- For example, you'll want to do this if you want to interact with your tensors with NumPy (NumPy does not leverage the GPU)."
   ]
  },
  {
   "cell_type": "code",
   "execution_count": 47,
   "id": "fc3d263b",
   "metadata": {},
   "outputs": [
    {
     "data": {
      "text/plain": [
       "array([1, 2, 3])"
      ]
     },
     "execution_count": 47,
     "metadata": {},
     "output_type": "execute_result"
    }
   ],
   "source": [
    "# If tensor is on GPU, can't transform it to NumPy(this will error)\n",
    "x_on_gpu.numpy()"
   ]
  },
  {
   "cell_type": "code",
   "execution_count": 50,
   "id": "7553abfd",
   "metadata": {},
   "outputs": [
    {
     "data": {
      "text/plain": [
       "array([1, 2, 3])"
      ]
     },
     "execution_count": 50,
     "metadata": {},
     "output_type": "execute_result"
    }
   ],
   "source": [
    "# Instead, copy the tensor back to cpu\n",
    "x_back_on_cpu = x_on_gpu.cpu().numpy()\n",
    "x_back_on_cpu"
   ]
  },
  {
   "cell_type": "code",
   "execution_count": 51,
   "id": "efdbfb71",
   "metadata": {},
   "outputs": [
    {
     "data": {
      "text/plain": [
       "tensor([1, 2, 3])"
      ]
     },
     "execution_count": 51,
     "metadata": {},
     "output_type": "execute_result"
    }
   ],
   "source": [
    "x_on_gpu"
   ]
  }
 ],
 "metadata": {
  "kernelspec": {
   "display_name": "base",
   "language": "python",
   "name": "python3"
  },
  "language_info": {
   "codemirror_mode": {
    "name": "ipython",
    "version": 3
   },
   "file_extension": ".py",
   "mimetype": "text/x-python",
   "name": "python",
   "nbconvert_exporter": "python",
   "pygments_lexer": "ipython3",
   "version": "3.12.7"
  }
 },
 "nbformat": 4,
 "nbformat_minor": 5
}
