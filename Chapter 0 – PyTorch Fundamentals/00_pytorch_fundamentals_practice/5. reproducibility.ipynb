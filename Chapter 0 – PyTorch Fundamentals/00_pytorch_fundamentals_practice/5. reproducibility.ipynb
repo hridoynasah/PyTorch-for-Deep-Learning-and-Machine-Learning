{
 "cells": [
  {
   "cell_type": "markdown",
   "metadata": {},
   "source": [
    "- Reproducibility"
   ]
  },
  {
   "cell_type": "code",
   "execution_count": 1,
   "metadata": {},
   "outputs": [
    {
     "data": {
      "text/plain": [
       "([tensor([[0.4596, 0.7431],\n",
       "          [0.8088, 0.9537]]),\n",
       "  tensor([[0.9176, 0.4442],\n",
       "          [0.3235, 0.4047]])],\n",
       " [tensor([[False, False],\n",
       "          [False, False]])])"
      ]
     },
     "execution_count": 1,
     "metadata": {},
     "output_type": "execute_result"
    }
   ],
   "source": [
    "import torch\n",
    "\n",
    "random_tensor_A = torch.rand(2,2)\n",
    "random_tensor_B = torch.rand(2,2)\n",
    "\n",
    "[random_tensor_A, random_tensor_B], [random_tensor_A == random_tensor_B]"
   ]
  },
  {
   "cell_type": "code",
   "execution_count": 3,
   "metadata": {},
   "outputs": [
    {
     "data": {
      "text/plain": [
       "([tensor([[0.5979, 0.8453],\n",
       "          [0.9464, 0.2965]]),\n",
       "  tensor([[0.5979, 0.8453],\n",
       "          [0.9464, 0.2965]])],\n",
       " [tensor([[True, True],\n",
       "          [True, True]])])"
      ]
     },
     "execution_count": 3,
     "metadata": {},
     "output_type": "execute_result"
    }
   ],
   "source": [
    "import torch\n",
    "import random\n",
    "\n",
    "# Set the random seed\n",
    "RANDOM_SEED = 8\n",
    "torch.manual_seed(seed = RANDOM_SEED)\n",
    "random_tensor_A = torch.rand(2, 2)\n",
    "\n",
    "torch.random.manual_seed(seed=RANDOM_SEED)\n",
    "random_tensor_B = torch.rand(2, 2)\n",
    "\n",
    "[random_tensor_A, random_tensor_B], [random_tensor_A == random_tensor_B]"
   ]
  }
 ],
 "metadata": {
  "kernelspec": {
   "display_name": "base",
   "language": "python",
   "name": "python3"
  },
  "language_info": {
   "codemirror_mode": {
    "name": "ipython",
    "version": 3
   },
   "file_extension": ".py",
   "mimetype": "text/x-python",
   "name": "python",
   "nbconvert_exporter": "python",
   "pygments_lexer": "ipython3",
   "version": "3.12.7"
  }
 },
 "nbformat": 4,
 "nbformat_minor": 2
}
