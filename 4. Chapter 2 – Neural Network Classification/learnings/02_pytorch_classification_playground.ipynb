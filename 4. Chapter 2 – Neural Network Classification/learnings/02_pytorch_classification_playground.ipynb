{
 "cells": [
  {
   "cell_type": "markdown",
   "id": "c0b278c9",
   "metadata": {},
   "source": [
    "### **1. Make classification and get it ready**"
   ]
  },
  {
   "cell_type": "code",
   "execution_count": null,
   "id": "a58a34c4",
   "metadata": {},
   "outputs": [],
   "source": [
    "import sklearn\n",
    "\n",
    "from sklearn.datasets import make_circles"
   ]
  }
 ],
 "metadata": {
  "kernelspec": {
   "display_name": "base",
   "language": "python",
   "name": "python3"
  },
  "language_info": {
   "name": "python",
   "version": "3.12.7"
  }
 },
 "nbformat": 4,
 "nbformat_minor": 5
}
