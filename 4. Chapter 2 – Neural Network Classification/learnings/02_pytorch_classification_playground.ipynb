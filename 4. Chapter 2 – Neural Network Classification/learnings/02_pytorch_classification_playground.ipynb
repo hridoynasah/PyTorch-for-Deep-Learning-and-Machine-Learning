{
 "cells": [
  {
   "cell_type": "markdown",
   "id": "81d25220",
   "metadata": {},
   "source": [
    "### **Neural Network classification with PyTorch**"
   ]
  },
  {
   "cell_type": "markdown",
   "id": "c0b278c9",
   "metadata": {},
   "source": [
    "#### **1. Make classification and get it ready**"
   ]
  },
  {
   "cell_type": "code",
   "execution_count": 1,
   "id": "583ca82b",
   "metadata": {},
   "outputs": [],
   "source": [
    "import sklearn"
   ]
  },
  {
   "cell_type": "code",
   "execution_count": 3,
   "id": "5df2a385",
   "metadata": {},
   "outputs": [],
   "source": [
    "from sklearn.datasets import make_circles\n",
    "\n",
    "# Make 1000 samples \n",
    "n_samples = 1000\n",
    "\n",
    "# Standard deviation of Gaussian noise\n",
    "noise = 0.03\n",
    "\n",
    "# Reproducibility \n",
    "RANDOM_SEED = 42\n",
    "\n",
    "# Create circles \n",
    "X, y = make_circles(n_samples = n_samples,\n",
    "                    noise = noise,\n",
    "                    random_state=RANDOM_SEED)"
   ]
  },
  {
   "cell_type": "markdown",
   "id": "7fe61a37",
   "metadata": {},
   "source": [
    "##### Why use noise? (Note)\n",
    "\n",
    "* To simulate **realistic** data.\n",
    "* To test how well your model performs with **imperfect inputs**.\n",
    "* To prevent **overfitting** in training (model memorizing perfect patterns).\n",
    "\n"
   ]
  },
  {
   "cell_type": "code",
   "execution_count": 4,
   "id": "0fbecb9a",
   "metadata": {},
   "outputs": [
    {
     "data": {
      "text/plain": [
       "(1000, 1000)"
      ]
     },
     "execution_count": 4,
     "metadata": {},
     "output_type": "execute_result"
    }
   ],
   "source": [
    "len(X), len(y)"
   ]
  },
  {
   "cell_type": "code",
   "execution_count": 5,
   "id": "96957c45",
   "metadata": {},
   "outputs": [
    {
     "name": "stdout",
     "output_type": "stream",
     "text": [
      "First 5 samples of X: \n",
      " [[ 0.75424625  0.23148074]\n",
      " [-0.75615888  0.15325888]\n",
      " [-0.81539193  0.17328203]\n",
      " [-0.39373073  0.69288277]\n",
      " [ 0.44220765 -0.89672343]]\n",
      "First 5 samples of y: \n",
      " [1 1 1 1 0]\n"
     ]
    }
   ],
   "source": [
    "print(f'First 5 samples of X: \\n {X[:5]}')\n",
    "print(f'First 5 samples of y: \\n {y[:5]}')"
   ]
  }
 ],
 "metadata": {
  "kernelspec": {
   "display_name": "base",
   "language": "python",
   "name": "python3"
  },
  "language_info": {
   "codemirror_mode": {
    "name": "ipython",
    "version": 3
   },
   "file_extension": ".py",
   "mimetype": "text/x-python",
   "name": "python",
   "nbconvert_exporter": "python",
   "pygments_lexer": "ipython3",
   "version": "3.12.7"
  }
 },
 "nbformat": 4,
 "nbformat_minor": 5
}
