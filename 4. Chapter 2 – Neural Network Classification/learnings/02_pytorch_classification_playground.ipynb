{
 "cells": [
  {
   "cell_type": "markdown",
   "id": "81d25220",
   "metadata": {},
   "source": [
    "## **Neural Network classification with PyTorch**"
   ]
  },
  {
   "cell_type": "markdown",
   "id": "c0b278c9",
   "metadata": {},
   "source": [
    "#### **1. Make classification and get it ready**"
   ]
  },
  {
   "cell_type": "code",
   "execution_count": 1,
   "id": "583ca82b",
   "metadata": {},
   "outputs": [],
   "source": [
    "import sklearn"
   ]
  },
  {
   "cell_type": "code",
   "execution_count": 2,
   "id": "5df2a385",
   "metadata": {},
   "outputs": [],
   "source": [
    "from sklearn.datasets import make_circles\n",
    "\n",
    "# Make 1000 samples \n",
    "n_samples = 1000\n",
    "\n",
    "# Standard deviation of Gaussian noise\n",
    "noise = 0.03\n",
    "\n",
    "# Reproducibility \n",
    "RANDOM_SEED = 42\n",
    "\n",
    "# Create circles \n",
    "X, y = make_circles(n_samples = n_samples,\n",
    "                    noise = noise,\n",
    "                    random_state=RANDOM_SEED)"
   ]
  },
  {
   "cell_type": "markdown",
   "id": "7fe61a37",
   "metadata": {},
   "source": [
    "##### Why use noise? (Note)\n",
    "\n",
    "* To simulate **realistic** data.\n",
    "* To test how well your model performs with **imperfect inputs**.\n",
    "* To prevent **overfitting** in training (model memorizing perfect patterns).\n",
    "\n"
   ]
  },
  {
   "cell_type": "code",
   "execution_count": 3,
   "id": "0fbecb9a",
   "metadata": {},
   "outputs": [
    {
     "data": {
      "text/plain": [
       "(1000, 1000)"
      ]
     },
     "execution_count": 3,
     "metadata": {},
     "output_type": "execute_result"
    }
   ],
   "source": [
    "len(X), len(y)"
   ]
  },
  {
   "cell_type": "code",
   "execution_count": 4,
   "id": "96957c45",
   "metadata": {},
   "outputs": [
    {
     "name": "stdout",
     "output_type": "stream",
     "text": [
      "First 5 samples of X: \n",
      " [[ 0.75424625  0.23148074]\n",
      " [-0.75615888  0.15325888]\n",
      " [-0.81539193  0.17328203]\n",
      " [-0.39373073  0.69288277]\n",
      " [ 0.44220765 -0.89672343]]\n",
      "First 5 samples of y: \n",
      " [1 1 1 1 0]\n"
     ]
    }
   ],
   "source": [
    "print(f'First 5 samples of X: \\n {X[:5]}')\n",
    "print(f'First 5 samples of y: \\n {y[:5]}')"
   ]
  },
  {
   "cell_type": "code",
   "execution_count": 5,
   "id": "f94a4299",
   "metadata": {},
   "outputs": [
    {
     "data": {
      "text/html": [
       "<div>\n",
       "<style scoped>\n",
       "    .dataframe tbody tr th:only-of-type {\n",
       "        vertical-align: middle;\n",
       "    }\n",
       "\n",
       "    .dataframe tbody tr th {\n",
       "        vertical-align: top;\n",
       "    }\n",
       "\n",
       "    .dataframe thead th {\n",
       "        text-align: right;\n",
       "    }\n",
       "</style>\n",
       "<table border=\"1\" class=\"dataframe\">\n",
       "  <thead>\n",
       "    <tr style=\"text-align: right;\">\n",
       "      <th></th>\n",
       "      <th>X1</th>\n",
       "      <th>X2</th>\n",
       "      <th>label</th>\n",
       "    </tr>\n",
       "  </thead>\n",
       "  <tbody>\n",
       "    <tr>\n",
       "      <th>0</th>\n",
       "      <td>0.754246</td>\n",
       "      <td>0.231481</td>\n",
       "      <td>1</td>\n",
       "    </tr>\n",
       "    <tr>\n",
       "      <th>1</th>\n",
       "      <td>-0.756159</td>\n",
       "      <td>0.153259</td>\n",
       "      <td>1</td>\n",
       "    </tr>\n",
       "    <tr>\n",
       "      <th>2</th>\n",
       "      <td>-0.815392</td>\n",
       "      <td>0.173282</td>\n",
       "      <td>1</td>\n",
       "    </tr>\n",
       "    <tr>\n",
       "      <th>3</th>\n",
       "      <td>-0.393731</td>\n",
       "      <td>0.692883</td>\n",
       "      <td>1</td>\n",
       "    </tr>\n",
       "    <tr>\n",
       "      <th>4</th>\n",
       "      <td>0.442208</td>\n",
       "      <td>-0.896723</td>\n",
       "      <td>0</td>\n",
       "    </tr>\n",
       "    <tr>\n",
       "      <th>5</th>\n",
       "      <td>-0.479646</td>\n",
       "      <td>0.676435</td>\n",
       "      <td>1</td>\n",
       "    </tr>\n",
       "    <tr>\n",
       "      <th>6</th>\n",
       "      <td>-0.013648</td>\n",
       "      <td>0.803349</td>\n",
       "      <td>1</td>\n",
       "    </tr>\n",
       "    <tr>\n",
       "      <th>7</th>\n",
       "      <td>0.771513</td>\n",
       "      <td>0.147760</td>\n",
       "      <td>1</td>\n",
       "    </tr>\n",
       "    <tr>\n",
       "      <th>8</th>\n",
       "      <td>-0.169322</td>\n",
       "      <td>-0.793456</td>\n",
       "      <td>1</td>\n",
       "    </tr>\n",
       "    <tr>\n",
       "      <th>9</th>\n",
       "      <td>-0.121486</td>\n",
       "      <td>1.021509</td>\n",
       "      <td>0</td>\n",
       "    </tr>\n",
       "  </tbody>\n",
       "</table>\n",
       "</div>"
      ],
      "text/plain": [
       "         X1        X2  label\n",
       "0  0.754246  0.231481      1\n",
       "1 -0.756159  0.153259      1\n",
       "2 -0.815392  0.173282      1\n",
       "3 -0.393731  0.692883      1\n",
       "4  0.442208 -0.896723      0\n",
       "5 -0.479646  0.676435      1\n",
       "6 -0.013648  0.803349      1\n",
       "7  0.771513  0.147760      1\n",
       "8 -0.169322 -0.793456      1\n",
       "9 -0.121486  1.021509      0"
      ]
     },
     "execution_count": 5,
     "metadata": {},
     "output_type": "execute_result"
    }
   ],
   "source": [
    "# Make DataFrame of circle data\n",
    "import pandas as pd \n",
    "circles = pd.DataFrame({\n",
    "    \"X1\": X[:, 0],\n",
    "    \"X2\": X[:, 1],\n",
    "    \"label\": y\n",
    "})\n",
    "\n",
    "circles.head(10)"
   ]
  },
  {
   "cell_type": "code",
   "execution_count": 6,
   "id": "4a7b2d1b",
   "metadata": {},
   "outputs": [
    {
     "data": {
      "text/plain": [
       "label\n",
       "1    500\n",
       "0    500\n",
       "Name: count, dtype: int64"
      ]
     },
     "execution_count": 6,
     "metadata": {},
     "output_type": "execute_result"
    }
   ],
   "source": [
    "circles.label.value_counts()"
   ]
  },
  {
   "cell_type": "code",
   "execution_count": 7,
   "id": "9bd53fb2",
   "metadata": {},
   "outputs": [
    {
     "data": {
      "image/png": "[encoded data removed]",
      "text/plain": [
       "<Figure size 800x600 with 1 Axes>"
      ]
     },
     "metadata": {},
     "output_type": "display_data"
    }
   ],
   "source": [
    "# Visualize the data\n",
    "import matplotlib.pyplot as plt\n",
    "plt.figure(figsize = (8, 6))\n",
    "plt.scatter(x=X[:, 0],\n",
    "            y=X[:, 1],\n",
    "            c = y, # Must need to understand \n",
    "            cmap = 'RdYlBu') # Must need to understand\n",
    "plt.xlabel('X1 Features')\n",
    "plt.ylabel('X2 Features')\n",
    "plt.title('Classify Circle')\n",
    "plt.show()\n"
   ]
  },
  {
   "cell_type": "markdown",
   "id": "9e1e3c03",
   "metadata": {},
   "source": [
    "##### **1.1 Check input features and output label shapes** "
   ]
  },
  {
   "cell_type": "code",
   "execution_count": 8,
   "id": "9ec68518",
   "metadata": {},
   "outputs": [
    {
     "name": "stdout",
     "output_type": "stream",
     "text": [
      "Values for one sample of X: [0.75424625 0.23148074]\n",
      "\n",
      "Values for one sample of y: 1\n",
      "\n",
      "Shapes for one sample of X: (2,)\n",
      "\n",
      "Dimension for one sample of X: 1\n",
      "\n",
      "Shapes for one sample of y: ()\n",
      "\n",
      "Dimension for one sample of X: 1\n",
      "\n"
     ]
    }
   ],
   "source": [
    "X_sample = X[0]\n",
    "y_sample = y[0]\n",
    "print(f'Values for one sample of X: {X_sample}\\n')\n",
    "print(f'Values for one sample of y: {y_sample}\\n')\n",
    "print(f'Shapes for one sample of X: {X_sample.shape}\\n')\n",
    "print(f'Dimension for one sample of X: {X_sample.ndim}\\n')\n",
    "print(f'Shapes for one sample of y: {y_sample.shape}\\n')\n",
    "print(f'Dimension for one sample of X: {X_sample.ndim}\\n')"
   ]
  },
  {
   "cell_type": "markdown",
   "id": "8e955458",
   "metadata": {},
   "source": [
    "##### **1.2 Turn data into tensors and create train test splits** "
   ]
  },
  {
   "cell_type": "code",
   "execution_count": 9,
   "id": "7b31003d",
   "metadata": {},
   "outputs": [
    {
     "data": {
      "text/plain": [
       "'2.6.0+cpu'"
      ]
     },
     "execution_count": 9,
     "metadata": {},
     "output_type": "execute_result"
    }
   ],
   "source": [
    "import torch\n",
    "torch.__version__"
   ]
  },
  {
   "cell_type": "code",
   "execution_count": 10,
   "id": "931b0691",
   "metadata": {},
   "outputs": [
    {
     "data": {
      "text/plain": [
       "(numpy.ndarray, dtype('float64'))"
      ]
     },
     "execution_count": 10,
     "metadata": {},
     "output_type": "execute_result"
    }
   ],
   "source": [
    "type(X), X.dtype"
   ]
  },
  {
   "cell_type": "code",
   "execution_count": 11,
   "id": "3c998ad5",
   "metadata": {},
   "outputs": [
    {
     "data": {
      "text/plain": [
       "(tensor([[ 0.7542,  0.2315],\n",
       "         [-0.7562,  0.1533],\n",
       "         [-0.8154,  0.1733],\n",
       "         [-0.3937,  0.6929],\n",
       "         [ 0.4422, -0.8967]]),\n",
       " tensor([1., 1., 1., 1., 0.]))"
      ]
     },
     "execution_count": 11,
     "metadata": {},
     "output_type": "execute_result"
    }
   ],
   "source": [
    "# Turn numpy data into tensors \n",
    "X = torch.from_numpy(X).type(torch.float32)\n",
    "y = torch.from_numpy(y).type(torch.float32)\n",
    "\n",
    "X[:5], y[:5]"
   ]
  },
  {
   "cell_type": "code",
   "execution_count": 12,
   "id": "4ad75efa",
   "metadata": {},
   "outputs": [
    {
     "data": {
      "text/plain": [
       "(torch.Tensor, torch.float32, torch.float32)"
      ]
     },
     "execution_count": 12,
     "metadata": {},
     "output_type": "execute_result"
    }
   ],
   "source": [
    "type(X), X.dtype, y.dtype"
   ]
  },
  {
   "cell_type": "code",
   "execution_count": 13,
   "id": "2d356fac",
   "metadata": {},
   "outputs": [],
   "source": [
    "# Split data into training and test sets \n",
    "from sklearn.model_selection import train_test_split\n",
    "X_train, X_test, y_train, y_test = train_test_split(\n",
    "    X,\n",
    "    y, \n",
    "    test_size = 0.2,\n",
    "    random_state= 42\n",
    ")"
   ]
  },
  {
   "cell_type": "code",
   "execution_count": 14,
   "id": "5c1ed521",
   "metadata": {},
   "outputs": [
    {
     "data": {
      "text/plain": [
       "(800, 200, 800, 200)"
      ]
     },
     "execution_count": 14,
     "metadata": {},
     "output_type": "execute_result"
    }
   ],
   "source": [
    "len(X_train), len(X_test), len(y_train), len(y_test)"
   ]
  },
  {
   "cell_type": "code",
   "execution_count": 15,
   "id": "2fb21250",
   "metadata": {},
   "outputs": [
    {
     "data": {
      "text/plain": [
       "1000"
      ]
     },
     "execution_count": 15,
     "metadata": {},
     "output_type": "execute_result"
    }
   ],
   "source": [
    "n_samples"
   ]
  },
  {
   "cell_type": "markdown",
   "id": "74096724",
   "metadata": {},
   "source": [
    "#### **1. Building a model**\n",
    "let's build a model to classify our blue and red dots.\n",
    "To do so, we want to \n",
    "\n",
    "1. Setup device agonistic code\n",
    "2. Construct a model (By subclassing nn.Module)\n",
    "3. Define a loss function and optimizer \n",
    "4. Create a loss function \n"
   ]
  },
  {
   "cell_type": "code",
   "execution_count": 16,
   "id": "6e8a1717",
   "metadata": {},
   "outputs": [
    {
     "data": {
      "text/plain": [
       "'cpu'"
      ]
     },
     "execution_count": 16,
     "metadata": {},
     "output_type": "execute_result"
    }
   ],
   "source": [
    "# Import PyTorch and nn\n",
    "import torch \n",
    "from torch import nn\n",
    "\n",
    "# Make device agnostic code \n",
    "device = 'cuda' if torch.cuda.is_available() else 'cpu'\n",
    "device "
   ]
  },
  {
   "cell_type": "code",
   "execution_count": 17,
   "id": "911063d8",
   "metadata": {},
   "outputs": [
    {
     "data": {
      "text/plain": [
       "CircleModelV0(\n",
       "  (layer_1): Linear(in_features=2, out_features=5, bias=True)\n",
       "  (layer_2): Linear(in_features=5, out_features=1, bias=True)\n",
       ")"
      ]
     },
     "execution_count": 17,
     "metadata": {},
     "output_type": "execute_result"
    }
   ],
   "source": [
    "from sklearn import datasets\n",
    "\n",
    "# 1. Construct a model that subclasses nn.Module\n",
    "class CircleModelV0(nn.Module):\n",
    "    def __init__(self):\n",
    "        # calling the __init__() method of nn.Module \n",
    "        super().__init__() # please check extras for explanation\n",
    "        # 2. Create 2 nn.Linear layers capable of handling the shape of our data\n",
    "        self.layer_1 = nn.Linear(in_features = 2, out_features = 5)\n",
    "        self.layer_2 = nn.Linear(in_features = 5, out_features = 1)\n",
    "    \n",
    "    # 3. Define a forward() method that outlines the forward pass\n",
    "\n",
    "    def forward(self, x):\n",
    "        return self.layer_2(self.layer_1(x)) # x -> layer_1 -> layer_2 -> output\n",
    "    \n",
    "# 4. Instantiate an instance of our model class and send it to the target device \n",
    "model_0 = CircleModelV0().to(device)\n",
    "model_0"
   ]
  },
  {
   "cell_type": "markdown",
   "id": "969bb139",
   "metadata": {},
   "source": [
    "---\n",
    "input x  \n",
    "   ↓  \n",
    "layer_1 (e.g., Linear)  \n",
    "   ↓  \n",
    "layer_2 (e.g., Linear again)  \n",
    "   ↓  \n",
    "output (predictions)\n"
   ]
  },
  {
   "cell_type": "code",
   "execution_count": 18,
   "id": "3adc4bb7",
   "metadata": {},
   "outputs": [
    {
     "data": {
      "text/plain": [
       "'cpu'"
      ]
     },
     "execution_count": 18,
     "metadata": {},
     "output_type": "execute_result"
    }
   ],
   "source": [
    "device "
   ]
  },
  {
   "cell_type": "markdown",
   "id": "7b8ce976",
   "metadata": {},
   "source": [
    ">  Which device (CPU or GPU) the model's parameters are currently on."
   ]
  },
  {
   "cell_type": "code",
   "execution_count": 19,
   "id": "b70ba98a",
   "metadata": {},
   "outputs": [
    {
     "data": {
      "text/plain": [
       "device(type='cpu')"
      ]
     },
     "execution_count": 19,
     "metadata": {},
     "output_type": "execute_result"
    }
   ],
   "source": [
    "next(model_0.parameters()).device"
   ]
  },
  {
   "cell_type": "code",
   "execution_count": 20,
   "id": "97233883",
   "metadata": {},
   "outputs": [],
   "source": [
    "# Let's replicate the model above using nn.Sequential()\n",
    "model_0 = nn.Sequential(\n",
    "    nn.Linear(in_features = 2, out_features = 5),\n",
    "    nn.Linear(in_features = 5, out_features = 1)\n",
    ").to(device)"
   ]
  },
  {
   "cell_type": "markdown",
   "id": "2d05222f",
   "metadata": {},
   "source": [
    "---\n",
    "`model_0.state_dict()` in PyTorch:\n",
    "\n",
    "This line returns a **Python dictionary** containing **all the learnable parameters (weights and biases)** and **buffers** (like running means in batch norm) of the model `model_0`.\n",
    "\n",
    "\n",
    "What is a `state_dict`?\n",
    "\n",
    "A `state_dict` is how PyTorch **represents the internal state of a model**. It's commonly used for:\n",
    "\n",
    "* **Saving a model's parameters** to disk (`torch.save(model.state_dict(), path)`)\n",
    "* **Loading parameters** into a model (`model.load_state_dict(torch.load(path))`)\n",
    "* **Inspecting model values** during debugging or logging\n",
    "\n",
    "\n",
    "\n",
    "* `model_0.state_dict()` gives you all the data you need to **save, load, or inspect** the model's learned parameters."
   ]
  },
  {
   "cell_type": "code",
   "execution_count": 21,
   "id": "5d77b617",
   "metadata": {},
   "outputs": [
    {
     "data": {
      "text/plain": [
       "OrderedDict([('0.weight',\n",
       "              tensor([[ 0.6414,  0.3548],\n",
       "                      [-0.1445, -0.3071],\n",
       "                      [ 0.4695, -0.3545],\n",
       "                      [ 0.3042,  0.3965],\n",
       "                      [-0.2385, -0.4362]])),\n",
       "             ('0.bias', tensor([-0.2332,  0.5924, -0.3734,  0.3343, -0.3223])),\n",
       "             ('1.weight',\n",
       "              tensor([[-0.2121,  0.1794,  0.0202,  0.3102, -0.0032]])),\n",
       "             ('1.bias', tensor([0.0357]))])"
      ]
     },
     "execution_count": 21,
     "metadata": {},
     "output_type": "execute_result"
    }
   ],
   "source": [
    "model_0.state_dict()"
   ]
  },
  {
   "cell_type": "code",
   "execution_count": 22,
   "id": "4a74c000",
   "metadata": {},
   "outputs": [
    {
     "name": "stdout",
     "output_type": "stream",
     "text": [
      "Length of predictions: 200, Shape: torch.Size([200, 1])\n",
      "Length of test samples: 200, Shape: torch.Size([200, 2])\n",
      "\n",
      "First 10 predictions:\n",
      "tensor([[0.],\n",
      "        [0.],\n",
      "        [0.],\n",
      "        [0.],\n",
      "        [0.],\n",
      "        [0.],\n",
      "        [0.],\n",
      "        [0.],\n",
      "        [0.],\n",
      "        [0.]])\n",
      "\n",
      "First 10 labels:\n",
      "tensor([1., 0., 1., 0., 1., 1., 0., 0., 1., 0.])\n"
     ]
    }
   ],
   "source": [
    "# Make predictions \n",
    "with torch.inference_mode():\n",
    "    untrained_preds = model_0(X_test.to(device))\n",
    "\n",
    "print(f\"Length of predictions: {len(untrained_preds)}, Shape: {untrained_preds.shape}\")\n",
    "print(f\"Length of test samples: {len(X_test)}, Shape: {X_test.shape}\")\n",
    "print(f\"\\nFirst 10 predictions:\\n{torch.round(untrained_preds[:10])}\")\n",
    "print(f\"\\nFirst 10 labels:\\n{y_test[:10]}\")"
   ]
  },
  {
   "cell_type": "code",
   "execution_count": 23,
   "id": "5034dbfc",
   "metadata": {},
   "outputs": [
    {
     "data": {
      "text/plain": [
       "(tensor([[-0.3752,  0.6827],\n",
       "         [ 0.0154,  0.9600],\n",
       "         [-0.7028, -0.3147],\n",
       "         [-0.2853,  0.9664],\n",
       "         [ 0.4024, -0.7438],\n",
       "         [ 0.6323, -0.5711],\n",
       "         [ 0.8561,  0.5499],\n",
       "         [ 1.0034,  0.1903],\n",
       "         [-0.7489, -0.2951],\n",
       "         [ 0.0538,  0.9739]]),\n",
       " tensor([1., 0., 1., 0., 1., 1., 0., 0., 1., 0.]))"
      ]
     },
     "execution_count": 23,
     "metadata": {},
     "output_type": "execute_result"
    }
   ],
   "source": [
    "X_test[:10], y_test[:10]"
   ]
  },
  {
   "cell_type": "markdown",
   "id": "072052a9",
   "metadata": {},
   "source": [
    "##### **2.1 Check input features and output label shapes**  \n",
    "loss function: How wrong the models predictions are.\n",
    "> For regression (MAE or MSE)  \n",
    "\n",
    "> For classification (Binary cross entropy or Categorical cross entropy)\n",
    "\n",
    "Optimizers: An optimizer in PyTorch is a tool that updates the model's parameters (like weights and biases) based on the gradients calculated during backpropagation.\n",
    "> Common optimizers: SGD, Adam"
   ]
  },
  {
   "cell_type": "code",
   "execution_count": 24,
   "id": "558cb767",
   "metadata": {},
   "outputs": [],
   "source": [
    "# Set up the loss function \n",
    "loss_fn = nn.BCEWithLogitsLoss()\n",
    "\n",
    "optimizer = torch.optim.SGD(\n",
    "    params = model_0.parameters(),\n",
    "    lr = 0.1\n",
    ")"
   ]
  },
  {
   "cell_type": "code",
   "execution_count": 25,
   "id": "8fc45d85",
   "metadata": {},
   "outputs": [],
   "source": [
    "# Calculate accuracy\n",
    "# Computes element-wise equality -> torch.eq()\n",
    "def accuracy_fn(y_true, y_pred):\n",
    "    correct = torch.eq(y_true, y_pred).sum().item()\n",
    "    # sum() gives total correct (since True counts as 1), and .item() makes it a Python number\n",
    "    acc = (correct/len(y_pred)) * 100\n",
    "    return acc"
   ]
  },
  {
   "cell_type": "markdown",
   "id": "ed7df87e",
   "metadata": {},
   "source": [
    "#### **3. Make classification and get it ready**  \n",
    "***Training loop:***\n",
    "\n",
    "\n",
    "1. **Forward pass**  \n",
    "   The model makes a prediction based on the input data.\n",
    "   *(Like a student answering a question using what they’ve learned so far.)*\n",
    "\n",
    "2. **Calculate the loss**  \n",
    "   Compare the model’s prediction to the correct answer (label) to see how wrong it is.\n",
    "   *(Loss is the amount of mistake — lower is better.)*\n",
    "\n",
    "3. **Optimizer zero grad**  \n",
    "   Clear out any old gradients (leftover calculations from the last time).\n",
    "   *(Like erasing the board before solving a new problem.)*\n",
    "\n",
    "4. **Loss backward (Backpropagation)**  \n",
    "   Figure out how much each part of the model contributed to the mistake.\n",
    "   *(It sends the error backward through the model to update it.)*\n",
    "\n",
    "5. **Optimizer step (Gradient descent)**  \n",
    "   Update the model’s parameters to reduce the mistake next time.\n",
    "   *(Like learning from the error and adjusting your method.)*\n",
    "\n"
   ]
  },
  {
   "cell_type": "markdown",
   "id": "b686781a",
   "metadata": {},
   "source": [
    "##### **3.1 Going from: raw logits -> predictions probabilities -> prediction labels** "
   ]
  },
  {
   "cell_type": "code",
   "execution_count": 26,
   "id": "7aaa327f",
   "metadata": {},
   "outputs": [
    {
     "data": {
      "text/plain": [
       "tensor([[0.3012],\n",
       "        [0.2751],\n",
       "        [0.3331],\n",
       "        [0.2923],\n",
       "        [0.2753]])"
      ]
     },
     "execution_count": 26,
     "metadata": {},
     "output_type": "execute_result"
    }
   ],
   "source": [
    "# View the first 5 output logits of the forward pass on the test data.\n",
    "model_0.eval()\n",
    "with torch.inference_mode():\n",
    "    y_logits = model_0(X_test.to(device))[:5]\n",
    "\n",
    "y_logits"
   ]
  },
  {
   "cell_type": "code",
   "execution_count": 27,
   "id": "480a4202",
   "metadata": {},
   "outputs": [
    {
     "data": {
      "text/plain": [
       "tensor([1., 0., 1., 0., 1.])"
      ]
     },
     "execution_count": 27,
     "metadata": {},
     "output_type": "execute_result"
    }
   ],
   "source": [
    "y_test[: 5]"
   ]
  },
  {
   "cell_type": "code",
   "execution_count": 30,
   "id": "59651596",
   "metadata": {},
   "outputs": [
    {
     "data": {
      "text/plain": [
       "tensor([[0.5747],\n",
       "        [0.5683],\n",
       "        [0.5825],\n",
       "        [0.5726],\n",
       "        [0.5684]])"
      ]
     },
     "execution_count": 30,
     "metadata": {},
     "output_type": "execute_result"
    }
   ],
   "source": [
    "# Use the sigmoid activation function on our model logits to turn them into prediction probabilities\n",
    "y_pred_probs = torch.sigmoid(y_logits)\n",
    "y_pred_probs "
   ]
  },
  {
   "cell_type": "code",
   "execution_count": 32,
   "id": "b8ea0cf7",
   "metadata": {},
   "outputs": [
    {
     "data": {
      "text/plain": [
       "tensor([[1.],\n",
       "        [1.],\n",
       "        [1.],\n",
       "        [1.],\n",
       "        [1.]])"
      ]
     },
     "execution_count": 32,
     "metadata": {},
     "output_type": "execute_result"
    }
   ],
   "source": [
    "# Find the predicted labels \n",
    "y_preds = torch.round(y_pred_probs)\n",
    "y_preds"
   ]
  },
  {
   "cell_type": "code",
   "execution_count": 34,
   "id": "d3006c69",
   "metadata": {},
   "outputs": [
    {
     "name": "stdout",
     "output_type": "stream",
     "text": [
      "tensor([True, True, True, True, True])\n"
     ]
    },
    {
     "data": {
      "text/plain": [
       "tensor([1., 1., 1., 1., 1.])"
      ]
     },
     "execution_count": 34,
     "metadata": {},
     "output_type": "execute_result"
    }
   ],
   "source": [
    "# In full (logits -> pred probs -> pred labels)\n",
    "y_pred_labels = torch.round(torch.sigmoid(model_0(X_test.to(device)[:5])))\n",
    "\n",
    "# Check for equality\n",
    "print(torch.eq(y_preds.squeeze(), y_pred_labels.squeeze()))\n",
    "\n",
    "# Get rid of extra dimension\n",
    "y_preds.squeeze()"
   ]
  },
  {
   "cell_type": "markdown",
   "id": "ad4abda8",
   "metadata": {},
   "source": [
    "##### **3.2 Building a training and testing loop**"
   ]
  },
  {
   "cell_type": "code",
   "execution_count": null,
   "id": "7f9d3486",
   "metadata": {},
   "outputs": [],
   "source": [
    "torch.manual_seed(42)\n",
    "# torch.cuda.manual_seed(42) -> for those who have gpu\n",
    "\n",
    "# Set the number of epochs\n",
    "epochs = 100\n",
    "\n",
    "# Put data to target device \n",
    "X_train, y_train = X_train.to(device), y_train.to(device)\n",
    "X_test, y_test = X_test.to(device), y_test.to(device)\n",
    "\n",
    "# Build training and evaluation loop\n",
    "for epoch in range(epochs):\n",
    "    # Training mode\n",
    "    model_0.train()\n",
    "\n",
    "    # 1. Forward pass \n",
    "    y_logits = model_0(X_train).squeeze()\n",
    "    y_pred = torch.round(torch.sigmoid(y_logits))\n",
    "\n",
    "    # 2. Calculate loss/ accuracy (Already created, check above)\n",
    "    loss = loss_fn(y_logits, y_train)\n",
    "    acc = accuracy_fn(y_true = y_train,\n",
    "                      y_pred=y_pred)\n",
    "\n",
    "    # 3. Optimizer zero grad \n",
    "    optimizer.zero_grad()\n",
    "\n",
    "    # 4. Loss backward (backpropagation)\n",
    "    loss.backward()\n",
    "\n",
    "    # 5. Optimizer step (gradient descent)\n",
    "    optimizer.step()\n",
    "\n",
    "# Testing mode\n",
    "    model_0.eval()\n",
    "    with torch.inference_mode():\n",
    "        # 1. Forward pass \n",
    "        test_logits = model_0(X_test).squeeze()\n",
    "        test_pred = torch.round(torch.sigmoid(test_logits))\n",
    "\n",
    "        # 2. Calculate test loss/acc\n",
    "        test_loss = loss_fn(test_logits,\n",
    "                            y_test)\n",
    "        test_acc = accuracy_fn(y_true=y_test,\n",
    "                            y_pred=test_pred)\n",
    "    \n",
    "    # Print out what's happenin'\n",
    "    if epoch % 10 == 0:\n",
    "        print(f\"Epoch: {epoch} | Loss: {loss:.5f}, Acc: {acc:.2f}% | Test loss: {test_loss:.5f}, Test acc: {test_acc:.2f}%\")"
   ]
  }
 ],
 "metadata": {
  "kernelspec": {
   "display_name": "base",
   "language": "python",
   "name": "python3"
  },
  "language_info": {
   "codemirror_mode": {
    "name": "ipython",
    "version": 3
   },
   "file_extension": ".py",
   "mimetype": "text/x-python",
   "name": "python",
   "nbconvert_exporter": "python",
   "pygments_lexer": "ipython3",
   "version": "3.12.7"
  }
 },
 "nbformat": 4,
 "nbformat_minor": 5
}
