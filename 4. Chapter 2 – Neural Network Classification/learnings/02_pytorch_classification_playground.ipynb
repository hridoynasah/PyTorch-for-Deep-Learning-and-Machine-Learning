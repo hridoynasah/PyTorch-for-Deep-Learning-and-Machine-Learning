{
 "cells": [
  {
   "cell_type": "markdown",
   "id": "c0b278c9",
   "metadata": {},
   "source": [
    "### **1. Make classification and get it ready**"
   ]
  },
  {
   "cell_type": "code",
   "execution_count": 21,
   "id": "a58a34c4",
   "metadata": {},
   "outputs": [],
   "source": [
    "import sklearn\n",
    "\n",
    "from sklearn.datasets import make_circles\n",
    "\n",
    "# Make 1000 samples \n",
    "n_samples = 1010\n",
    "X, y = make_circles(n_samples, noise=0.03, random_state=42)"
   ]
  },
  {
   "cell_type": "code",
   "execution_count": 6,
   "id": "56c49dfa",
   "metadata": {},
   "outputs": [
    {
     "data": {
      "text/plain": [
       "(1010, 1010)"
      ]
     },
     "execution_count": 6,
     "metadata": {},
     "output_type": "execute_result"
    }
   ],
   "source": [
    "len(X), len(y)"
   ]
  },
  {
   "cell_type": "code",
   "execution_count": 22,
   "id": "0840b043",
   "metadata": {},
   "outputs": [
    {
     "name": "stdout",
     "output_type": "stream",
     "text": [
      "First 5 samples of X: \n",
      " [[ 0.04119107  0.769308  ]\n",
      " [-0.67138971 -0.31448208]\n",
      " [-0.49455616  0.63858398]\n",
      " [ 0.80606474  0.12846176]\n",
      " [ 0.78511667  0.23101545]]\n",
      "First 5 samples of y:\n",
      " [1 1 1 1 1]\n"
     ]
    }
   ],
   "source": [
    "print(f'First 5 samples of X: \\n {X[:5]}')\n",
    "print(f'First 5 samples of y:\\n {y[:5]}')"
   ]
  },
  {
   "cell_type": "code",
   "execution_count": 27,
   "id": "48e984e4",
   "metadata": {},
   "outputs": [
    {
     "data": {
      "text/plain": [
       "((1010, 2), (1010,), 2, 1)"
      ]
     },
     "execution_count": 27,
     "metadata": {},
     "output_type": "execute_result"
    }
   ],
   "source": [
    "X.shape, y.shape, X.ndim, y.ndim"
   ]
  },
  {
   "cell_type": "code",
   "execution_count": 33,
   "id": "8c3ec182",
   "metadata": {},
   "outputs": [
    {
     "data": {
      "text/plain": [
       "array([[ 0.04119107,  0.769308  ],\n",
       "       [-0.67138971, -0.31448208],\n",
       "       [-0.49455616,  0.63858398],\n",
       "       [ 0.80606474,  0.12846176],\n",
       "       [ 0.78511667,  0.23101545]])"
      ]
     },
     "execution_count": 33,
     "metadata": {},
     "output_type": "execute_result"
    }
   ],
   "source": [
    "X[:5, :]"
   ]
  },
  {
   "cell_type": "code",
   "execution_count": 34,
   "id": "8bc0dc4d",
   "metadata": {},
   "outputs": [
    {
     "data": {
      "text/plain": [
       "array([[ 0.04119107],\n",
       "       [-0.67138971],\n",
       "       [-0.49455616],\n",
       "       [ 0.80606474],\n",
       "       [ 0.78511667]])"
      ]
     },
     "execution_count": 34,
     "metadata": {},
     "output_type": "execute_result"
    }
   ],
   "source": [
    "X[:5, : 1]"
   ]
  },
  {
   "cell_type": "code",
   "execution_count": 35,
   "id": "b30f5d1e",
   "metadata": {},
   "outputs": [
    {
     "data": {
      "text/plain": [
       "array([[ 0.769308  ],\n",
       "       [-0.31448208],\n",
       "       [ 0.63858398],\n",
       "       [ 0.12846176],\n",
       "       [ 0.23101545]])"
      ]
     },
     "execution_count": 35,
     "metadata": {},
     "output_type": "execute_result"
    }
   ],
   "source": [
    "X[:5, 1:]"
   ]
  },
  {
   "cell_type": "code",
   "execution_count": null,
   "id": "a0e9c04a",
   "metadata": {},
   "outputs": [],
   "source": [
    "# Make DataFrame of circle data\n",
    "import pandas as pd\n",
    "circles = pd.DataFrame({'X1' : X[] \n",
    "                        })"
   ]
  }
 ],
 "metadata": {
  "kernelspec": {
   "display_name": "base",
   "language": "python",
   "name": "python3"
  },
  "language_info": {
   "codemirror_mode": {
    "name": "ipython",
    "version": 3
   },
   "file_extension": ".py",
   "mimetype": "text/x-python",
   "name": "python",
   "nbconvert_exporter": "python",
   "pygments_lexer": "ipython3",
   "version": "3.12.7"
  }
 },
 "nbformat": 4,
 "nbformat_minor": 5
}
