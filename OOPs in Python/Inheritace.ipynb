{
 "cells": [
  {
   "cell_type": "markdown",
   "id": "931a9a08",
   "metadata": {},
   "source": [
    "#### **Inheritance:**\n",
    "- Allows a class to inherit attributes and methods from another class.\n",
    "- Helps with code reusability and extensibility.\n",
    "- It's like parent child relation."
   ]
  },
  {
   "cell_type": "code",
   "execution_count": null,
   "id": "aa5e25ba",
   "metadata": {},
   "outputs": [
    {
     "name": "stdout",
     "output_type": "stream",
     "text": [
      "Name of the animal is: Scooby\n",
      "Is the animal alive? True\n",
      "Scooby is eating.\n",
      "Scooby is sleeping.\n"
     ]
    }
   ],
   "source": [
    "class Animal: # Parent class\n",
    "    def __init__(self, name):\n",
    "        self.name = name\n",
    "        self.is_alive = True\n",
    "    \n",
    "    def eat(self):\n",
    "        print(f\"{self.name} is eating.\")\n",
    "    \n",
    "    def sleep(self):\n",
    "        print(f'{self.name} is sleeping.')\n",
    "\n",
    "class Dog(Animal): # Child class \n",
    "    pass\n",
    "\n",
    "class Cat(Animal): # Child class\n",
    "    pass\n",
    "\n",
    "class Mouse(Animal): # Child class \n",
    "    pass\n",
    "\n",
    "dog = Dog('Scooby')\n",
    "cat = Cat('Garfield')\n",
    "mouse = Mouse('Mickey')\n",
    "\n",
    "print(f'Name of the animal is: {dog.name}')\n",
    "print(f'Is the animal alive? {dog.is_alive}')\n",
    "dog.eat()\n",
    "dog.sleep()"
   ]
  }
 ],
 "metadata": {
  "kernelspec": {
   "display_name": "base",
   "language": "python",
   "name": "python3"
  },
  "language_info": {
   "codemirror_mode": {
    "name": "ipython",
    "version": 3
   },
   "file_extension": ".py",
   "mimetype": "text/x-python",
   "name": "python",
   "nbconvert_exporter": "python",
   "pygments_lexer": "ipython3",
   "version": "3.12.7"
  }
 },
 "nbformat": 4,
 "nbformat_minor": 5
}
