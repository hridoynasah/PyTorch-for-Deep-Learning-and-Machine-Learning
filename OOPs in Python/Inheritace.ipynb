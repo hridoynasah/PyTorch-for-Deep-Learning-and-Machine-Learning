{
 "cells": [
  {
   "cell_type": "markdown",
   "id": "931a9a08",
   "metadata": {},
   "source": [
    "#### **Inheritance:**\n",
    "- Allows a class to inherit attributes and methods from another class.\n",
    "- Helps with code reusability and extensibility.\n",
    "- It's like parent child relation."
   ]
  },
  {
   "cell_type": "code",
   "execution_count": 3,
   "id": "aa5e25ba",
   "metadata": {},
   "outputs": [
    {
     "name": "stdout",
     "output_type": "stream",
     "text": [
      "Name of the animal is: Scooby\n",
      "Is the animal alive? True\n",
      "Scooby is eating.\n",
      "Scooby is sleeping.\n"
     ]
    }
   ],
   "source": [
    "class Animal: # Parent class\n",
    "    def __init__(self, name):\n",
    "        self.name = name\n",
    "        self.is_alive = True\n",
    "    \n",
    "    def eat(self):\n",
    "        print(f\"{self.name} is eating.\")\n",
    "    \n",
    "    def sleep(self):\n",
    "        print(f'{self.name} is sleeping.')\n",
    "\n",
    "class Dog(Animal): # Child class \n",
    "    pass\n",
    "\n",
    "class Cat(Animal): # Child class\n",
    "    pass\n",
    "\n",
    "class Mouse(Animal): # Child class \n",
    "    pass\n",
    "\n",
    "dog = Dog('Scooby')\n",
    "cat = Cat('Garfield')\n",
    "mouse = Mouse('Mickey')\n",
    "\n",
    "print(f'Name of the animal is: {dog.name}')\n",
    "print(f'Is the animal alive? {dog.is_alive}')\n",
    "dog.eat()\n",
    "dog.sleep()"
   ]
  },
  {
   "cell_type": "code",
   "execution_count": null,
   "id": "0102af2e",
   "metadata": {},
   "outputs": [],
   "source": [
    "class Car:\n",
    "    wheels = 4  # Class attribute (shared)\n",
    "\n",
    "    def __init__(self, brand, color):\n",
    "        self.brand = brand      # Instance attribute\n",
    "        self.color = color"
   ]
  },
  {
   "cell_type": "code",
   "execution_count": 4,
   "id": "15ced15d",
   "metadata": {},
   "outputs": [
    {
     "name": "stdout",
     "output_type": "stream",
     "text": [
      "4\n",
      "4\n",
      "6\n",
      "6\n"
     ]
    }
   ],
   "source": [
    "class Car:\n",
    "    wheels = 4  # Class attribute (shared by all instances)\n",
    "\n",
    "    def __init__(self, brand):\n",
    "        self.brand = brand  # Instance attribute\n",
    "\n",
    "# Create two Car objects\n",
    "car1 = Car(\"Toyota\")\n",
    "car2 = Car(\"Honda\")\n",
    "\n",
    "print(car1.wheels)  # Output: 4\n",
    "print(car2.wheels)  # Output: 4\n",
    "\n",
    "# Change the class attribute\n",
    "Car.wheels = 6\n",
    "\n",
    "print(car1.wheels)  # Output: 6 (reflects the change)\n",
    "print(car2.wheels)  # Output: 6 (reflects the change)\n"
   ]
  }
 ],
 "metadata": {
  "kernelspec": {
   "display_name": "base",
   "language": "python",
   "name": "python3"
  },
  "language_info": {
   "codemirror_mode": {
    "name": "ipython",
    "version": 3
   },
   "file_extension": ".py",
   "mimetype": "text/x-python",
   "name": "python",
   "nbconvert_exporter": "python",
   "pygments_lexer": "ipython3",
   "version": "3.12.7"
  }
 },
 "nbformat": 4,
 "nbformat_minor": 5
}
