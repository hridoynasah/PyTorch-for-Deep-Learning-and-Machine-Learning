{
 "cells": [
  {
   "cell_type": "code",
   "execution_count": 1,
   "id": "0dbfb008",
   "metadata": {},
   "outputs": [
    {
     "data": {
      "text/plain": [
       "<__main__.SomeClass at 0x23c343434d0>"
      ]
     },
     "execution_count": 1,
     "metadata": {},
     "output_type": "execute_result"
    }
   ],
   "source": [
    "class SomeClass:\n",
    "    pass # place holder statement that does nothing \n",
    "\n",
    "SomeClass()"
   ]
  },
  {
   "cell_type": "markdown",
   "id": "7c9bccf2",
   "metadata": {},
   "source": [
    ">#### **Class & Initialisers**"
   ]
  },
  {
   "cell_type": "code",
   "execution_count": 2,
   "id": "e94d0265",
   "metadata": {},
   "outputs": [
    {
     "name": "stdout",
     "output_type": "stream",
     "text": [
      "Blue\n",
      "200\n"
     ]
    }
   ],
   "source": [
    "class Car:\n",
    "    def __init__(self, color: str, horsepower: int) -> None:\n",
    "        self.color = color\n",
    "        self.horsepower = horsepower\n",
    "\n",
    "# Creating instance of class Car\n",
    "volvo: Car = Car('Blue', 200)\n",
    "print(volvo.color)\n",
    "print(volvo.horsepower)"
   ]
  },
  {
   "cell_type": "code",
   "execution_count": 3,
   "id": "36cf54b3",
   "metadata": {},
   "outputs": [
    {
     "name": "stdout",
     "output_type": "stream",
     "text": [
      "Black\n",
      "400\n"
     ]
    }
   ],
   "source": [
    "class Car:\n",
    "    def __init__(self, color: str, horsepower: int) -> None:\n",
    "        self.color = color\n",
    "        self.horsepower = horsepower\n",
    "\n",
    "# Creating instance of class Car\n",
    "BMV = Car('Black', 400)\n",
    "print(BMV.color)\n",
    "print(BMV.horsepower)"
   ]
  },
  {
   "cell_type": "markdown",
   "id": "f792613c",
   "metadata": {},
   "source": [
    ">#### **Class & Methods**"
   ]
  },
  {
   "cell_type": "code",
   "execution_count": 4,
   "id": "6394f47b",
   "metadata": {},
   "outputs": [
    {
     "name": "stdout",
     "output_type": "stream",
     "text": [
      "Black is driving!\n",
      "Black with 250 horsepower.\n"
     ]
    }
   ],
   "source": [
    "class Car:\n",
    "    def __init__(self, brand: str, horsepower: int) -> None:\n",
    "        self.brand = brand\n",
    "        self.horsepower = horsepower\n",
    "    \n",
    "    def drive(self) -> None:\n",
    "        print(f'{self.brand} is driving!')\n",
    "    \n",
    "    def get_info(self) -> None:\n",
    "        print(f'{self.brand} with {self.horsepower} horsepower.')\n",
    "\n",
    "\n",
    "volvo : Car = Car('Black', 250)\n",
    "volvo.drive()\n",
    "volvo.get_info()"
   ]
  },
  {
   "cell_type": "code",
   "execution_count": 5,
   "id": "26ec24ed",
   "metadata": {},
   "outputs": [
    {
     "name": "stdout",
     "output_type": "stream",
     "text": [
      "Black is driving!\n",
      "Black with 250 horsepower.\n",
      "It's a 4 wheeler car.\n"
     ]
    }
   ],
   "source": [
    "class Car:\n",
    "    def __init__(self, brand: str, horsepower: int) -> None:\n",
    "        self.brand = brand\n",
    "        self.horsepower = horsepower\n",
    "    \n",
    "    def drive(self) -> None:\n",
    "        print(f'{self.brand} is driving!')\n",
    "    \n",
    "    def get_info(self, wheel: int) -> None:\n",
    "        print(f'{self.brand} with {self.horsepower} horsepower.')\n",
    "        print(f\"It's a {wheel} wheeler car.\")\n",
    "\n",
    "\n",
    "volvo : Car = Car('Black', 250)\n",
    "volvo.drive()\n",
    "volvo.get_info(4)"
   ]
  }
 ],
 "metadata": {
  "kernelspec": {
   "display_name": "base",
   "language": "python",
   "name": "python3"
  },
  "language_info": {
   "codemirror_mode": {
    "name": "ipython",
    "version": 3
   },
   "file_extension": ".py",
   "mimetype": "text/x-python",
   "name": "python",
   "nbconvert_exporter": "python",
   "pygments_lexer": "ipython3",
   "version": "3.12.7"
  }
 },
 "nbformat": 4,
 "nbformat_minor": 5
}
