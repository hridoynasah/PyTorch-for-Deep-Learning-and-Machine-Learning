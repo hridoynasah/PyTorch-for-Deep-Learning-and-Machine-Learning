{
 "cells": [
  {
   "cell_type": "code",
   "execution_count": null,
   "id": "8f7032db",
   "metadata": {},
   "outputs": [],
   "source": [
    "# diff of x**2\n",
    "def dy_dx(x):\n",
    "  return 2*x"
   ]
  },
  {
   "cell_type": "code",
   "execution_count": null,
   "id": "84a197e5",
   "metadata": {},
   "outputs": [],
   "source": [
    "dy_dx(3)"
   ]
  },
  {
   "cell_type": "code",
   "execution_count": null,
   "id": "f46973b5",
   "metadata": {},
   "outputs": [],
   "source": [
    "# using autograd\n",
    "import torch\n",
    "x = torch.tensor(3\n"
   ]
  }
 ],
 "metadata": {
  "kernelspec": {
   "display_name": "Python 3",
   "language": "python",
   "name": "python3"
  },
  "language_info": {
   "name": "python",
   "version": "3.13.6"
  }
 },
 "nbformat": 4,
 "nbformat_minor": 5
}
